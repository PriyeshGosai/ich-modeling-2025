{
 "cells": [
  {
   "cell_type": "markdown",
   "metadata": {},
   "source": [
    "### 📘 Lesson 8: Market Model"
   ]
  },
  {
   "cell_type": "markdown",
   "metadata": {},
   "source": [
    "<div style=\"display: flex; align-items: center; justify-content: space-between;\">\n",
    "  <div>\n",
    "    <h3>Course presenters</h3>\n",
    "    <ul>\n",
    "      <li><strong>Priyesh Gosai</strong> - Energy Systems Modeler and Training Coordinator</li>\n",
    "      <li><strong>Dr. Graeme Chown</strong> - Chown and Associates</li>\n",
    "    </ul>\n",
    "  </div>\n",
    "  <div>\n",
    "    <a href=\"https://openenergytransition.org/index.html\">\n",
    "      <img src=\"https://openenergytransition.org/assets/img/oet-logo-red-n-subtitle.png\" height=\"60\" alt=\"OET\">\n",
    "    </a>\n",
    "  </div>\n",
    "</div>\n"
   ]
  },
  {
   "cell_type": "markdown",
   "metadata": {},
   "source": [
    "#### 🎯 Learning Objectives  \n",
    "\n"
   ]
  },
  {
   "cell_type": "markdown",
   "metadata": {},
   "source": [
    "* Run a demonstration model using real data. \n",
    "* Solve the Day ahead and intra day model. \n",
    "* Analyse the results.\n",
    "\n",
    "---"
   ]
  },
  {
   "cell_type": "code",
   "execution_count": null,
   "metadata": {},
   "outputs": [],
   "source": [
    "from google.colab import drive\n",
    "import os\n",
    "\n",
    "# Mount Google Drive\n",
    "drive.mount('/content/drive')\n",
    "\n",
    "# Set FOLDER and change to the working directory in one step\n",
    "FOLDER = 'ich-modeling-2025'\n",
    "os.chdir(f'/content/drive/MyDrive/{FOLDER}')\n",
    "\n",
    "# Confirm the current working directory\n",
    "print(\"Current working directory:\", os.getcwd())"
   ]
  },
  {
   "cell_type": "markdown",
   "metadata": {},
   "source": [
    "#### 📈 Market Model"
   ]
  },
  {
   "cell_type": "code",
   "execution_count": null,
   "metadata": {},
   "outputs": [],
   "source": [
    "import pypsa\n",
    "import pandas as pd\n",
    "import pathlib\n",
    "pd.options.plotting.backend = 'matplotlib'"
   ]
  },
  {
   "cell_type": "code",
   "execution_count": null,
   "metadata": {},
   "outputs": [],
   "source": [
    "path = pathlib.Path(pathlib.Path.cwd(), \"data\", \"za-multi-node-market_new.xlsx\")\n",
    "network = pypsa.Network(path)\n"
   ]
  },
  {
   "cell_type": "code",
   "execution_count": null,
   "metadata": {},
   "outputs": [],
   "source": [
    "network.plot.explore()"
   ]
  },
  {
   "cell_type": "code",
   "execution_count": null,
   "metadata": {},
   "outputs": [],
   "source": [
    "network.snapshots"
   ]
  },
  {
   "cell_type": "code",
   "execution_count": null,
   "metadata": {},
   "outputs": [],
   "source": [
    "# Define the start date\n",
    "start_date = pd.Timestamp(\"2027-08-06\")  # change as needed\n",
    "\n",
    "# Define the end date (14 days later)\n",
    "end_date = start_date + pd.Timedelta(days=30)\n",
    "\n",
    "# Filter snapshots\n",
    "network.snapshots = network.snapshots[(network.snapshots >= start_date) & (network.snapshots < end_date)]\n"
   ]
  },
  {
   "cell_type": "code",
   "execution_count": null,
   "metadata": {},
   "outputs": [],
   "source": [
    "print(f'Start: {network.snapshots[0]}') # Check first timestamp\n",
    "print(f'End: {network.snapshots[-1]}') # Check second timestamp\n",
    "print(f'Period: {network.snapshots[2] - network.snapshots[1]}') # Check period\n",
    "print(f'Timesteps: {network.snapshots.size}') # Number of timesteps"
   ]
  },
  {
   "cell_type": "code",
   "execution_count": null,
   "metadata": {},
   "outputs": [],
   "source": [
    "network.generators"
   ]
  },
  {
   "cell_type": "markdown",
   "metadata": {},
   "source": [
    "View Generators"
   ]
  },
  {
   "cell_type": "code",
   "execution_count": null,
   "metadata": {},
   "outputs": [],
   "source": [
    "import matplotlib.pyplot as plt\n",
    "\n",
    "# Exclude 'loadshedding', 'solar', and 'wind' generators\n",
    "mask = ~network.generators.carrier.str.lower().isin([\"loadshedding\", \"solar\", \"wind\"])\n",
    "\n",
    "# Attributes to plot\n",
    "attributes = [\n",
    "    (\"p_nom\", \"Generator Capacity [MW]\"),\n",
    "    (\"marginal_cost\", \"Marginal Price [currency/MWh]\"),\n",
    "    (\"p_min_pu\", \"Minimum Power [pu]\"),\n",
    "    (\"ramp_limit_up\", \"Ramp Limit Up/Down [pu]\")\n",
    "]\n",
    "\n",
    "# 1 row, 4 columns, slightly narrower\n",
    "fig, axes = plt.subplots(1, 4, figsize=(10, 8))\n",
    "\n",
    "for i, (ax, (attr, title)) in enumerate(zip(axes, attributes)):\n",
    "    data = network.generators.loc[mask, attr]\n",
    "    data.plot(kind='barh', ax=ax)\n",
    "\n",
    "    ax.set_title(title, fontsize=10)\n",
    "    ax.tick_params(axis='x', labelsize=10)\n",
    "    if i == 0:\n",
    "        ax.tick_params(axis='y', labelsize=10)\n",
    "    else:\n",
    "        ax.set_yticklabels([])\n",
    "        ax.tick_params(axis='y', length=0)  # hide ticks without touching font size\n",
    "\n",
    "    \n",
    "    if i > 0:\n",
    "        ax.set_yticklabels([])\n",
    "        ax.set_ylabel(\"\")\n",
    "    else:\n",
    "        ax.set_ylabel(\"Generator\", fontsize=10)\n",
    "\n",
    "    ax.set_xlabel(attr, fontsize=12)\n",
    "\n",
    "plt.tight_layout()\n",
    "plt.show()\n"
   ]
  },
  {
   "cell_type": "code",
   "execution_count": null,
   "metadata": {},
   "outputs": [],
   "source": [
    "import matplotlib.pyplot as plt\n",
    "\n",
    "# Filter out 'loadshedding' carrier (case-insensitive)\n",
    "gen_filtered = network.generators[~network.generators.carrier.str.lower().str.contains(\"loadshedding\")]\n",
    "\n",
    "# Group generator capacity by carrier\n",
    "carrier_p_nom = gen_filtered.groupby('carrier')['p_nom'].sum()\n",
    "\n",
    "# Plot as pie chart\n",
    "fig, ax = plt.subplots(figsize=(3, 3))\n",
    "carrier_p_nom.plot.pie(\n",
    "    ax=ax,\n",
    "    autopct='%1.1f%%',\n",
    "    startangle=90,\n",
    "    counterclock=False,\n",
    "    ylabel='',              \n",
    "    title='Generator Capacity Share by Carrier'\n",
    ")\n",
    "\n",
    "plt.tight_layout()\n",
    "plt.show()"
   ]
  },
  {
   "cell_type": "code",
   "execution_count": null,
   "metadata": {},
   "outputs": [],
   "source": [
    "import plotly.graph_objects as go\n",
    "\n",
    "# Create a figure\n",
    "fig = go.Figure()\n",
    "\n",
    "# Add a trace for each generator\n",
    "for gen in network.generators_t.p_max_pu.columns:\n",
    "    fig.add_trace(go.Scatter(\n",
    "        x=network.generators_t.p_max_pu.index,\n",
    "        y=network.generators_t.p_max_pu[gen],\n",
    "        mode='lines',\n",
    "        name=gen\n",
    "    ))\n",
    "\n",
    "# Update layout\n",
    "fig.update_layout(\n",
    "    title=\"Maximum Power Output [pu]\",\n",
    "    xaxis_title=\"Time\",\n",
    "    yaxis_title=\"p_max_pu\",\n",
    "    template=\"plotly_white\",\n",
    "    height=600,\n",
    "    width=1000\n",
    ")\n",
    "\n",
    "fig.show()\n"
   ]
  },
  {
   "cell_type": "markdown",
   "metadata": {},
   "source": [
    "Storage unit data"
   ]
  },
  {
   "cell_type": "code",
   "execution_count": null,
   "metadata": {},
   "outputs": [],
   "source": [
    "import matplotlib.pyplot as plt\n",
    "\n",
    "# Attributes to plot for storage units\n",
    "attributes = [\n",
    "    (\"p_nom\", \"Storage Power Capacity [MW]\"),\n",
    "    (\"max_hours\", \"Storage Duration [h]\"),\n",
    "    (\"efficiency_store\", \"Charging Efficiency\"),\n",
    "    (\"efficiency_dispatch\", \"Discharging Efficiency\")\n",
    "]\n",
    "\n",
    "fig, axes = plt.subplots(1, 4, figsize=(10, 3))\n",
    "\n",
    "for i, (ax, (attr, title)) in enumerate(zip(axes, attributes)):\n",
    "    data = network.storage_units[attr]\n",
    "    data.plot(kind='barh', ax=ax)\n",
    "\n",
    "    ax.set_title(title, fontsize=12)\n",
    "    ax.set_xlabel(attr, fontsize=12)\n",
    "    ax.tick_params(axis='x', labelsize=12)\n",
    "\n",
    "    if i > 0:\n",
    "        ax.set_yticklabels([])\n",
    "        ax.set_ylabel(\"\")\n",
    "        ax.tick_params(axis='y', length=0)  # hide y-axis ticks\n",
    "    else:\n",
    "        ax.set_ylabel(\"Storage Unit\", fontsize=12)\n",
    "        ax.tick_params(axis='y', labelsize=12)\n",
    "\n",
    "plt.tight_layout()\n",
    "plt.show()\n"
   ]
  },
  {
   "cell_type": "code",
   "execution_count": null,
   "metadata": {},
   "outputs": [],
   "source": [
    "import plotly.graph_objects as go\n",
    "\n",
    "# Create Plotly figure\n",
    "fig = go.Figure()\n",
    "\n",
    "# Add a line for each load\n",
    "for load in network.loads_t.p_set.columns:\n",
    "    fig.add_trace(go.Scatter(\n",
    "        x=network.loads_t.p_set.index,\n",
    "        y=network.loads_t.p_set[load],\n",
    "        mode='lines',\n",
    "        name=load\n",
    "    ))\n",
    "\n",
    "# Update layout\n",
    "fig.update_layout(\n",
    "    title=\"Load Demand\",\n",
    "    xaxis_title=\"Time [h]\",\n",
    "    yaxis_title=\"Load Demand [MW]\",\n",
    "    template=\"plotly_white\",\n",
    "    height=600,\n",
    "    width=1000\n",
    ")\n",
    "\n",
    "fig.show()\n"
   ]
  },
  {
   "cell_type": "code",
   "execution_count": null,
   "metadata": {},
   "outputs": [],
   "source": [
    "\n",
    "network_node = network.copy()\n",
    "# 1. Add a bus called 'South Africa' with carrier 'AC'\n",
    "network_node.add(\"Bus\", \"South Africa\", carrier=\"AC\",x = 38.89780152023916, y = -77.03626158211897)\n",
    "\n",
    "\n",
    "# 2. Remove all links and lines\n",
    "network_node.links.drop(network_node.links.index, inplace=True)\n",
    "network_node.lines.drop(network_node.lines.index, inplace=True)\n",
    "\n",
    "# 3. Replace the bus for all generators and storage units to be 'South Africa'\n",
    "network_node.generators['bus'] = 'South Africa'\n",
    "network_node.storage_units['bus'] = 'South Africa'\n",
    "network_node.loads['bus'] = 'South Africa'\n",
    "# 4. Remove all other buses except 'South Africa'\n",
    "buses_to_keep = ['South Africa']\n",
    "buses_to_drop = network_node.buses.index.difference(buses_to_keep)\n",
    "network_node.buses.drop(buses_to_drop, inplace=True)"
   ]
  },
  {
   "cell_type": "code",
   "execution_count": null,
   "metadata": {},
   "outputs": [],
   "source": [
    "network.optimize()"
   ]
  },
  {
   "cell_type": "code",
   "execution_count": null,
   "metadata": {},
   "outputs": [],
   "source": [
    "# network.optimize.optimize_with_rolling_horizon(horizon=24,overlap=0)"
   ]
  },
  {
   "cell_type": "markdown",
   "metadata": {},
   "source": [
    "View results\n"
   ]
  },
  {
   "cell_type": "code",
   "execution_count": null,
   "metadata": {},
   "outputs": [],
   "source": [
    "# Change plotting options to use the plotly toolbox for interactive plots\n",
    "pd.options.plotting.backend = 'plotly'"
   ]
  },
  {
   "cell_type": "code",
   "execution_count": null,
   "metadata": {},
   "outputs": [],
   "source": [
    "network.loads_t.p_set.plot()"
   ]
  },
  {
   "cell_type": "code",
   "execution_count": null,
   "metadata": {},
   "outputs": [],
   "source": [
    "network.generators_t.p.plot()"
   ]
  },
  {
   "cell_type": "code",
   "execution_count": null,
   "metadata": {},
   "outputs": [],
   "source": [
    "network.links_t.p0.plot()"
   ]
  },
  {
   "cell_type": "markdown",
   "metadata": {},
   "source": [
    "Generator Dispatch"
   ]
  },
  {
   "cell_type": "code",
   "execution_count": null,
   "metadata": {},
   "outputs": [],
   "source": [
    "import matplotlib.pyplot as plt\n",
    "\n",
    "# Filter generator names containing 'loadshedding' (case-insensitive)\n",
    "loadshedding_generators = [gen for gen in network.generators.index if 'loadshedding' in gen.lower()]\n",
    "\n",
    "\n",
    "network.generators_t.p[loadshedding_generators].plot(title=\"Loadshedding Generators Output\")\n",
    "\n"
   ]
  },
  {
   "cell_type": "code",
   "execution_count": null,
   "metadata": {},
   "outputs": [],
   "source": [
    "# network.generators_t.p[\"Loadshedding\"].sum()\n"
   ]
  },
  {
   "cell_type": "code",
   "execution_count": null,
   "metadata": {},
   "outputs": [],
   "source": [
    "network.generators_t.p.describe()"
   ]
  },
  {
   "cell_type": "code",
   "execution_count": null,
   "metadata": {},
   "outputs": [],
   "source": [
    "network.storage_units_t.state_of_charge.plot()"
   ]
  },
  {
   "cell_type": "code",
   "execution_count": null,
   "metadata": {},
   "outputs": [],
   "source": [
    "network.storage_units_t.p.plot()"
   ]
  },
  {
   "cell_type": "code",
   "execution_count": null,
   "metadata": {},
   "outputs": [],
   "source": [
    "import pandas as pd\n",
    "\n",
    "# Assume your network is called 'network'\n",
    "# 1. Merge generator power time series with generator attributes\n",
    "gen_p = network.generators_t.p.copy()\n",
    "gen_p['carrier'] = network.generators.carrier\n",
    "\n",
    "# 2. Sum across time\n",
    "total_energy_per_generator = gen_p.drop(columns=\"carrier\").sum()\n",
    "\n",
    "# 3. Map generators to carriers\n",
    "carrier_map = network.generators.carrier\n",
    "total_energy_per_carrier = total_energy_per_generator.groupby(carrier_map).sum()\n",
    "\n",
    "print(total_energy_per_carrier)\n"
   ]
  },
  {
   "cell_type": "code",
   "execution_count": null,
   "metadata": {},
   "outputs": [],
   "source": [
    "network.generators_t.p.plot()"
   ]
  },
  {
   "cell_type": "code",
   "execution_count": null,
   "metadata": {},
   "outputs": [],
   "source": [
    "import plotly.graph_objects as go\n",
    "\n",
    "# 1. Map generators to their carrier\n",
    "carrier_map = network.generators.carrier\n",
    "\n",
    "# 2. Group actual production per snapshot\n",
    "power_per_carrier_per_snapshot = network.generators_t.p.T.groupby(carrier_map).sum().T\n",
    "\n",
    "\n",
    "# 3. Calculate installed capacity for specific carriers\n",
    "carrier_capacities = network.generators.groupby('carrier').p_nom.sum()\n",
    "\n",
    "# 4. Start building the figure\n",
    "fig = go.Figure()\n",
    "\n",
    "# 5. Add traces for each carrier's production\n",
    "for carrier in power_per_carrier_per_snapshot.columns:\n",
    "    fig.add_trace(go.Scatter(\n",
    "        x=power_per_carrier_per_snapshot.index,\n",
    "        y=power_per_carrier_per_snapshot[carrier],\n",
    "        mode='lines',\n",
    "        name=carrier\n",
    "    ))\n",
    "\n",
    "# 6. Add horizontal lines for coal, nuclear, oil capacities\n",
    "for selected_carrier in ['coal', 'nuclear', 'oil']:\n",
    "    if selected_carrier in carrier_capacities.index:\n",
    "        capacity = carrier_capacities[selected_carrier]\n",
    "        fig.add_trace(go.Scatter(\n",
    "            x=[power_per_carrier_per_snapshot.index.min(), power_per_carrier_per_snapshot.index.max()],\n",
    "            y=[capacity, capacity],\n",
    "            mode='lines',\n",
    "            name=f\"{selected_carrier} capacity ({capacity:.0f} MW)\",\n",
    "            line=dict(dash='dash')  # dashed line\n",
    "        ))\n",
    "\n",
    "# 7. Layout settings\n",
    "fig.update_layout(\n",
    "    title=\"Power Production by Carrier with Installed Capacities\",\n",
    "    xaxis_title=\"Time\",\n",
    "    yaxis_title=\"Power [MW]\",\n",
    "    legend_title=\"Carriers and Capacities\",\n",
    "    template=\"plotly_white\",\n",
    "    height=600\n",
    ")\n",
    "\n",
    "fig.show()"
   ]
  },
  {
   "cell_type": "code",
   "execution_count": null,
   "metadata": {},
   "outputs": [],
   "source": [
    "network.generators_t.p.plot(kind=\"area\")"
   ]
  },
  {
   "cell_type": "code",
   "execution_count": null,
   "metadata": {},
   "outputs": [],
   "source": [
    "network.storage_units_t.p.plot(kind=\"area\")"
   ]
  },
  {
   "cell_type": "code",
   "execution_count": null,
   "metadata": {},
   "outputs": [],
   "source": [
    "# Copy the storage p dataframe\n",
    "storage_p = network.storage_units_t.p.copy()\n",
    "\n",
    "# Create two new DataFrames for dispatch and charge\n",
    "storage_dispatch = storage_p.clip(lower=0)  # Keep only positive (discharge)\n",
    "storage_charge = (storage_p.clip(upper=0))  # Flip sign for charging\n",
    "\n",
    "# Rename the indices to distinguish\n",
    "storage_dispatch.index.name = 'snapshot'\n",
    "storage_dispatch.columns = [f\"{col} dispatch\" for col in storage_dispatch.columns]\n",
    "\n",
    "storage_charge.index.name = 'snapshot'\n",
    "storage_charge.columns = [f\"{col} charge\" for col in storage_charge.columns]\n",
    "\n",
    "# Now, bring in the generator p\n",
    "generator_p = network.generators_t.p.copy()\n",
    "generator_p.index.name = 'snapshot'\n",
    "\n",
    "# Concatenate everything\n",
    "combined_df = pd.concat([generator_p, storage_dispatch, storage_charge], axis=1)\n",
    "\n",
    "# Optional: sort columns if you want it tidy\n",
    "combined_df = combined_df.sort_index(axis=1)\n",
    "\n"
   ]
  },
  {
   "cell_type": "code",
   "execution_count": null,
   "metadata": {},
   "outputs": [],
   "source": [
    "combined_df.plot(kind=\"area\", title=\"Power Production and Storage Dispatch/Charge\")"
   ]
  },
  {
   "cell_type": "code",
   "execution_count": null,
   "metadata": {},
   "outputs": [],
   "source": [
    "combined_df.columns"
   ]
  },
  {
   "cell_type": "code",
   "execution_count": null,
   "metadata": {},
   "outputs": [],
   "source": [
    "# 1. Generators with \"loadshedding\" in the name (case-insensitive)\n",
    "loadshedding_generators = [\n",
    "    gen for gen in network.generators.index if \"loadshedding\" in gen.lower()\n",
    "]\n",
    "\n",
    "# 2. Storage dispatch names\n",
    "storage_dispatch_names = [f\"{name} dispatch\" for name in network.storage_units.index]\n",
    "\n",
    "# 3. Generators sorted by marginal cost, excluding loadshedding\n",
    "non_loadshedding_generators = (\n",
    "    network.generators[~network.generators.index.str.lower().str.contains(\"loadshedding\")]\n",
    "    .sort_values(by=\"marginal_cost\", ascending=False)\n",
    "    .index.tolist()\n",
    ")\n",
    "\n",
    "# 4. Storage charge names\n",
    "storage_charge_names = [f\"{name} charge\" for name in network.storage_units.index]\n",
    "\n",
    "# Combine all parts\n",
    "plot_order = loadshedding_generators + storage_dispatch_names + non_loadshedding_generators + storage_charge_names\n",
    "\n",
    "plot_order = plot_order[::-1]\n"
   ]
  },
  {
   "cell_type": "code",
   "execution_count": null,
   "metadata": {},
   "outputs": [],
   "source": [
    "plot_order"
   ]
  },
  {
   "cell_type": "code",
   "execution_count": null,
   "metadata": {},
   "outputs": [],
   "source": [
    "# Reorder the combined_df\n",
    "# Drop missing ones first to avoid KeyError if any label doesn't exist\n",
    "columns_in_df = [col for col in plot_order if col in combined_df.columns]\n",
    "\n",
    "combined_df = combined_df[columns_in_df]\n"
   ]
  },
  {
   "cell_type": "code",
   "execution_count": null,
   "metadata": {},
   "outputs": [],
   "source": [
    "import plotly.graph_objects as go\n",
    "\n",
    "fig = go.Figure()\n",
    "\n",
    "for col in combined_df.columns:\n",
    "    fig.add_trace(go.Scatter(\n",
    "        x=combined_df.index,\n",
    "        y=combined_df[col],\n",
    "        mode='lines',\n",
    "        stackgroup='one',\n",
    "        name=col\n",
    "    ))\n",
    "\n",
    "fig.update_layout(\n",
    "    title=\"Stacked Area Plot\",\n",
    "    xaxis_title=\"Time\",\n",
    "    yaxis_title=\"Power [MW]\",\n",
    "    legend_title=\"Units\",\n",
    "    # hovermode=\"x unified\"\n",
    ")\n",
    "\n",
    "fig.show()\n"
   ]
  },
  {
   "cell_type": "code",
   "execution_count": null,
   "metadata": {},
   "outputs": [],
   "source": [
    "network.storage_units_t.p.plot()"
   ]
  },
  {
   "cell_type": "markdown",
   "metadata": {},
   "source": [
    "Marginal Price"
   ]
  },
  {
   "cell_type": "code",
   "execution_count": null,
   "metadata": {},
   "outputs": [],
   "source": [
    "\n",
    "\n",
    "# Generator marginal costs\n",
    "marginal_costs = network.generators.marginal_cost\n",
    "\n",
    "# Generator dispatch [MW]\n",
    "dispatch = network.generators_t.p\n",
    "\n",
    "# Step 1: Compute market price at each timestep\n",
    "def compute_market_price(dispatch_df, mc_series):\n",
    "    prices = []\n",
    "    for ts, row in dispatch_df.iterrows():\n",
    "        dispatched = row[row > 0].index\n",
    "        if dispatched.empty:\n",
    "            prices.append(0)  # or np.nan\n",
    "        else:\n",
    "            prices.append(mc_series[dispatched].max())\n",
    "    return pd.Series(prices, index=dispatch_df.index, name=\"market_price\")\n",
    "\n",
    "\n",
    "market_price = compute_market_price(dispatch, marginal_costs)"
   ]
  },
  {
   "cell_type": "code",
   "execution_count": null,
   "metadata": {},
   "outputs": [],
   "source": [
    "market_price.plot()"
   ]
  },
  {
   "cell_type": "markdown",
   "metadata": {},
   "source": [
    "Revenue"
   ]
  },
  {
   "cell_type": "code",
   "execution_count": null,
   "metadata": {},
   "outputs": [],
   "source": [
    "\n",
    "\n",
    "# Step 2: Multiply dispatch by market price to get generator revenues at each timestep\n",
    "revenue_per_generator_per_timestep = dispatch.mul(market_price, axis=0)\n",
    "\n",
    "# Step 3: Sum over time to get total revenue per generator\n",
    "total_revenue = revenue_per_generator_per_timestep.sum()\n",
    "\n",
    "# Display or export\n",
    "print(total_revenue.sort_values(ascending=False))\n",
    "# total_revenue.to_csv(\"generator_revenue.csv\")"
   ]
  },
  {
   "cell_type": "markdown",
   "metadata": {},
   "source": [
    "###\n",
    "---"
   ]
  }
 ],
 "metadata": {
  "kernelspec": {
   "display_name": "mec4131z-env",
   "language": "python",
   "name": "python3"
  },
  "language_info": {
   "codemirror_mode": {
    "name": "ipython",
    "version": 3
   },
   "file_extension": ".py",
   "mimetype": "text/x-python",
   "name": "python",
   "nbconvert_exporter": "python",
   "pygments_lexer": "ipython3",
   "version": "3.12.10"
  }
 },
 "nbformat": 4,
 "nbformat_minor": 2
}
