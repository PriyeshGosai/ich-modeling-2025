{
 "cells": [
  {
   "cell_type": "markdown",
   "id": "18725f06-9dcd-4b99-b673-4b920c86b05f",
   "metadata": {},
   "source": [
    "### 📘 Lesson 4: Introduction to GeoPandas"
   ]
  },
  {
   "cell_type": "markdown",
   "id": "658a2181",
   "metadata": {},
   "source": [
    "<div style=\"display: flex; align-items: center; justify-content: space-between;\">\n",
    "  <div>\n",
    "    <h3>Notebook Developers</h3>\n",
    "    <ul>\n",
    "      <li><strong>Dr. Fabrizio Finozzi</strong> - Big Data Software Developer</li>\n",
    "      <li><strong>Priyesh Gosai</strong> - Energy Systems Modeler and Training Coordinator</li>\n",
    "    </ul>\n",
    "  </div>\n",
    "  <div>\n",
    "    <a href=\"https://openenergytransition.org/index.html\">\n",
    "      <img src=\"https://openenergytransition.org/assets/img/oet-logo-red-n-subtitle.png\" height=\"60\" alt=\"OET\">\n",
    "    </a>\n",
    "  </div>\n",
    "</div>"
   ]
  },
  {
   "cell_type": "markdown",
   "id": "e325c392",
   "metadata": {},
   "source": [
    "##### 🎯 Learning Objectives  \n",
    "\n",
    "* Understand the fundamentals of GeoPandas and its role in geospatial data analysis.\n",
    "* Explore and analyze the core data structures used in GeoPandas for handling spatial data.\n",
    "* Learn how to process, manipulate, and visualize geospatial information using GeoPandas."
   ]
  },
  {
   "cell_type": "code",
   "execution_count": null,
   "id": "7ed36746",
   "metadata": {},
   "outputs": [],
   "source": [
    "from google.colab import drive\n",
    "import os\n",
    "\n",
    "# Mount Google Drive\n",
    "drive.mount('/content/drive')\n",
    "\n",
    "# Set FOLDER and change to the working directory in one step\n",
    "FOLDER = 'ich-modeling-2025'\n",
    "os.chdir(f'/content/drive/MyDrive/{FOLDER}')\n",
    "\n",
    "# Confirm the current working directory\n",
    "print(\"Current working directory:\", os.getcwd())\n"
   ]
  },
  {
   "cell_type": "markdown",
   "id": "62424ba8-6a29-4261-a87a-8c81b2bb5af6",
   "metadata": {},
   "source": [
    "### What is GeoPandas\n",
    "---"
   ]
  },
  {
   "cell_type": "markdown",
   "id": "8a785067",
   "metadata": {},
   "source": [
    "\n",
    "GeoPandas extends the functionalities of Pandas to geospatial data, which is time-based data that is related to a location on the surface of Earth."
   ]
  },
  {
   "cell_type": "markdown",
   "id": "ece7f11d-2778-47f9-b385-efc13dbfc6db",
   "metadata": {},
   "source": [
    "#### Data structure\n",
    "\n",
    "The basic data structure provided by GeoPandas are `GeoSeries` and `GeoDataFrame`. A `GeoDataFrame` is a subclass of Pandas `DataFrame`, that can store geometry columns and perform spatial operations. The basic structure of `GeoDataFrame` is shown below\n",
    "\n",
    "<img src=\"images/geodataframe.png\" width=\"500\">\n"
   ]
  },
  {
   "cell_type": "markdown",
   "id": "7c6ffdca-4f1a-4c9e-a02f-93a97480d78a",
   "metadata": {},
   "source": [
    "There are two main `models` (i.e. a simplified version of the represented objects) for storing geospatial data\n",
    "- vector\n",
    "- raster\n",
    "\n",
    "#### Vector\n",
    "\n",
    "A `vector` data model stores locations as discrete geometric objects. The ones available are shown in the image below taken from this [link](https://r-spatial.org/book/03-Geometries.html). For example, a `POINT()` is represented by a longitude and latitude coordinate pair, whereas a `POLYGON` is a set of `POINT()` that delimit a closed area.\n",
    "\n",
    "\n",
    "<img src=\"images/geometry.png\" width=\"500\">\n",
    "\n",
    "Areas are occasionally represented with a `centroid`, which is the point that is mathematically equidistant from all points of the area.\n",
    "\n",
    "#### Raster\n",
    "\n",
    "Raster data is instead stored on a grid of pixels. Each pixel encodes the necessary properties that characterize the given area, as elevation or temperature."
   ]
  },
  {
   "cell_type": "markdown",
   "id": "6ce0e35f-14b3-4f07-9488-d389d83454c1",
   "metadata": {},
   "source": [
    "#### Working with geospatial information\n",
    "\n",
    "Geospatial information are usually contained in files with format `GeoPackage`, `GeoJSON` or `Shapefile`. Such files can be read in with the command below. \n",
    "\n",
    "The command detects the filetype and reads the data into a `GeoDataFrame`. The file below contains the shapes of all countries taken from [Natural Earth](https://www.naturalearthdata.com/downloads/110m-cultural-vectors/).\n",
    "\n",
    "\n",
    "Natural Earth is a public domain map dataset available at 1:10m, 1:50m, and 1:110 million scales. Featuring tightly integrated vector and raster data, with Natural Earth you can make a variety of visually pleasing, well-crafted maps with cartography or GIS software."
   ]
  },
  {
   "cell_type": "markdown",
   "id": "a8152406",
   "metadata": {},
   "source": [
    "### Mapping SAPP\n",
    "---"
   ]
  },
  {
   "cell_type": "code",
   "execution_count": null,
   "id": "335cf65d-6f3f-46fb-8382-c4107530c29a",
   "metadata": {},
   "outputs": [],
   "source": [
    "import geopandas as gpd\n",
    "from shapely.geometry import Point\n",
    "import folium\n",
    "from folium.plugins import MarkerCluster\n",
    "import pathlib\n",
    "import pandas as pd\n",
    "import matplotlib.pyplot as plt\n",
    "from geopy.distance import geodesic\n"
   ]
  },
  {
   "cell_type": "code",
   "execution_count": null,
   "id": "c1efe380",
   "metadata": {},
   "outputs": [],
   "source": [
    "# Load the shapefile\n",
    "shape_file_path = pathlib.Path(pathlib.Path.cwd(), \"shapes\", \"ne_110m_admin_0_countries.shp\")\n",
    "gdf = gpd.read_file(shape_file_path)\n"
   ]
  },
  {
   "cell_type": "markdown",
   "id": "8e6795e3",
   "metadata": {},
   "source": [
    "Lets look at the `gdf` object contains a variety of data for each country. "
   ]
  },
  {
   "cell_type": "code",
   "execution_count": null,
   "id": "7c7717c6",
   "metadata": {},
   "outputs": [],
   "source": [
    "for i in range(len(gdf.columns)):\n",
    "    print(f\"{gdf.columns[i]}\")"
   ]
  },
  {
   "cell_type": "markdown",
   "id": "9aae2508",
   "metadata": {},
   "source": [
    "The `gdf` object is a dataframe containing a variety of data related to each country. \n",
    "\n",
    "* Population \n",
    "* GDP \n",
    "* ISO Code names \n",
    "* ... and many more.\n",
    "\n",
    "We can see all the countries in Africa represented in the data set. "
   ]
  },
  {
   "cell_type": "code",
   "execution_count": null,
   "id": "f032235a",
   "metadata": {},
   "outputs": [],
   "source": [
    "gdf[['NAME','POP_EST','GDP_MD','ISO_A2','CONTINENT']]"
   ]
  },
  {
   "cell_type": "markdown",
   "id": "da46cc99",
   "metadata": {},
   "source": [
    "We can filter countries by any column."
   ]
  },
  {
   "cell_type": "code",
   "execution_count": null,
   "id": "82ee80eb",
   "metadata": {},
   "outputs": [],
   "source": [
    "print(gdf[gdf[\"CONTINENT\"] == \"Africa\"][\"NAME\"].unique())\n"
   ]
  },
  {
   "cell_type": "markdown",
   "id": "be02dae5",
   "metadata": {},
   "source": [
    "Now lets look at Zimbabwe. "
   ]
  },
  {
   "cell_type": "code",
   "execution_count": null,
   "id": "305d2242",
   "metadata": {},
   "outputs": [],
   "source": [
    "zw_gdf = gdf[gdf[\"NAME\"] == \"Zimbabwe\"]"
   ]
  },
  {
   "cell_type": "markdown",
   "id": "cad0a542",
   "metadata": {},
   "source": [
    "If we look at the geometry of Zimbabwe, we can see that it is a polygon with multiple parts."
   ]
  },
  {
   "cell_type": "code",
   "execution_count": null,
   "id": "3aca96b8",
   "metadata": {},
   "outputs": [],
   "source": [
    "zw_gdf[[\"NAME\", \"geometry\"]]"
   ]
  },
  {
   "cell_type": "markdown",
   "id": "7e56ba1a",
   "metadata": {},
   "source": [
    "We can plot the geometry. "
   ]
  },
  {
   "cell_type": "code",
   "execution_count": null,
   "id": "b3a07b5a",
   "metadata": {},
   "outputs": [],
   "source": [
    "zw_gdf.plot()"
   ]
  },
  {
   "cell_type": "markdown",
   "id": "e9e075d8",
   "metadata": {},
   "source": [
    "We can also define a list of countries such as each power pool. "
   ]
  },
  {
   "cell_type": "code",
   "execution_count": null,
   "id": "4004b323",
   "metadata": {},
   "outputs": [],
   "source": [
    "# Define SAPP countries\n",
    "sapp_countries = [\n",
    "    \"Angolimport pandas as pda\", \"Botswana\", \"Democratic Republic of the Congo\", \"Eswatini\", \"Lesotho\",\n",
    "    \"Malawi\", \"Mozambique\", \"Namibia\", \"South Africa\", \"Tanzania\", \"Zambia\", \"Zimbabwe\"\n",
    "]\n"
   ]
  },
  {
   "cell_type": "code",
   "execution_count": null,
   "id": "23fa3912",
   "metadata": {},
   "outputs": [],
   "source": [
    "sapp_gdf = gdf[gdf['NAME'].isin(sapp_countries)]"
   ]
  },
  {
   "cell_type": "markdown",
   "id": "89a7da91",
   "metadata": {},
   "source": [
    "We can plot the polygons. "
   ]
  },
  {
   "cell_type": "code",
   "execution_count": null,
   "id": "a1510ee0",
   "metadata": {},
   "outputs": [],
   "source": [
    "sapp_gdf.plot(column=\"NAME\", cmap=\"tab20\", edgecolor=\"black\", figsize=(10, 10))\n"
   ]
  },
  {
   "cell_type": "markdown",
   "id": "7d49fbdd",
   "metadata": {},
   "source": [
    "Or color the countries by shape. "
   ]
  },
  {
   "cell_type": "code",
   "execution_count": null,
   "id": "bf1958c7",
   "metadata": {},
   "outputs": [],
   "source": [
    "sapp_gdf.plot(column=\"POP_EST\", cmap=\"OrRd\", edgecolor=\"black\", figsize=(10, 10), legend=True)\n"
   ]
  },
  {
   "cell_type": "markdown",
   "id": "9e50f590",
   "metadata": {},
   "source": [
    "We have created three objects for each power pool. "
   ]
  },
  {
   "cell_type": "markdown",
   "id": "3b01e1ae",
   "metadata": {},
   "source": [
    "The next task is to overlay all the power plants in the region. \n",
    "\n",
    "So we import a dataset of power plants. "
   ]
  },
  {
   "cell_type": "code",
   "execution_count": null,
   "id": "3c550b64",
   "metadata": {},
   "outputs": [],
   "source": [
    "plant_data = pathlib.Path(pathlib.Path.cwd(), \"data\", \"powerplants.csv\")\n",
    "\n",
    "df_power_plant = pd.read_csv(plant_data,index_col=0)"
   ]
  },
  {
   "cell_type": "code",
   "execution_count": null,
   "id": "b4c86a22",
   "metadata": {},
   "outputs": [],
   "source": [
    "df_power_plant.head()"
   ]
  },
  {
   "cell_type": "code",
   "execution_count": null,
   "id": "afdf419d",
   "metadata": {},
   "outputs": [],
   "source": [
    "# Convert df_power_plant to GeoDataFrame\n",
    "gdf_power_plants = gpd.GeoDataFrame(\n",
    "    df_power_plant,\n",
    "    geometry=gpd.points_from_xy(df_power_plant[\"lon\"], df_power_plant[\"lat\"]),\n",
    "    crs=\"EPSG:4326\"\n",
    ")\n",
    "\n",
    "# Spatial join: filter plants within SAPP region\n",
    "plants_in_sapp = gpd.sjoin(gdf_power_plants, sapp_gdf, how=\"inner\", predicate=\"within\")\n"
   ]
  },
  {
   "cell_type": "code",
   "execution_count": null,
   "id": "1285ebb6",
   "metadata": {},
   "outputs": [],
   "source": [
    "plants_in_sapp "
   ]
  },
  {
   "cell_type": "code",
   "execution_count": null,
   "id": "a21c0d2a",
   "metadata": {},
   "outputs": [],
   "source": [
    "# Plot map\n",
    "ax = sapp_gdf.plot(column=\"NAME\", cmap=\"tab20\", edgecolor=\"black\", figsize=(10, 10), legend=True)\n",
    "plants_in_sapp.plot(ax=ax, color=\"red\", markersize=20)\n",
    "\n",
    "# Improve appearance\n",
    "plt.title(\"SAPP Region with Power Plants\", fontsize=14)\n",
    "plt.axis(\"off\")\n",
    "plt.show()\n"
   ]
  },
  {
   "cell_type": "code",
   "execution_count": null,
   "id": "c20fddd9",
   "metadata": {},
   "outputs": [],
   "source": [
    "# Set up plot\n",
    "fig, ax = plt.subplots(figsize=(10, 10))\n",
    "\n",
    "# Plot SAPP countries\n",
    "sapp_gdf.plot(column=\"NAME\", cmap=\"tab20\", edgecolor=\"black\", ax=ax, legend=False)\n",
    "\n",
    "# Normalize capacity for dot size (adjust scale if needed)\n",
    "size = plants_in_sapp[\"Capacity\"] / plants_in_sapp[\"Capacity\"].max() * 1000\n",
    "\n",
    "# Plot power plants: size by capacity, color by technology\n",
    "plants_in_sapp.plot(\n",
    "    ax=ax,\n",
    "    column=\"Technology\",       # Color by technology type\n",
    "    markersize=size,\n",
    "    alpha=0.5,\n",
    "    legend=True\n",
    ")\n",
    "\n",
    "# Final touches\n",
    "plt.title(\"SAPP Power Plants by Technology and Capacity\", fontsize=14)\n",
    "plt.axis(\"off\")\n",
    "plt.show()\n"
   ]
  },
  {
   "cell_type": "code",
   "execution_count": null,
   "id": "a54d7c2f",
   "metadata": {},
   "outputs": [],
   "source": [
    "def distance_between_plants(df, plant_name_1, plant_name_2):\n",
    "    \"\"\"\n",
    "    Calculate the geodesic distance between two power plants by their names.\n",
    "\n",
    "    Parameters:\n",
    "        df (DataFrame): The DataFrame or GeoDataFrame with 'Name', 'latitude', and 'longitude'.\n",
    "        plant_name_1 (str): Name of the first power plant.\n",
    "        plant_name_2 (str): Name of the second power plant.\n",
    "\n",
    "    Returns:\n",
    "        float: Distance in kilometers between the two plants.\n",
    "    \"\"\"\n",
    "    try:\n",
    "        # Get coordinates of both plants\n",
    "        p1 = df[df[\"Name\"] == plant_name_1].iloc[0]\n",
    "        p2 = df[df[\"Name\"] == plant_name_2].iloc[0]\n",
    "        \n",
    "        coord1 = (p1[\"lat\"], p1[\"lon\"])\n",
    "        coord2 = (p2[\"lat\"], p2[\"lon\"])\n",
    "\n",
    "        return geodesic(coord1, coord2).kilometers\n",
    "    \n",
    "    except IndexError:\n",
    "        raise ValueError(\"One or both plant names not found in the dataset.\")\n"
   ]
  },
  {
   "cell_type": "code",
   "execution_count": null,
   "id": "cffea61e",
   "metadata": {},
   "outputs": [],
   "source": [
    "dist_km = distance_between_plants(plants_in_sapp, \"Koeberg\", \"Duvha\")\n",
    "print(f\"Distance: {dist_km:.2f} km\")\n"
   ]
  },
  {
   "cell_type": "code",
   "execution_count": null,
   "id": "e0f5ff90",
   "metadata": {},
   "outputs": [],
   "source": [
    "# Reproject to a projected CRS before calculating centroids\n",
    "sapp_gdf_proj = sapp_gdf.to_crs(epsg=3395)  # World Mercator\n",
    "center_lat = sapp_gdf_proj.geometry.centroid.to_crs(epsg=4326).y.mean()\n",
    "center_lon = sapp_gdf_proj.geometry.centroid.to_crs(epsg=4326).x.mean()\n",
    "\n",
    "\n",
    "\n",
    "m = folium.Map(\n",
    "    location=[center_lat, center_lon],\n",
    "    zoom_start=4,\n",
    "    min_zoom=3,\n",
    "    max_zoom=6,\n",
    "    max_bounds=True\n",
    ")\n",
    "\n",
    "folium.GeoJson(\n",
    "    sapp_gdf,\n",
    "    name=\"SAPP Countries\",\n",
    "    style_function=lambda x: {\n",
    "        \"fillColor\": \"#cccccc\",\n",
    "        \"color\": \"black\",\n",
    "        \"weight\": 1,\n",
    "        \"fillOpacity\": 0.3\n",
    "    },\n",
    "    tooltip=folium.GeoJsonTooltip(fields=[\"NAME\"], aliases=[\"Country:\"])\n",
    ").add_to(m)\n",
    "\n",
    "tooltip_columns = [\"Name\", \"Technology\", \"Capacity\"]\n",
    "marker_cluster = MarkerCluster(name=\"Power Plants\").add_to(m)\n",
    "\n",
    "# Normalize capacity for marker size\n",
    "cap_norm = plants_in_sapp[\"Capacity\"] / plants_in_sapp[\"Capacity\"].max()\n",
    "\n",
    "for idx, row in plants_in_sapp.iterrows():\n",
    "    tooltip_html = \"<br>\".join([f\"<b>{col}</b>: {row[col]}\" for col in tooltip_columns])\n",
    "    \n",
    "    folium.CircleMarker(\n",
    "        location=[row.geometry.y, row.geometry.x],\n",
    "        radius=cap_norm.loc[idx] * 10 + 3,\n",
    "        color=\"black\",\n",
    "        fill=True,\n",
    "        fill_opacity=0.5,\n",
    "        fill_color=\"red\",\n",
    "        tooltip=tooltip_html,\n",
    "        popup=folium.Popup(tooltip_html, max_width=300)\n",
    "    ).add_to(marker_cluster)\n",
    "\n",
    "m"
   ]
  },
  {
   "cell_type": "markdown",
   "id": "4ceb32b5",
   "metadata": {},
   "source": [
    "### Exercises\n",
    "---"
   ]
  },
  {
   "cell_type": "code",
   "execution_count": null,
   "id": "b504accf",
   "metadata": {},
   "outputs": [],
   "source": [
    "eapp_countries = [\n",
    "    \"Burundi\", \"Democratic Republic of the Congo\", \"Djibouti\", \"Egypt\", \"Ethiopia\",\n",
    "    \"Kenya\", \"Rwanda\", \"South Sudan\", \"Sudan\", \"Tanzania\", \"Uganda\"\n",
    "]\n",
    "\n",
    "eapp_gdf = gdf[gdf['NAME'].isin(eapp_countries)]\n"
   ]
  },
  {
   "cell_type": "code",
   "execution_count": null,
   "id": "d1fe4dc3",
   "metadata": {},
   "outputs": [],
   "source": []
  },
  {
   "cell_type": "code",
   "execution_count": null,
   "id": "ce9b1503",
   "metadata": {},
   "outputs": [],
   "source": [
    "wapp_countries = [\n",
    "    \"Benin\", \"Burkina Faso\", \"Côte d'Ivoire\", \"Ghana\", \"Guinea\", \"Guinea-Bissau\", \"Liberia\", \n",
    "    \"Mali\", \"Niger\", \"Nigeria\", \"Senegal\", \"Sierra Leone\", \"Togo\"\n",
    "]\n",
    "\n",
    "wapp_gdf = gdf[gdf['NAME'].isin(wapp_countries)]"
   ]
  },
  {
   "cell_type": "code",
   "execution_count": null,
   "id": "771ce3d6",
   "metadata": {},
   "outputs": [],
   "source": []
  },
  {
   "cell_type": "markdown",
   "id": "c0b6a88c",
   "metadata": {},
   "source": [
    "### 🔑 Key Takeaways\n",
    "\n",
    "* GeoPandas is a powerful Python library for conducting spatial analysis and working with geographic data.\n",
    "* It allows seamless integration of geospatial datasets with tabular data from sources like CSV files.\n",
    "* A wide range of spatial operations—such as filtering by region, measuring distances, and visualizing locations—can be performed efficiently.\n",
    "\n",
    "### 💬 Discussion\n",
    "\n",
    "How can tools like GeoPandas support the modeling of energy systems—particularly in areas such as network planning, siting of generation assets, and spatial demand mapping?"
   ]
  }
 ],
 "metadata": {
  "kernelspec": {
   "display_name": "mec4131z-env",
   "language": "python",
   "name": "python3"
  },
  "language_info": {
   "codemirror_mode": {
    "name": "ipython",
    "version": 3
   },
   "file_extension": ".py",
   "mimetype": "text/x-python",
   "name": "python",
   "nbconvert_exporter": "python",
   "pygments_lexer": "ipython3",
   "version": "3.12.10"
  }
 },
 "nbformat": 4,
 "nbformat_minor": 5
}
