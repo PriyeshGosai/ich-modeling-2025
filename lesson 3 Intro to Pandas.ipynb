{
  "cells": [
    {
      "cell_type": "markdown",
      "metadata": {},
      "source": [
        "### 📘 Lesson 3: Introduction to Pandas"
      ]
    },
    {
      "cell_type": "markdown",
      "metadata": {},
      "source": [
        "<div style=\"display: flex; align-items: center; justify-content: space-between;\">\n",
        "  <div>\n",
        "    <h3>Notebook Developers</h3>\n",
        "    <ul>\n",
        "      <li><strong>Dr. Fabrizio Finozzi</strong> - Big Data Software Developer</li>\n",
        "      <li><strong>Priyesh Gosai</strong> - Energy Systems Modeler and Training Coordinator</li>\n",
        "    </ul>\n",
        "  </div>\n",
        "  <div>\n",
        "    <a href=\"https://openenergytransition.org/index.html\">\n",
        "      <img src=\"https://openenergytransition.org/assets/img/oet-logo-red-n-subtitle.png\" height=\"60\" alt=\"OET\">\n",
        "    </a>\n",
        "  </div>\n",
        "</div>\n"
      ]
    },
    {
      "cell_type": "markdown",
      "metadata": {},
      "source": [
        "##### 🎯 Learning Objectives  \n",
        "\n",
        "* Gain an understanding of Numpy and Pandas, including their purposes and applications.\n",
        "* Learn to utilize key functions within these libraries.\n",
        "* Engage in practical exercises to effectively apply and Pandas tools.\n",
        "\n"
      ]
    },
    {
      "cell_type": "code",
      "execution_count": null,
      "metadata": {},
      "outputs": [],
      "source": [
        "from google.colab import drive\n",
        "import os\n",
        "\n",
        "# Mount Google Drive\n",
        "drive.mount('/content/drive')\n",
        "\n",
        "# Set FOLDER and change to the working directory in one step\n",
        "FOLDER = 'ich-modeling-2025'\n",
        "os.chdir(f'/content/drive/MyDrive/{FOLDER}')\n",
        "\n",
        "# Confirm the current working directory\n",
        "print(\"Current working directory:\", os.getcwd())\n"
      ]
    },
    {
      "cell_type": "markdown",
      "metadata": {},
      "source": [
        "### Introduction to Pandas"
      ]
    },
    {
      "cell_type": "markdown",
      "metadata": {
        "id": "MEahBI6KkZyu"
      },
      "source": [
        "\n",
        "---\n",
        "\n",
        "**What is Pandas**\n",
        "\n",
        "Pandas is a fast, powerful, flexible and easy to use open source data analysis and manipulation tool,\n",
        "built on top of the Python programming language (primarly on top of NumPy). It enables also to process data as one would do with SQL."
      ]
    },
    {
      "cell_type": "markdown",
      "metadata": {
        "id": "KwB5Mmm4kZyu"
      },
      "source": [
        "**How to import Pandas**"
      ]
    },
    {
      "cell_type": "code",
      "execution_count": null,
      "metadata": {
        "id": "uIWa0ehvkZyu"
      },
      "outputs": [],
      "source": [
        "import pandas as pd"
      ]
    },
    {
      "cell_type": "markdown",
      "metadata": {
        "id": "NBTCTv_3kZyv"
      },
      "source": [
        "**Pandas overview**"
      ]
    },
    {
      "cell_type": "markdown",
      "metadata": {
        "id": "Y95F1WGWkZyv"
      },
      "source": [
        "\n",
        "\n",
        "A Pandas `DataFrame` is a two-dimensional, size-mutable and potentially heterogeneous (it means it can contain different types of data) tabular data. Dataframes can be built from dictionaries, where the dictionary keys are the column names and the dictionary values are strings that contain the column values"
      ]
    },
    {
      "cell_type": "code",
      "execution_count": null,
      "metadata": {
        "id": "VFBHONhPkZyv"
      },
      "outputs": [],
      "source": [
        "df_from_dict = pd.DataFrame({\"Name\": [\"Tom\", \"Paul\", \"John\", \"Sarah\"], \"Age\": [31, 42, 12, 56], \"Shoe-size\": [35, 42, 36, 31]})"
      ]
    },
    {
      "cell_type": "markdown",
      "metadata": {
        "id": "D4xv6oETkZyv"
      },
      "source": [
        "An alternative is to use only lists"
      ]
    },
    {
      "cell_type": "code",
      "execution_count": null,
      "metadata": {
        "id": "vhKVc4jukZyv"
      },
      "outputs": [],
      "source": [
        "data_list = [[\"Tom\", 31, 35], [\"Paul\", 42, 42], [\"John\", 12, 36], [\"Sarah\", 56, 31]]\n",
        "data_column_name = [\"Name\", \"Age\", \"Shoe-size\"]\n",
        "df_from_list = pd.DataFrame(data_list, columns=data_column_name)"
      ]
    },
    {
      "cell_type": "markdown",
      "metadata": {
        "id": "ap2ZGdfPkZyv"
      },
      "source": [
        "Data can be fed into a Pandas `DataFrame` from a file. Pandas supports several file formats, which can be found at this [link](https://pandas.pydata.org/pandas-docs/stable/user_guide/io.html). For example the syntax from an excel file would be `df_read_from_file = pd.read_excel(file_name, sheet_name = sheet_name)`.\n",
        "\n",
        "**Pandas `Dataframe` attributes and methods**\n",
        "\n",
        "Pandas offers built-in methods and attributes of the `DataFrame` class which are useful to describe the data contained in the dataframe. Given a `DataFrame` called `dataframe_name`:\n",
        "- `dataframe_name.shape`: the attribute returns a tuple representing the dimensionality (number of rows and columns) of the DataFrame\n",
        "- `dataframe_name.head(n)`: the method displays the first `n` rows of the dataframe\n",
        "- `dataframe_name.tail(n)`: the method displays the last `n` rows of the dataframe\n",
        "- `dataframename.sample(n)`: the method returns another dataframe, containing a random sample of `n` rows from the original dataframe. If no argument is passed, the method returns a dataframe with just one row. One can also execute `dataframe_name.sample(frac=0.1)`. This will return a dataframe with `10 %` of the rows from the original dataframe\n",
        "- `dataframe_name.describe()`: the method returns a 8 × ncols dataframe. If `dataframe_name` contains numeric data, the method returns for each column, `count` (number of rows containing non-null values), `mean`, `std`, `min`, `max`, the `25 percentile`, `50 percentile` (the median) and `75 percentile`\n",
        "- `dataframe_name.isna()`: the method returns a boolean same-sized dataframe, indicating if the values are `NA`. `NA` values, such as `None` or `numpy.NaN`, get mapped to `True`. Everything else gets mapped to `False`. Characters such as empty strings `\" \"` or `numpy.inf` are **not** considered `NA` values. The snippet `dataframe_name.isna().sum()` returns the number of rows in each column where `NA` values are present"
      ]
    },
    {
      "cell_type": "code",
      "execution_count": null,
      "metadata": {
        "id": "4JrdSI3rkZyw",
        "outputId": "3c407dc4-f261-485d-fe8a-7ff43350d577"
      },
      "outputs": [],
      "source": [
        "df_from_list"
      ]
    },
    {
      "cell_type": "code",
      "execution_count": null,
      "metadata": {
        "id": "0Y7uVeRkkZyw",
        "outputId": "b5b7e933-8a48-4ffb-b669-4564c3179f76"
      },
      "outputs": [],
      "source": [
        "df_from_list.shape"
      ]
    },
    {
      "cell_type": "code",
      "execution_count": null,
      "metadata": {
        "id": "DHTCyTrEkZyw",
        "outputId": "3dde3bae-f60e-42f7-9dbb-cb22ab6dd3ce"
      },
      "outputs": [],
      "source": [
        "df_from_list.head(1)"
      ]
    },
    {
      "cell_type": "code",
      "execution_count": null,
      "metadata": {
        "id": "oaBgpXMrkZyw",
        "outputId": "96e4d834-8f03-4701-d8f5-475f50936d02"
      },
      "outputs": [],
      "source": [
        "df_from_list.tail(2)"
      ]
    },
    {
      "cell_type": "code",
      "execution_count": null,
      "metadata": {
        "id": "BwOTEKzKkZyw",
        "outputId": "d4ffa414-4c45-4395-c90d-7cade5e0e0d9"
      },
      "outputs": [],
      "source": [
        "df_from_list.sample(1)"
      ]
    },
    {
      "cell_type": "code",
      "execution_count": null,
      "metadata": {
        "id": "nXZtpztrkZyx",
        "outputId": "a914c837-49f3-454a-96cf-863ef1ec840d"
      },
      "outputs": [],
      "source": [
        "df_from_list.describe()"
      ]
    },
    {
      "cell_type": "code",
      "execution_count": null,
      "metadata": {
        "id": "FNr1kja1kZyx",
        "outputId": "05e58813-7738-4cbc-c135-8b3bec4f9b4d"
      },
      "outputs": [],
      "source": [
        "df_from_list.isna()"
      ]
    },
    {
      "cell_type": "markdown",
      "metadata": {
        "id": "cAKHphkMkZyx"
      },
      "source": [
        "**Accessing the columns of a Pandas `Dataframe`**\n",
        "\n",
        "The column `column_name` of a DataFrame `dataframe_name` can be accessed as `dataframe_name[”column_name”]`. For example"
      ]
    },
    {
      "cell_type": "code",
      "execution_count": null,
      "metadata": {
        "id": "rIRLvTMYkZyx",
        "outputId": "53e45afc-7a52-4f78-9b86-941e99d5a9f7"
      },
      "outputs": [],
      "source": [
        "df_from_list[\"Age\"]"
      ]
    },
    {
      "cell_type": "code",
      "execution_count": null,
      "metadata": {
        "id": "pDyIFYwrkZyx",
        "outputId": "615226f2-66b8-4738-d2cf-5ca14794ef1b"
      },
      "outputs": [],
      "source": [
        "print(type(df_from_list[\"Age\"]))"
      ]
    },
    {
      "cell_type": "markdown",
      "metadata": {
        "id": "MtetwympkZyy"
      },
      "source": [
        "The snippet above returns a Pandas object called a `Series`. Where the `DataFrame` is (at least) a two-dimensional object, a `Series` is instead a one-dimensional object. One can say that a `DataFrame` is a *container* for several `Series`, that correspond to the `DataFrame` columns.\n",
        "\n",
        "**Please note**: the Series contains only the data of the column. It does not contain the column name available in the `DataFrame` header."
      ]
    },
    {
      "cell_type": "markdown",
      "metadata": {
        "id": "gbqtYTqCkZyy"
      },
      "source": [
        "#### Taking a slice of a Pandas `DataFrame`\n",
        "\n",
        "It is also possible to extract some columns from a `DataFrame` and get a `DataFrame` as a result. This can be achieved as"
      ]
    },
    {
      "cell_type": "code",
      "execution_count": null,
      "metadata": {
        "id": "aJYJJPb7kZyy"
      },
      "outputs": [],
      "source": [
        "df_age_from_list = df_from_list[[\"Age\"]]"
      ]
    },
    {
      "cell_type": "code",
      "execution_count": null,
      "metadata": {
        "id": "JR63541HkZyy",
        "outputId": "f6f1190f-7572-4503-a994-bbcc1568a257"
      },
      "outputs": [],
      "source": [
        "df_age_from_list"
      ]
    },
    {
      "cell_type": "code",
      "execution_count": null,
      "metadata": {
        "id": "85gUFMPekZyy",
        "outputId": "b4428a66-5f66-4768-8eb4-2b60ebb37bc2"
      },
      "outputs": [],
      "source": [
        "print(type(df_age_from_list))"
      ]
    },
    {
      "cell_type": "markdown",
      "metadata": {
        "id": "8cP_SHnLkZyy"
      },
      "source": [
        "**Adding or dropping columns in a `DataFrame`**\n",
        "\n",
        "The snippet below can be used to add a new column to an existing `DataFrame`"
      ]
    },
    {
      "cell_type": "code",
      "execution_count": null,
      "metadata": {
        "id": "ZpY3c_WJkZyy",
        "outputId": "596a9d1f-f694-4cd9-970b-4dc741291f47"
      },
      "outputs": [],
      "source": [
        "df_from_list[\"Country\"]=[\"US\", \"DE\", \"UK\", \"IT\"]\n",
        "df_from_list"
      ]
    },
    {
      "cell_type": "markdown",
      "metadata": {
        "id": "KdWeXRGAkZyy"
      },
      "source": [
        "The snippet instead can be used to drop a column"
      ]
    },
    {
      "cell_type": "code",
      "execution_count": null,
      "metadata": {
        "id": "TJam3PUAkZyz",
        "outputId": "194d386a-9bea-4911-df32-7748470b5d65"
      },
      "outputs": [],
      "source": [
        "df_from_list = df_from_list.drop(\"Country\", axis=1)\n",
        "df_from_list"
      ]
    },
    {
      "cell_type": "markdown",
      "metadata": {
        "id": "KZxsX3IbkZyz"
      },
      "source": [
        "The snippet below remains valid also to drop a row. This can be achieved with `axis=0`."
      ]
    },
    {
      "cell_type": "markdown",
      "metadata": {
        "id": "vEnZuWkzkZyz"
      },
      "source": [
        "**Further `DataFrame` methods**\n",
        "\n",
        "It is possible to add new columns to an existing `DataFrame` named `dataframe_name` with the following methods:\n",
        "- `dataframe_name.map()`: given a mapping dictionary, the method applies element-wise a certain mapping to a `Series` object (as a column)"
      ]
    },
    {
      "cell_type": "code",
      "execution_count": null,
      "metadata": {
        "id": "2JoqLmrgkZyz",
        "outputId": "a3fc0b90-a16b-4dfa-ae5a-00495029ef8c"
      },
      "outputs": [],
      "source": [
        "df_from_list[\"Country\"]=[\"US\", \"DE\", \"UK\", \"IT\"]\n",
        "df_from_list[\"Country_numeric_map\"] = df_from_list[\"Country\"].map({\"US\": 0.0, \"DE\": 1.0, \"UK\": 2.0})\n",
        "df_from_list"
      ]
    },
    {
      "cell_type": "markdown",
      "metadata": {
        "id": "XQgQF8bMkZyz"
      },
      "source": [
        "- `dataframe_name.replace`: it works as the `map` method, but it has the difference that if the `Series` contains a category not mapped in the mapping dictionary, the method simply carries over the unmapped category in the new column (instead of assigning a `NaN` to it)"
      ]
    },
    {
      "cell_type": "code",
      "execution_count": null,
      "metadata": {
        "id": "32g2nyskkZyz",
        "outputId": "db74d43d-68f5-447d-8950-85df2161c105"
      },
      "outputs": [],
      "source": [
        "df_from_list[\"Country_numeric_replace\"] = df_from_list[\"Country\"].replace({\"US\": 0.0, \"DE\": 1.0, \"UK\": 2.0})\n",
        "df_from_list"
      ]
    },
    {
      "cell_type": "markdown",
      "metadata": {
        "id": "FziTX9KNkZyz"
      },
      "source": [
        "- `dataframe_name.apply()`: the method applies a function to all values within a Pandas `Series` or `DataFrame`. The applied function can be either built-in or custom\n",
        "- `dataframe_name.applymap()`: the method applies a built-in or custom function element-wise to a `DataFrame` object\n",
        "- `dataframe_name.iloc()` and `dataframe_name.loc()`: the methods are used to slice a `DataFrame` by filtering on columns and/or rows. `iloc` performs the slicing using indexes or index positions, while `loc` using labels or names"
      ]
    },
    {
      "cell_type": "code",
      "execution_count": null,
      "metadata": {
        "id": "puPzyXy5kZyz",
        "outputId": "329d4fe3-a867-41d6-c6be-3e27408d58c1"
      },
      "outputs": [],
      "source": [
        "# iloc - filter the second row\n",
        "df_from_list.iloc[[1]]"
      ]
    },
    {
      "cell_type": "markdown",
      "metadata": {
        "id": "jh6c7jOWkZy0"
      },
      "source": [
        "Please note that `df_from_list.iloc[1]` would have returned a Pandas `Series` instead of a Pandas `DataFrame`. Furthermore"
      ]
    },
    {
      "cell_type": "code",
      "execution_count": null,
      "metadata": {
        "id": "TrilqaKikZy0",
        "outputId": "fe07c0c2-306b-4639-924a-1d11da48ffca"
      },
      "outputs": [],
      "source": [
        "# iloc - filter the second column\n",
        "df_from_list.iloc[:, 1]"
      ]
    },
    {
      "cell_type": "code",
      "execution_count": null,
      "metadata": {
        "id": "TTSUgkGUkZy0",
        "outputId": "644a3d30-c524-4b5c-b93e-0ce29c61ce83"
      },
      "outputs": [],
      "source": [
        "# iloc - filter just the second, the fourth and the fifth columns\n",
        "df_from_list.iloc[:, [1,3,4]]"
      ]
    },
    {
      "cell_type": "code",
      "execution_count": null,
      "metadata": {
        "id": "Sr2IA8OikZy0",
        "outputId": "640b5723-9af0-43d1-cc55-06b46a705388"
      },
      "outputs": [],
      "source": [
        "# loc - filter the second row\n",
        "df_from_list.loc[[1]]"
      ]
    },
    {
      "cell_type": "markdown",
      "metadata": {
        "id": "qqYNPU0QkZy0"
      },
      "source": [
        "Please note that `df_from_list.loc[1]` would have returned a Pandas `Series` instead of a Pandas `DataFrame`. Furthermore"
      ]
    },
    {
      "cell_type": "code",
      "execution_count": null,
      "metadata": {
        "id": "3a22_41NkZy0",
        "outputId": "5f5a4176-e482-4004-9390-66431dccea5e"
      },
      "outputs": [],
      "source": [
        "# loc - filter the second column\n",
        "df_from_list.loc[:, \"Age\"]"
      ]
    },
    {
      "cell_type": "code",
      "execution_count": null,
      "metadata": {
        "id": "vqbxv6eZkZy0",
        "outputId": "fcde6d11-973f-4bda-90b3-78a9aaf05e57"
      },
      "outputs": [],
      "source": [
        "# loc - filter just the second, the fourth and the fifth columns\n",
        "df_from_list.loc[:, [\"Age\", \"Country\", \"Country_numeric_map\"]]"
      ]
    },
    {
      "cell_type": "markdown",
      "metadata": {
        "id": "HOAqSL42kZy0"
      },
      "source": [
        "- `dataframe_name.rename()`: the method renames a column, by means of a mapping dictionary"
      ]
    },
    {
      "cell_type": "code",
      "execution_count": null,
      "metadata": {
        "id": "Mvtq155HkZy1",
        "outputId": "940f6208-ee11-414c-e296-a55457f10833",
        "scrolled": true
      },
      "outputs": [],
      "source": [
        "df_from_list.rename(columns={\"Age\": \"Age_renamed\"})"
      ]
    },
    {
      "cell_type": "markdown",
      "metadata": {
        "id": "AVh8Z_TvkZy1"
      },
      "source": [
        "**Merging and aggregating  `DataFrame`**\n",
        "\n",
        "The `merge` function in Pandas performs on `DataFrame` the equivalent operations of an SQL join. Given two dataframes, the merge happens along shared column/s that exist in both of them. The basic syntax is `pd.merge(df_a ,df_b ,how=”type_of_join”,on=”col_name”)`. The full documentation is available at this [link](https://pandas.pydata.org/pandas-docs/stable/reference/api/pandas.merge.html).\n",
        "\n",
        "Pandas allows to perform `groupby` operations. They involve grouping by a column, applying an aggregating function and combining the results. Given the following `DataFrame`"
      ]
    },
    {
      "cell_type": "code",
      "execution_count": null,
      "metadata": {
        "id": "Wj7_NPRykZy1",
        "outputId": "d78cceb9-d18c-4341-9e75-66887811ed05"
      },
      "outputs": [],
      "source": [
        "data_dictionary = {\n",
        "    'Name': ['John', 'Paul', 'Tom', 'Bob', 'Ronan',\n",
        "                    'Kirby', 'Sarah', 'Joe', 'Donald', 'Jeffrey'],\n",
        "    'Department': ['Administration', 'Marketing', 'Technical', 'Technical', 'Marketing',\n",
        "                          'Administration', 'Technical', 'Marketing', 'Technical', 'Administration'],\n",
        "    'Employment Type': ['Full-time', 'Intern', 'Intern', 'Part-time', 'Part-time',\n",
        "                               'Full-time', 'Full-time', 'Intern', 'Intern', 'Full-time'],\n",
        "    'Salary': [12, 50, 700, 700, 550,\n",
        "                      12, 1250, 600, 111, 12]}\n",
        "\n",
        "# Create the DataFrame\n",
        "df = pd.DataFrame(data_dictionary)\n",
        "df"
      ]
    },
    {
      "cell_type": "markdown",
      "metadata": {
        "id": "YFP5xHY8kZy1"
      },
      "source": [
        "the snippet below groups column `Salary` by column `Department` and applies a `sum`"
      ]
    },
    {
      "cell_type": "code",
      "execution_count": null,
      "metadata": {
        "id": "zcORwTt7kZy1",
        "outputId": "ada00278-9d08-4dad-d216-51f8365f4964"
      },
      "outputs": [],
      "source": [
        "df.groupby(\"Department\")[\"Salary\"].sum()"
      ]
    },
    {
      "cell_type": "markdown",
      "metadata": {
        "id": "jlxie6eXkZy1"
      },
      "source": [
        "or the snippet below groups column `Department` by column `Employment Type` and counts the occurences"
      ]
    },
    {
      "cell_type": "code",
      "execution_count": null,
      "metadata": {
        "id": "7CIdkRohkZy1",
        "outputId": "bda1b8b1-d65a-4eb3-fa19-b3b8f1df9190"
      },
      "outputs": [],
      "source": [
        "df.groupby(\"Employment Type\")[\"Department\"].count()"
      ]
    },
    {
      "cell_type": "markdown",
      "metadata": {},
      "source": [
        "Data from Excel spreadsheets or CSV files can be imported into Python using Pandas "
      ]
    },
    {
      "cell_type": "code",
      "execution_count": null,
      "metadata": {},
      "outputs": [],
      "source": [
        "df_power_plant = pd.read_csv(\"data/powerplants.csv\",index_col=0)"
      ]
    },
    {
      "cell_type": "code",
      "execution_count": null,
      "metadata": {},
      "outputs": [],
      "source": [
        "df_power_plant"
      ]
    },
    {
      "cell_type": "markdown",
      "metadata": {},
      "source": [
        "### Exercise: Power Plant Data Manipulation"
      ]
    },
    {
      "cell_type": "markdown",
      "metadata": {},
      "source": [
        "**Task 1: View the column names**\n",
        "\n",
        "- Use the columns attribute to view the names of all the columns in the dataset\n",
        "\n"
      ]
    },
    {
      "cell_type": "code",
      "execution_count": null,
      "metadata": {},
      "outputs": [],
      "source": [
        "# Provide code here"
      ]
    },
    {
      "cell_type": "markdown",
      "metadata": {},
      "source": [
        "**Task 2: Find Unique Options for 'Fueltype', 'Technology', and 'Country'**\n",
        "- Use the `unique()` function to find and print the unique values in the following columns:\n",
        "  - `Fueltype`\n",
        "  - `Technology`\n",
        "  - `Country`\n",
        "\n",
        "\n"
      ]
    },
    {
      "cell_type": "code",
      "execution_count": null,
      "metadata": {},
      "outputs": [],
      "source": []
    },
    {
      "cell_type": "markdown",
      "metadata": {},
      "source": [
        "**Task 3: Filter Data by Technology**\n",
        "- Assume you want to filter the data for a technology called `'Solar'`.\n",
        "- Write the code to filter the DataFrame and show all power plants using `'Solar'` technology.\n",
        "\n",
        "\n"
      ]
    },
    {
      "cell_type": "code",
      "execution_count": null,
      "metadata": {},
      "outputs": [],
      "source": [
        "# Provide code here"
      ]
    },
    {
      "cell_type": "markdown",
      "metadata": {},
      "source": [
        "**Task 4: Count the Number of Power Plants with a Certain Fuel**\n",
        "- Assume the fuel type is `'Coal'`.\n",
        "- Write the code to count and print the number of power plants that use `'Coal'` as the fuel type.\n",
        "\n"
      ]
    },
    {
      "cell_type": "code",
      "execution_count": null,
      "metadata": {},
      "outputs": [],
      "source": [
        "# Provide code here"
      ]
    },
    {
      "cell_type": "markdown",
      "metadata": {},
      "source": [
        "**Task 5: Calculate the Capacity of All Generators in a Country**\n",
        "- Assume you want to calculate the total capacity of all power plants in `'South Africa'`.\n",
        "- Write the code to sum and print the total capacity of the power plants located in `'South Africa'`.\n",
        "\n"
      ]
    },
    {
      "cell_type": "code",
      "execution_count": null,
      "metadata": {},
      "outputs": [],
      "source": [
        "# Provide code here"
      ]
    },
    {
      "cell_type": "markdown",
      "metadata": {},
      "source": [
        "**Task 6: Change the Capacity of One Power Plant**\n",
        "- Assume you want to change the capacity of a power plant named `'Plant A'` to `500 MW`.\n",
        "- Write the code to update the capacity of `'Plant A'` to `500 MW`.\n",
        "\n"
      ]
    },
    {
      "cell_type": "code",
      "execution_count": null,
      "metadata": {},
      "outputs": [],
      "source": [
        "# Provide code here"
      ]
    },
    {
      "cell_type": "markdown",
      "metadata": {},
      "source": [
        "**Task 7: Add a New Power Plant**\n",
        "- Add a new power plant to the DataFrame from the dictionary `new_plant`"
      ]
    },
    {
      "cell_type": "code",
      "execution_count": null,
      "metadata": {},
      "outputs": [],
      "source": [
        "new_plant = {\n",
        "    'Name': 'New Plant',\n",
        "    'Fueltype': 'Wind',\n",
        "    'Technology': 'Wind Turbine',\n",
        "    'Set': 'Set1',\n",
        "    'Country': 'Germany',\n",
        "    'Capacity': 100,\n",
        "    'Efficiency': 0.35,\n",
        "    'Duration': 30,\n",
        "    'Volume_Mm3': 0,\n",
        "    'DamHeight_m': 0,\n",
        "    'StorageCapacity_MWh': 0,\n",
        "    'DateIn': '2025-01-01',\n",
        "    'DateRetrofit': None,\n",
        "    'DateOut': None,\n",
        "    'lat': 51.1657,\n",
        "    'lon': 10.4515,\n",
        "    'EIC': 'EIC001',\n",
        "    'projectID': 'proj001',\n",
        "    'bus': 'bus001'\n",
        "}"
      ]
    },
    {
      "cell_type": "code",
      "execution_count": null,
      "metadata": {},
      "outputs": [],
      "source": [
        "# Provide code here"
      ]
    },
    {
      "cell_type": "markdown",
      "metadata": {
        "id": "BdrajbP0kZy1"
      },
      "source": [
        "### Additional Resources\n"
      ]
    },
    {
      "cell_type": "markdown",
      "metadata": {},
      "source": [
        "- [Pandas website](https://pandas.pydata.org/)"
      ]
    },
    {
      "cell_type": "markdown",
      "metadata": {},
      "source": [
        "#### Answers "
      ]
    },
    {
      "cell_type": "code",
      "execution_count": null,
      "metadata": {},
      "outputs": [],
      "source": [
        "# 1. View the column names\n",
        "print(\"Column names:\")\n",
        "print(df_power_plant.columns)\n"
      ]
    },
    {
      "cell_type": "code",
      "execution_count": null,
      "metadata": {},
      "outputs": [],
      "source": [
        "# 2. Find the unique options for 'Fueltype', 'Technology', 'Country'\n",
        "print(\"\\nUnique Fueltypes:\")\n",
        "print(df_power_plant['Fueltype'].unique())\n",
        "\n",
        "print(\"\\nUnique Technologies:\")\n",
        "print(df_power_plant['Technology'].unique())\n",
        "\n",
        "print(\"\\nUnique Countries:\")\n",
        "print(df_power_plant['Country'].unique())\n"
      ]
    },
    {
      "cell_type": "code",
      "execution_count": null,
      "metadata": {},
      "outputs": [],
      "source": [
        "# 3. Basic code to filter the data by technology (assume a technology name)\n",
        "technology_name = 'Solar'  # Example technology name\n",
        "filtered_df = df_power_plant[df_power_plant['Technology'] == technology_name]\n",
        "print(f\"\\nPower plants with {technology_name} technology:\")\n",
        "print(filtered_df)\n"
      ]
    },
    {
      "cell_type": "code",
      "execution_count": null,
      "metadata": {},
      "outputs": [],
      "source": [
        "# 4. Count the number of power plants with a certain fuel\n",
        "fuel_type = 'Coal'  # Example fuel type\n",
        "fuel_count = df_power_plant[df_power_plant['Fueltype'] == fuel_type].shape[0]\n",
        "print(f\"\\nNumber of power plants using {fuel_type}: {fuel_count}\")\n"
      ]
    },
    {
      "cell_type": "code",
      "execution_count": null,
      "metadata": {},
      "outputs": [],
      "source": [
        "# 5. Calculate the capacity of all generators in a country\n",
        "country_name = 'South Africa'  # Example country\n",
        "total_capacity = df_power_plant[df_power_plant['Country'] == country_name]['Capacity'].sum()\n",
        "print(f\"\\nTotal capacity of power plants in {country_name}: {total_capacity} MW\")\n"
      ]
    },
    {
      "cell_type": "code",
      "execution_count": null,
      "metadata": {},
      "outputs": [],
      "source": [
        "# 6. Change the capacity of one of the power plants\n",
        "# Let's assume we want to change the capacity of a specific power plant (identified by Name)\n",
        "plant_name = 'Plant A'  # Example power plant name\n",
        "new_capacity = 500  # New capacity in MW\n",
        "df_power_plant.loc[df_power_plant['Name'] == plant_name, 'Capacity'] = new_capacity\n",
        "print(f\"\\nUpdated capacity of {plant_name}: {new_capacity} MW\")\n"
      ]
    },
    {
      "cell_type": "code",
      "execution_count": null,
      "metadata": {},
      "outputs": [],
      "source": [
        "# Task 7: Add a new power plant\n",
        "new_plant = {\n",
        "    'Name': 'New Plant',\n",
        "    'Fueltype': 'Wind',\n",
        "    'Technology': 'Wind Turbine',\n",
        "    'Set': 'Set1',\n",
        "    'Country': 'Germany',\n",
        "    'Capacity': 100,\n",
        "    'Efficiency': 0.35,\n",
        "    'Duration': 30,\n",
        "    'Volume_Mm3': 0,\n",
        "    'DamHeight_m': 0,\n",
        "    'StorageCapacity_MWh': 0,\n",
        "    'DateIn': '2025-01-01',\n",
        "    'DateRetrofit': None,\n",
        "    'DateOut': None,\n",
        "    'lat': 51.1657,\n",
        "    'lon': 10.4515,\n",
        "    'EIC': 'EIC001',\n",
        "    'projectID': 'proj001',\n",
        "    'bus': 'bus001'\n",
        "}\n",
        "\n",
        "# Convert the new plant dictionary to a DataFrame\n",
        "new_plant_df = pd.DataFrame([new_plant])\n",
        "\n",
        "# Concatenate the new plant to the existing DataFrame\n",
        "df_power_plant = pd.concat([df_power_plant, new_plant_df], ignore_index=True)\n",
        "\n",
        "# Print the last added row to confirm\n",
        "print(\"\\nNew power plant added:\")\n",
        "print(df_power_plant.tail(1))  # Display the last added row\n"
      ]
    },
    {
      "cell_type": "markdown",
      "metadata": {},
      "source": [
        "### \n",
        "---"
      ]
    }
  ],
  "metadata": {
    "colab": {
      "provenance": []
    },
    "kernelspec": {
      "display_name": "mec4131z-env",
      "language": "python",
      "name": "python3"
    },
    "language_info": {
      "codemirror_mode": {
        "name": "ipython",
        "version": 3
      },
      "file_extension": ".py",
      "mimetype": "text/x-python",
      "name": "python",
      "nbconvert_exporter": "python",
      "pygments_lexer": "ipython3",
      "version": "3.12.10"
    }
  },
  "nbformat": 4,
  "nbformat_minor": 0
}
