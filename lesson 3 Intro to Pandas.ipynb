{
  "cells": [
    {
      "cell_type": "markdown",
      "metadata": {},
      "source": [
        "### 📘 Lesson 3: Introduction to Pandas"
      ]
    },
    {
      "cell_type": "markdown",
      "metadata": {},
      "source": [
        "<div style=\"display: flex; align-items: center; justify-content: space-between;\">\n",
        "  <div>\n",
        "    <h3>Notebook Developers</h3>\n",
        "    <ul>\n",
        "      <li><strong>Dr. Fabrizio Finozzi</strong> - Big Data Software Developer</li>\n",
        "      <li><strong>Priyesh Gosai</strong> - Energy Systems Modeler and Training Coordinator</li>\n",
        "    </ul>\n",
        "  </div>\n",
        "  <div>\n",
        "    <a href=\"https://openenergytransition.org/index.html\">\n",
        "      <img src=\"https://openenergytransition.org/assets/img/oet-logo-red-n-subtitle.png\" height=\"60\" alt=\"OET\">\n",
        "    </a>\n",
        "  </div>\n",
        "</div>\n"
      ]
    },
    {
      "cell_type": "markdown",
      "metadata": {},
      "source": [
        "##### 🎯 Learning Objectives  \n",
        "\n",
        "* Gain an understanding of Numpy and Pandas, including their purposes and applications.\n",
        "* Learn to utilize key functions within these libraries.\n",
        "* Engage in practical exercises to effectively apply and Pandas tools.\n",
        "\n"
      ]
    },
    {
      "cell_type": "markdown",
      "metadata": {},
      "source": [
        "### Introduction to Pandas"
      ]
    },
    {
      "cell_type": "markdown",
      "metadata": {
        "id": "MEahBI6KkZyu"
      },
      "source": [
        "\n",
        "---\n",
        "\n",
        "**What is Pandas**\n",
        "\n",
        "Pandas is a fast, powerful, flexible and easy to use open source data analysis and manipulation tool,\n",
        "built on top of the Python programming language (primarly on top of NumPy). It enables also to process data as one would do with SQL."
      ]
    },
    {
      "cell_type": "markdown",
      "metadata": {
        "id": "KwB5Mmm4kZyu"
      },
      "source": [
        "**How to import Pandas**"
      ]
    },
    {
      "cell_type": "code",
      "execution_count": 41,
      "metadata": {
        "id": "uIWa0ehvkZyu"
      },
      "outputs": [],
      "source": [
        "import pandas as pd"
      ]
    },
    {
      "cell_type": "markdown",
      "metadata": {
        "id": "NBTCTv_3kZyv"
      },
      "source": [
        "**Pandas overview**"
      ]
    },
    {
      "cell_type": "markdown",
      "metadata": {
        "id": "Y95F1WGWkZyv"
      },
      "source": [
        "\n",
        "\n",
        "A Pandas `DataFrame` is a two-dimensional, size-mutable and potentially heterogeneous (it means it can contain different types of data) tabular data. Dataframes can be built from dictionaries, where the dictionary keys are the column names and the dictionary values are strings that contain the column values"
      ]
    },
    {
      "cell_type": "code",
      "execution_count": 42,
      "metadata": {
        "id": "VFBHONhPkZyv"
      },
      "outputs": [],
      "source": [
        "df_from_dict = pd.DataFrame({\"Name\": [\"Tom\", \"Paul\", \"John\", \"Sarah\"], \"Age\": [31, 42, 12, 56], \"Shoe-size\": [35, 42, 36, 31]})"
      ]
    },
    {
      "cell_type": "markdown",
      "metadata": {
        "id": "D4xv6oETkZyv"
      },
      "source": [
        "An alternative is to use only lists"
      ]
    },
    {
      "cell_type": "code",
      "execution_count": 43,
      "metadata": {
        "id": "vhKVc4jukZyv"
      },
      "outputs": [],
      "source": [
        "data_list = [[\"Tom\", 31, 35], [\"Paul\", 42, 42], [\"John\", 12, 36], [\"Sarah\", 56, 31]]\n",
        "data_column_name = [\"Name\", \"Age\", \"Shoe-size\"]\n",
        "df_from_list = pd.DataFrame(data_list, columns=data_column_name)"
      ]
    },
    {
      "cell_type": "markdown",
      "metadata": {
        "id": "ap2ZGdfPkZyv"
      },
      "source": [
        "Data can be fed into a Pandas `DataFrame` from a file. Pandas supports several file formats, which can be found at this [link](https://pandas.pydata.org/pandas-docs/stable/user_guide/io.html). For example the syntax from an excel file would be `df_read_from_file = pd.read_excel(file_name, sheet_name = sheet_name)`.\n",
        "\n",
        "**Pandas `Dataframe` attributes and methods**\n",
        "\n",
        "Pandas offers built-in methods and attributes of the `DataFrame` class which are useful to describe the data contained in the dataframe. Given a `DataFrame` called `dataframe_name`:\n",
        "- `dataframe_name.shape`: the attribute returns a tuple representing the dimensionality (number of rows and columns) of the DataFrame\n",
        "- `dataframe_name.head(n)`: the method displays the first `n` rows of the dataframe\n",
        "- `dataframe_name.tail(n)`: the method displays the last `n` rows of the dataframe\n",
        "- `dataframename.sample(n)`: the method returns another dataframe, containing a random sample of `n` rows from the original dataframe. If no argument is passed, the method returns a dataframe with just one row. One can also execute `dataframe_name.sample(frac=0.1)`. This will return a dataframe with `10 %` of the rows from the original dataframe\n",
        "- `dataframe_name.describe()`: the method returns a 8 × ncols dataframe. If `dataframe_name` contains numeric data, the method returns for each column, `count` (number of rows containing non-null values), `mean`, `std`, `min`, `max`, the `25 percentile`, `50 percentile` (the median) and `75 percentile`\n",
        "- `dataframe_name.isna()`: the method returns a boolean same-sized dataframe, indicating if the values are `NA`. `NA` values, such as `None` or `numpy.NaN`, get mapped to `True`. Everything else gets mapped to `False`. Characters such as empty strings `\" \"` or `numpy.inf` are **not** considered `NA` values. The snippet `dataframe_name.isna().sum()` returns the number of rows in each column where `NA` values are present"
      ]
    },
    {
      "cell_type": "code",
      "execution_count": 44,
      "metadata": {
        "id": "4JrdSI3rkZyw",
        "outputId": "3c407dc4-f261-485d-fe8a-7ff43350d577"
      },
      "outputs": [
        {
          "data": {
            "application/vnd.microsoft.datawrangler.viewer.v0+json": {
              "columns": [
                {
                  "name": "index",
                  "rawType": "int64",
                  "type": "integer"
                },
                {
                  "name": "Name",
                  "rawType": "object",
                  "type": "string"
                },
                {
                  "name": "Age",
                  "rawType": "int64",
                  "type": "integer"
                },
                {
                  "name": "Shoe-size",
                  "rawType": "int64",
                  "type": "integer"
                }
              ],
              "ref": "98bd992f-df7f-4983-8bb7-7443aed5f06b",
              "rows": [
                [
                  "0",
                  "Tom",
                  "31",
                  "35"
                ],
                [
                  "1",
                  "Paul",
                  "42",
                  "42"
                ],
                [
                  "2",
                  "John",
                  "12",
                  "36"
                ],
                [
                  "3",
                  "Sarah",
                  "56",
                  "31"
                ]
              ],
              "shape": {
                "columns": 3,
                "rows": 4
              }
            },
            "text/html": [
              "<div>\n",
              "<style scoped>\n",
              "    .dataframe tbody tr th:only-of-type {\n",
              "        vertical-align: middle;\n",
              "    }\n",
              "\n",
              "    .dataframe tbody tr th {\n",
              "        vertical-align: top;\n",
              "    }\n",
              "\n",
              "    .dataframe thead th {\n",
              "        text-align: right;\n",
              "    }\n",
              "</style>\n",
              "<table border=\"1\" class=\"dataframe\">\n",
              "  <thead>\n",
              "    <tr style=\"text-align: right;\">\n",
              "      <th></th>\n",
              "      <th>Name</th>\n",
              "      <th>Age</th>\n",
              "      <th>Shoe-size</th>\n",
              "    </tr>\n",
              "  </thead>\n",
              "  <tbody>\n",
              "    <tr>\n",
              "      <th>0</th>\n",
              "      <td>Tom</td>\n",
              "      <td>31</td>\n",
              "      <td>35</td>\n",
              "    </tr>\n",
              "    <tr>\n",
              "      <th>1</th>\n",
              "      <td>Paul</td>\n",
              "      <td>42</td>\n",
              "      <td>42</td>\n",
              "    </tr>\n",
              "    <tr>\n",
              "      <th>2</th>\n",
              "      <td>John</td>\n",
              "      <td>12</td>\n",
              "      <td>36</td>\n",
              "    </tr>\n",
              "    <tr>\n",
              "      <th>3</th>\n",
              "      <td>Sarah</td>\n",
              "      <td>56</td>\n",
              "      <td>31</td>\n",
              "    </tr>\n",
              "  </tbody>\n",
              "</table>\n",
              "</div>"
            ],
            "text/plain": [
              "    Name  Age  Shoe-size\n",
              "0    Tom   31         35\n",
              "1   Paul   42         42\n",
              "2   John   12         36\n",
              "3  Sarah   56         31"
            ]
          },
          "execution_count": 44,
          "metadata": {},
          "output_type": "execute_result"
        }
      ],
      "source": [
        "df_from_list"
      ]
    },
    {
      "cell_type": "code",
      "execution_count": 45,
      "metadata": {
        "id": "0Y7uVeRkkZyw",
        "outputId": "b5b7e933-8a48-4ffb-b669-4564c3179f76"
      },
      "outputs": [
        {
          "data": {
            "text/plain": [
              "(4, 3)"
            ]
          },
          "execution_count": 45,
          "metadata": {},
          "output_type": "execute_result"
        }
      ],
      "source": [
        "df_from_list.shape"
      ]
    },
    {
      "cell_type": "code",
      "execution_count": 46,
      "metadata": {
        "id": "DHTCyTrEkZyw",
        "outputId": "3dde3bae-f60e-42f7-9dbb-cb22ab6dd3ce"
      },
      "outputs": [
        {
          "data": {
            "application/vnd.microsoft.datawrangler.viewer.v0+json": {
              "columns": [
                {
                  "name": "index",
                  "rawType": "int64",
                  "type": "integer"
                },
                {
                  "name": "Name",
                  "rawType": "object",
                  "type": "string"
                },
                {
                  "name": "Age",
                  "rawType": "int64",
                  "type": "integer"
                },
                {
                  "name": "Shoe-size",
                  "rawType": "int64",
                  "type": "integer"
                }
              ],
              "ref": "eaa77ada-50df-44df-95c0-a15022cb8241",
              "rows": [
                [
                  "0",
                  "Tom",
                  "31",
                  "35"
                ]
              ],
              "shape": {
                "columns": 3,
                "rows": 1
              }
            },
            "text/html": [
              "<div>\n",
              "<style scoped>\n",
              "    .dataframe tbody tr th:only-of-type {\n",
              "        vertical-align: middle;\n",
              "    }\n",
              "\n",
              "    .dataframe tbody tr th {\n",
              "        vertical-align: top;\n",
              "    }\n",
              "\n",
              "    .dataframe thead th {\n",
              "        text-align: right;\n",
              "    }\n",
              "</style>\n",
              "<table border=\"1\" class=\"dataframe\">\n",
              "  <thead>\n",
              "    <tr style=\"text-align: right;\">\n",
              "      <th></th>\n",
              "      <th>Name</th>\n",
              "      <th>Age</th>\n",
              "      <th>Shoe-size</th>\n",
              "    </tr>\n",
              "  </thead>\n",
              "  <tbody>\n",
              "    <tr>\n",
              "      <th>0</th>\n",
              "      <td>Tom</td>\n",
              "      <td>31</td>\n",
              "      <td>35</td>\n",
              "    </tr>\n",
              "  </tbody>\n",
              "</table>\n",
              "</div>"
            ],
            "text/plain": [
              "  Name  Age  Shoe-size\n",
              "0  Tom   31         35"
            ]
          },
          "execution_count": 46,
          "metadata": {},
          "output_type": "execute_result"
        }
      ],
      "source": [
        "df_from_list.head(1)"
      ]
    },
    {
      "cell_type": "code",
      "execution_count": 47,
      "metadata": {
        "id": "oaBgpXMrkZyw",
        "outputId": "96e4d834-8f03-4701-d8f5-475f50936d02"
      },
      "outputs": [
        {
          "data": {
            "application/vnd.microsoft.datawrangler.viewer.v0+json": {
              "columns": [
                {
                  "name": "index",
                  "rawType": "int64",
                  "type": "integer"
                },
                {
                  "name": "Name",
                  "rawType": "object",
                  "type": "string"
                },
                {
                  "name": "Age",
                  "rawType": "int64",
                  "type": "integer"
                },
                {
                  "name": "Shoe-size",
                  "rawType": "int64",
                  "type": "integer"
                }
              ],
              "ref": "494b70b5-1519-4709-8bf1-18ef0331a1cf",
              "rows": [
                [
                  "2",
                  "John",
                  "12",
                  "36"
                ],
                [
                  "3",
                  "Sarah",
                  "56",
                  "31"
                ]
              ],
              "shape": {
                "columns": 3,
                "rows": 2
              }
            },
            "text/html": [
              "<div>\n",
              "<style scoped>\n",
              "    .dataframe tbody tr th:only-of-type {\n",
              "        vertical-align: middle;\n",
              "    }\n",
              "\n",
              "    .dataframe tbody tr th {\n",
              "        vertical-align: top;\n",
              "    }\n",
              "\n",
              "    .dataframe thead th {\n",
              "        text-align: right;\n",
              "    }\n",
              "</style>\n",
              "<table border=\"1\" class=\"dataframe\">\n",
              "  <thead>\n",
              "    <tr style=\"text-align: right;\">\n",
              "      <th></th>\n",
              "      <th>Name</th>\n",
              "      <th>Age</th>\n",
              "      <th>Shoe-size</th>\n",
              "    </tr>\n",
              "  </thead>\n",
              "  <tbody>\n",
              "    <tr>\n",
              "      <th>2</th>\n",
              "      <td>John</td>\n",
              "      <td>12</td>\n",
              "      <td>36</td>\n",
              "    </tr>\n",
              "    <tr>\n",
              "      <th>3</th>\n",
              "      <td>Sarah</td>\n",
              "      <td>56</td>\n",
              "      <td>31</td>\n",
              "    </tr>\n",
              "  </tbody>\n",
              "</table>\n",
              "</div>"
            ],
            "text/plain": [
              "    Name  Age  Shoe-size\n",
              "2   John   12         36\n",
              "3  Sarah   56         31"
            ]
          },
          "execution_count": 47,
          "metadata": {},
          "output_type": "execute_result"
        }
      ],
      "source": [
        "df_from_list.tail(2)"
      ]
    },
    {
      "cell_type": "code",
      "execution_count": 48,
      "metadata": {
        "id": "BwOTEKzKkZyw",
        "outputId": "d4ffa414-4c45-4395-c90d-7cade5e0e0d9"
      },
      "outputs": [
        {
          "data": {
            "application/vnd.microsoft.datawrangler.viewer.v0+json": {
              "columns": [
                {
                  "name": "index",
                  "rawType": "int64",
                  "type": "integer"
                },
                {
                  "name": "Name",
                  "rawType": "object",
                  "type": "string"
                },
                {
                  "name": "Age",
                  "rawType": "int64",
                  "type": "integer"
                },
                {
                  "name": "Shoe-size",
                  "rawType": "int64",
                  "type": "integer"
                }
              ],
              "ref": "14266300-5908-4698-8c30-71a92f419c8e",
              "rows": [
                [
                  "2",
                  "John",
                  "12",
                  "36"
                ]
              ],
              "shape": {
                "columns": 3,
                "rows": 1
              }
            },
            "text/html": [
              "<div>\n",
              "<style scoped>\n",
              "    .dataframe tbody tr th:only-of-type {\n",
              "        vertical-align: middle;\n",
              "    }\n",
              "\n",
              "    .dataframe tbody tr th {\n",
              "        vertical-align: top;\n",
              "    }\n",
              "\n",
              "    .dataframe thead th {\n",
              "        text-align: right;\n",
              "    }\n",
              "</style>\n",
              "<table border=\"1\" class=\"dataframe\">\n",
              "  <thead>\n",
              "    <tr style=\"text-align: right;\">\n",
              "      <th></th>\n",
              "      <th>Name</th>\n",
              "      <th>Age</th>\n",
              "      <th>Shoe-size</th>\n",
              "    </tr>\n",
              "  </thead>\n",
              "  <tbody>\n",
              "    <tr>\n",
              "      <th>2</th>\n",
              "      <td>John</td>\n",
              "      <td>12</td>\n",
              "      <td>36</td>\n",
              "    </tr>\n",
              "  </tbody>\n",
              "</table>\n",
              "</div>"
            ],
            "text/plain": [
              "   Name  Age  Shoe-size\n",
              "2  John   12         36"
            ]
          },
          "execution_count": 48,
          "metadata": {},
          "output_type": "execute_result"
        }
      ],
      "source": [
        "df_from_list.sample(1)"
      ]
    },
    {
      "cell_type": "code",
      "execution_count": 49,
      "metadata": {
        "id": "nXZtpztrkZyx",
        "outputId": "a914c837-49f3-454a-96cf-863ef1ec840d"
      },
      "outputs": [
        {
          "data": {
            "application/vnd.microsoft.datawrangler.viewer.v0+json": {
              "columns": [
                {
                  "name": "index",
                  "rawType": "object",
                  "type": "string"
                },
                {
                  "name": "Age",
                  "rawType": "float64",
                  "type": "float"
                },
                {
                  "name": "Shoe-size",
                  "rawType": "float64",
                  "type": "float"
                }
              ],
              "ref": "21723711-96ee-470a-b961-4cc2aea5baa3",
              "rows": [
                [
                  "count",
                  "4.0",
                  "4.0"
                ],
                [
                  "mean",
                  "35.25",
                  "36.0"
                ],
                [
                  "std",
                  "18.57193222760267",
                  "4.546060565661952"
                ],
                [
                  "min",
                  "12.0",
                  "31.0"
                ],
                [
                  "25%",
                  "26.25",
                  "34.0"
                ],
                [
                  "50%",
                  "36.5",
                  "35.5"
                ],
                [
                  "75%",
                  "45.5",
                  "37.5"
                ],
                [
                  "max",
                  "56.0",
                  "42.0"
                ]
              ],
              "shape": {
                "columns": 2,
                "rows": 8
              }
            },
            "text/html": [
              "<div>\n",
              "<style scoped>\n",
              "    .dataframe tbody tr th:only-of-type {\n",
              "        vertical-align: middle;\n",
              "    }\n",
              "\n",
              "    .dataframe tbody tr th {\n",
              "        vertical-align: top;\n",
              "    }\n",
              "\n",
              "    .dataframe thead th {\n",
              "        text-align: right;\n",
              "    }\n",
              "</style>\n",
              "<table border=\"1\" class=\"dataframe\">\n",
              "  <thead>\n",
              "    <tr style=\"text-align: right;\">\n",
              "      <th></th>\n",
              "      <th>Age</th>\n",
              "      <th>Shoe-size</th>\n",
              "    </tr>\n",
              "  </thead>\n",
              "  <tbody>\n",
              "    <tr>\n",
              "      <th>count</th>\n",
              "      <td>4.000000</td>\n",
              "      <td>4.000000</td>\n",
              "    </tr>\n",
              "    <tr>\n",
              "      <th>mean</th>\n",
              "      <td>35.250000</td>\n",
              "      <td>36.000000</td>\n",
              "    </tr>\n",
              "    <tr>\n",
              "      <th>std</th>\n",
              "      <td>18.571932</td>\n",
              "      <td>4.546061</td>\n",
              "    </tr>\n",
              "    <tr>\n",
              "      <th>min</th>\n",
              "      <td>12.000000</td>\n",
              "      <td>31.000000</td>\n",
              "    </tr>\n",
              "    <tr>\n",
              "      <th>25%</th>\n",
              "      <td>26.250000</td>\n",
              "      <td>34.000000</td>\n",
              "    </tr>\n",
              "    <tr>\n",
              "      <th>50%</th>\n",
              "      <td>36.500000</td>\n",
              "      <td>35.500000</td>\n",
              "    </tr>\n",
              "    <tr>\n",
              "      <th>75%</th>\n",
              "      <td>45.500000</td>\n",
              "      <td>37.500000</td>\n",
              "    </tr>\n",
              "    <tr>\n",
              "      <th>max</th>\n",
              "      <td>56.000000</td>\n",
              "      <td>42.000000</td>\n",
              "    </tr>\n",
              "  </tbody>\n",
              "</table>\n",
              "</div>"
            ],
            "text/plain": [
              "             Age  Shoe-size\n",
              "count   4.000000   4.000000\n",
              "mean   35.250000  36.000000\n",
              "std    18.571932   4.546061\n",
              "min    12.000000  31.000000\n",
              "25%    26.250000  34.000000\n",
              "50%    36.500000  35.500000\n",
              "75%    45.500000  37.500000\n",
              "max    56.000000  42.000000"
            ]
          },
          "execution_count": 49,
          "metadata": {},
          "output_type": "execute_result"
        }
      ],
      "source": [
        "df_from_list.describe()"
      ]
    },
    {
      "cell_type": "code",
      "execution_count": 50,
      "metadata": {
        "id": "FNr1kja1kZyx",
        "outputId": "05e58813-7738-4cbc-c135-8b3bec4f9b4d"
      },
      "outputs": [
        {
          "data": {
            "application/vnd.microsoft.datawrangler.viewer.v0+json": {
              "columns": [
                {
                  "name": "index",
                  "rawType": "int64",
                  "type": "integer"
                },
                {
                  "name": "Name",
                  "rawType": "bool",
                  "type": "boolean"
                },
                {
                  "name": "Age",
                  "rawType": "bool",
                  "type": "boolean"
                },
                {
                  "name": "Shoe-size",
                  "rawType": "bool",
                  "type": "boolean"
                }
              ],
              "ref": "9787803c-4e62-432a-96d0-95ff66239278",
              "rows": [
                [
                  "0",
                  "False",
                  "False",
                  "False"
                ],
                [
                  "1",
                  "False",
                  "False",
                  "False"
                ],
                [
                  "2",
                  "False",
                  "False",
                  "False"
                ],
                [
                  "3",
                  "False",
                  "False",
                  "False"
                ]
              ],
              "shape": {
                "columns": 3,
                "rows": 4
              }
            },
            "text/html": [
              "<div>\n",
              "<style scoped>\n",
              "    .dataframe tbody tr th:only-of-type {\n",
              "        vertical-align: middle;\n",
              "    }\n",
              "\n",
              "    .dataframe tbody tr th {\n",
              "        vertical-align: top;\n",
              "    }\n",
              "\n",
              "    .dataframe thead th {\n",
              "        text-align: right;\n",
              "    }\n",
              "</style>\n",
              "<table border=\"1\" class=\"dataframe\">\n",
              "  <thead>\n",
              "    <tr style=\"text-align: right;\">\n",
              "      <th></th>\n",
              "      <th>Name</th>\n",
              "      <th>Age</th>\n",
              "      <th>Shoe-size</th>\n",
              "    </tr>\n",
              "  </thead>\n",
              "  <tbody>\n",
              "    <tr>\n",
              "      <th>0</th>\n",
              "      <td>False</td>\n",
              "      <td>False</td>\n",
              "      <td>False</td>\n",
              "    </tr>\n",
              "    <tr>\n",
              "      <th>1</th>\n",
              "      <td>False</td>\n",
              "      <td>False</td>\n",
              "      <td>False</td>\n",
              "    </tr>\n",
              "    <tr>\n",
              "      <th>2</th>\n",
              "      <td>False</td>\n",
              "      <td>False</td>\n",
              "      <td>False</td>\n",
              "    </tr>\n",
              "    <tr>\n",
              "      <th>3</th>\n",
              "      <td>False</td>\n",
              "      <td>False</td>\n",
              "      <td>False</td>\n",
              "    </tr>\n",
              "  </tbody>\n",
              "</table>\n",
              "</div>"
            ],
            "text/plain": [
              "    Name    Age  Shoe-size\n",
              "0  False  False      False\n",
              "1  False  False      False\n",
              "2  False  False      False\n",
              "3  False  False      False"
            ]
          },
          "execution_count": 50,
          "metadata": {},
          "output_type": "execute_result"
        }
      ],
      "source": [
        "df_from_list.isna()"
      ]
    },
    {
      "cell_type": "markdown",
      "metadata": {
        "id": "cAKHphkMkZyx"
      },
      "source": [
        "**Accessing the columns of a Pandas `Dataframe`**\n",
        "\n",
        "The column `column_name` of a DataFrame `dataframe_name` can be accessed as `dataframe_name[”column_name”]`. For example"
      ]
    },
    {
      "cell_type": "code",
      "execution_count": 51,
      "metadata": {
        "id": "rIRLvTMYkZyx",
        "outputId": "53e45afc-7a52-4f78-9b86-941e99d5a9f7"
      },
      "outputs": [
        {
          "data": {
            "application/vnd.microsoft.datawrangler.viewer.v0+json": {
              "columns": [
                {
                  "name": "index",
                  "rawType": "int64",
                  "type": "integer"
                },
                {
                  "name": "Age",
                  "rawType": "int64",
                  "type": "integer"
                }
              ],
              "ref": "c302114c-67d4-4dd9-b4a6-8d2e738ef706",
              "rows": [
                [
                  "0",
                  "31"
                ],
                [
                  "1",
                  "42"
                ],
                [
                  "2",
                  "12"
                ],
                [
                  "3",
                  "56"
                ]
              ],
              "shape": {
                "columns": 1,
                "rows": 4
              }
            },
            "text/plain": [
              "0    31\n",
              "1    42\n",
              "2    12\n",
              "3    56\n",
              "Name: Age, dtype: int64"
            ]
          },
          "execution_count": 51,
          "metadata": {},
          "output_type": "execute_result"
        }
      ],
      "source": [
        "df_from_list[\"Age\"]"
      ]
    },
    {
      "cell_type": "code",
      "execution_count": 52,
      "metadata": {
        "id": "pDyIFYwrkZyx",
        "outputId": "615226f2-66b8-4738-d2cf-5ca14794ef1b"
      },
      "outputs": [
        {
          "name": "stdout",
          "output_type": "stream",
          "text": [
            "<class 'pandas.core.series.Series'>\n"
          ]
        }
      ],
      "source": [
        "print(type(df_from_list[\"Age\"]))"
      ]
    },
    {
      "cell_type": "markdown",
      "metadata": {
        "id": "MtetwympkZyy"
      },
      "source": [
        "The snippet above returns a Pandas object called a `Series`. Where the `DataFrame` is (at least) a two-dimensional object, a `Series` is instead a one-dimensional object. One can say that a `DataFrame` is a *container* for several `Series`, that correspond to the `DataFrame` columns.\n",
        "\n",
        "**Please note**: the Series contains only the data of the column. It does not contain the column name available in the `DataFrame` header."
      ]
    },
    {
      "cell_type": "markdown",
      "metadata": {
        "id": "gbqtYTqCkZyy"
      },
      "source": [
        "#### Taking a slice of a Pandas `DataFrame`\n",
        "\n",
        "It is also possible to extract some columns from a `DataFrame` and get a `DataFrame` as a result. This can be achieved as"
      ]
    },
    {
      "cell_type": "code",
      "execution_count": 53,
      "metadata": {
        "id": "aJYJJPb7kZyy"
      },
      "outputs": [],
      "source": [
        "df_age_from_list = df_from_list[[\"Age\"]]"
      ]
    },
    {
      "cell_type": "code",
      "execution_count": 54,
      "metadata": {
        "id": "JR63541HkZyy",
        "outputId": "f6f1190f-7572-4503-a994-bbcc1568a257"
      },
      "outputs": [
        {
          "data": {
            "application/vnd.microsoft.datawrangler.viewer.v0+json": {
              "columns": [
                {
                  "name": "index",
                  "rawType": "int64",
                  "type": "integer"
                },
                {
                  "name": "Age",
                  "rawType": "int64",
                  "type": "integer"
                }
              ],
              "ref": "475b12a8-0198-4cd4-b504-0c082f32bdef",
              "rows": [
                [
                  "0",
                  "31"
                ],
                [
                  "1",
                  "42"
                ],
                [
                  "2",
                  "12"
                ],
                [
                  "3",
                  "56"
                ]
              ],
              "shape": {
                "columns": 1,
                "rows": 4
              }
            },
            "text/html": [
              "<div>\n",
              "<style scoped>\n",
              "    .dataframe tbody tr th:only-of-type {\n",
              "        vertical-align: middle;\n",
              "    }\n",
              "\n",
              "    .dataframe tbody tr th {\n",
              "        vertical-align: top;\n",
              "    }\n",
              "\n",
              "    .dataframe thead th {\n",
              "        text-align: right;\n",
              "    }\n",
              "</style>\n",
              "<table border=\"1\" class=\"dataframe\">\n",
              "  <thead>\n",
              "    <tr style=\"text-align: right;\">\n",
              "      <th></th>\n",
              "      <th>Age</th>\n",
              "    </tr>\n",
              "  </thead>\n",
              "  <tbody>\n",
              "    <tr>\n",
              "      <th>0</th>\n",
              "      <td>31</td>\n",
              "    </tr>\n",
              "    <tr>\n",
              "      <th>1</th>\n",
              "      <td>42</td>\n",
              "    </tr>\n",
              "    <tr>\n",
              "      <th>2</th>\n",
              "      <td>12</td>\n",
              "    </tr>\n",
              "    <tr>\n",
              "      <th>3</th>\n",
              "      <td>56</td>\n",
              "    </tr>\n",
              "  </tbody>\n",
              "</table>\n",
              "</div>"
            ],
            "text/plain": [
              "   Age\n",
              "0   31\n",
              "1   42\n",
              "2   12\n",
              "3   56"
            ]
          },
          "execution_count": 54,
          "metadata": {},
          "output_type": "execute_result"
        }
      ],
      "source": [
        "df_age_from_list"
      ]
    },
    {
      "cell_type": "code",
      "execution_count": 55,
      "metadata": {
        "id": "85gUFMPekZyy",
        "outputId": "b4428a66-5f66-4768-8eb4-2b60ebb37bc2"
      },
      "outputs": [
        {
          "name": "stdout",
          "output_type": "stream",
          "text": [
            "<class 'pandas.core.frame.DataFrame'>\n"
          ]
        }
      ],
      "source": [
        "print(type(df_age_from_list))"
      ]
    },
    {
      "cell_type": "markdown",
      "metadata": {
        "id": "8cP_SHnLkZyy"
      },
      "source": [
        "**Adding or dropping columns in a `DataFrame`**\n",
        "\n",
        "The snippet below can be used to add a new column to an existing `DataFrame`"
      ]
    },
    {
      "cell_type": "code",
      "execution_count": 56,
      "metadata": {
        "id": "ZpY3c_WJkZyy",
        "outputId": "596a9d1f-f694-4cd9-970b-4dc741291f47"
      },
      "outputs": [
        {
          "data": {
            "application/vnd.microsoft.datawrangler.viewer.v0+json": {
              "columns": [
                {
                  "name": "index",
                  "rawType": "int64",
                  "type": "integer"
                },
                {
                  "name": "Name",
                  "rawType": "object",
                  "type": "string"
                },
                {
                  "name": "Age",
                  "rawType": "int64",
                  "type": "integer"
                },
                {
                  "name": "Shoe-size",
                  "rawType": "int64",
                  "type": "integer"
                },
                {
                  "name": "Country",
                  "rawType": "object",
                  "type": "string"
                }
              ],
              "ref": "0069be75-99e7-4a13-8383-060e2421a97e",
              "rows": [
                [
                  "0",
                  "Tom",
                  "31",
                  "35",
                  "US"
                ],
                [
                  "1",
                  "Paul",
                  "42",
                  "42",
                  "DE"
                ],
                [
                  "2",
                  "John",
                  "12",
                  "36",
                  "UK"
                ],
                [
                  "3",
                  "Sarah",
                  "56",
                  "31",
                  "IT"
                ]
              ],
              "shape": {
                "columns": 4,
                "rows": 4
              }
            },
            "text/html": [
              "<div>\n",
              "<style scoped>\n",
              "    .dataframe tbody tr th:only-of-type {\n",
              "        vertical-align: middle;\n",
              "    }\n",
              "\n",
              "    .dataframe tbody tr th {\n",
              "        vertical-align: top;\n",
              "    }\n",
              "\n",
              "    .dataframe thead th {\n",
              "        text-align: right;\n",
              "    }\n",
              "</style>\n",
              "<table border=\"1\" class=\"dataframe\">\n",
              "  <thead>\n",
              "    <tr style=\"text-align: right;\">\n",
              "      <th></th>\n",
              "      <th>Name</th>\n",
              "      <th>Age</th>\n",
              "      <th>Shoe-size</th>\n",
              "      <th>Country</th>\n",
              "    </tr>\n",
              "  </thead>\n",
              "  <tbody>\n",
              "    <tr>\n",
              "      <th>0</th>\n",
              "      <td>Tom</td>\n",
              "      <td>31</td>\n",
              "      <td>35</td>\n",
              "      <td>US</td>\n",
              "    </tr>\n",
              "    <tr>\n",
              "      <th>1</th>\n",
              "      <td>Paul</td>\n",
              "      <td>42</td>\n",
              "      <td>42</td>\n",
              "      <td>DE</td>\n",
              "    </tr>\n",
              "    <tr>\n",
              "      <th>2</th>\n",
              "      <td>John</td>\n",
              "      <td>12</td>\n",
              "      <td>36</td>\n",
              "      <td>UK</td>\n",
              "    </tr>\n",
              "    <tr>\n",
              "      <th>3</th>\n",
              "      <td>Sarah</td>\n",
              "      <td>56</td>\n",
              "      <td>31</td>\n",
              "      <td>IT</td>\n",
              "    </tr>\n",
              "  </tbody>\n",
              "</table>\n",
              "</div>"
            ],
            "text/plain": [
              "    Name  Age  Shoe-size Country\n",
              "0    Tom   31         35      US\n",
              "1   Paul   42         42      DE\n",
              "2   John   12         36      UK\n",
              "3  Sarah   56         31      IT"
            ]
          },
          "execution_count": 56,
          "metadata": {},
          "output_type": "execute_result"
        }
      ],
      "source": [
        "df_from_list[\"Country\"]=[\"US\", \"DE\", \"UK\", \"IT\"]\n",
        "df_from_list"
      ]
    },
    {
      "cell_type": "markdown",
      "metadata": {
        "id": "KdWeXRGAkZyy"
      },
      "source": [
        "The snippet instead can be used to drop a column"
      ]
    },
    {
      "cell_type": "code",
      "execution_count": 57,
      "metadata": {
        "id": "TJam3PUAkZyz",
        "outputId": "194d386a-9bea-4911-df32-7748470b5d65"
      },
      "outputs": [
        {
          "data": {
            "application/vnd.microsoft.datawrangler.viewer.v0+json": {
              "columns": [
                {
                  "name": "index",
                  "rawType": "int64",
                  "type": "integer"
                },
                {
                  "name": "Name",
                  "rawType": "object",
                  "type": "string"
                },
                {
                  "name": "Age",
                  "rawType": "int64",
                  "type": "integer"
                },
                {
                  "name": "Shoe-size",
                  "rawType": "int64",
                  "type": "integer"
                }
              ],
              "ref": "a65a35a5-ee94-41d0-8757-351085560a26",
              "rows": [
                [
                  "0",
                  "Tom",
                  "31",
                  "35"
                ],
                [
                  "1",
                  "Paul",
                  "42",
                  "42"
                ],
                [
                  "2",
                  "John",
                  "12",
                  "36"
                ],
                [
                  "3",
                  "Sarah",
                  "56",
                  "31"
                ]
              ],
              "shape": {
                "columns": 3,
                "rows": 4
              }
            },
            "text/html": [
              "<div>\n",
              "<style scoped>\n",
              "    .dataframe tbody tr th:only-of-type {\n",
              "        vertical-align: middle;\n",
              "    }\n",
              "\n",
              "    .dataframe tbody tr th {\n",
              "        vertical-align: top;\n",
              "    }\n",
              "\n",
              "    .dataframe thead th {\n",
              "        text-align: right;\n",
              "    }\n",
              "</style>\n",
              "<table border=\"1\" class=\"dataframe\">\n",
              "  <thead>\n",
              "    <tr style=\"text-align: right;\">\n",
              "      <th></th>\n",
              "      <th>Name</th>\n",
              "      <th>Age</th>\n",
              "      <th>Shoe-size</th>\n",
              "    </tr>\n",
              "  </thead>\n",
              "  <tbody>\n",
              "    <tr>\n",
              "      <th>0</th>\n",
              "      <td>Tom</td>\n",
              "      <td>31</td>\n",
              "      <td>35</td>\n",
              "    </tr>\n",
              "    <tr>\n",
              "      <th>1</th>\n",
              "      <td>Paul</td>\n",
              "      <td>42</td>\n",
              "      <td>42</td>\n",
              "    </tr>\n",
              "    <tr>\n",
              "      <th>2</th>\n",
              "      <td>John</td>\n",
              "      <td>12</td>\n",
              "      <td>36</td>\n",
              "    </tr>\n",
              "    <tr>\n",
              "      <th>3</th>\n",
              "      <td>Sarah</td>\n",
              "      <td>56</td>\n",
              "      <td>31</td>\n",
              "    </tr>\n",
              "  </tbody>\n",
              "</table>\n",
              "</div>"
            ],
            "text/plain": [
              "    Name  Age  Shoe-size\n",
              "0    Tom   31         35\n",
              "1   Paul   42         42\n",
              "2   John   12         36\n",
              "3  Sarah   56         31"
            ]
          },
          "execution_count": 57,
          "metadata": {},
          "output_type": "execute_result"
        }
      ],
      "source": [
        "df_from_list = df_from_list.drop(\"Country\", axis=1)\n",
        "df_from_list"
      ]
    },
    {
      "cell_type": "markdown",
      "metadata": {
        "id": "KZxsX3IbkZyz"
      },
      "source": [
        "The snippet below remains valid also to drop a row. This can be achieved with `axis=0`."
      ]
    },
    {
      "cell_type": "markdown",
      "metadata": {
        "id": "vEnZuWkzkZyz"
      },
      "source": [
        "**Further `DataFrame` methods**\n",
        "\n",
        "It is possible to add new columns to an existing `DataFrame` named `dataframe_name` with the following methods:\n",
        "- `dataframe_name.map()`: given a mapping dictionary, the method applies element-wise a certain mapping to a `Series` object (as a column)"
      ]
    },
    {
      "cell_type": "code",
      "execution_count": 58,
      "metadata": {
        "id": "2JoqLmrgkZyz",
        "outputId": "a3fc0b90-a16b-4dfa-ae5a-00495029ef8c"
      },
      "outputs": [
        {
          "data": {
            "application/vnd.microsoft.datawrangler.viewer.v0+json": {
              "columns": [
                {
                  "name": "index",
                  "rawType": "int64",
                  "type": "integer"
                },
                {
                  "name": "Name",
                  "rawType": "object",
                  "type": "string"
                },
                {
                  "name": "Age",
                  "rawType": "int64",
                  "type": "integer"
                },
                {
                  "name": "Shoe-size",
                  "rawType": "int64",
                  "type": "integer"
                },
                {
                  "name": "Country",
                  "rawType": "object",
                  "type": "string"
                },
                {
                  "name": "Country_numeric_map",
                  "rawType": "float64",
                  "type": "float"
                }
              ],
              "ref": "dd1989ae-38b2-41e8-a425-fb1f33747fd2",
              "rows": [
                [
                  "0",
                  "Tom",
                  "31",
                  "35",
                  "US",
                  "0.0"
                ],
                [
                  "1",
                  "Paul",
                  "42",
                  "42",
                  "DE",
                  "1.0"
                ],
                [
                  "2",
                  "John",
                  "12",
                  "36",
                  "UK",
                  "2.0"
                ],
                [
                  "3",
                  "Sarah",
                  "56",
                  "31",
                  "IT",
                  null
                ]
              ],
              "shape": {
                "columns": 5,
                "rows": 4
              }
            },
            "text/html": [
              "<div>\n",
              "<style scoped>\n",
              "    .dataframe tbody tr th:only-of-type {\n",
              "        vertical-align: middle;\n",
              "    }\n",
              "\n",
              "    .dataframe tbody tr th {\n",
              "        vertical-align: top;\n",
              "    }\n",
              "\n",
              "    .dataframe thead th {\n",
              "        text-align: right;\n",
              "    }\n",
              "</style>\n",
              "<table border=\"1\" class=\"dataframe\">\n",
              "  <thead>\n",
              "    <tr style=\"text-align: right;\">\n",
              "      <th></th>\n",
              "      <th>Name</th>\n",
              "      <th>Age</th>\n",
              "      <th>Shoe-size</th>\n",
              "      <th>Country</th>\n",
              "      <th>Country_numeric_map</th>\n",
              "    </tr>\n",
              "  </thead>\n",
              "  <tbody>\n",
              "    <tr>\n",
              "      <th>0</th>\n",
              "      <td>Tom</td>\n",
              "      <td>31</td>\n",
              "      <td>35</td>\n",
              "      <td>US</td>\n",
              "      <td>0.0</td>\n",
              "    </tr>\n",
              "    <tr>\n",
              "      <th>1</th>\n",
              "      <td>Paul</td>\n",
              "      <td>42</td>\n",
              "      <td>42</td>\n",
              "      <td>DE</td>\n",
              "      <td>1.0</td>\n",
              "    </tr>\n",
              "    <tr>\n",
              "      <th>2</th>\n",
              "      <td>John</td>\n",
              "      <td>12</td>\n",
              "      <td>36</td>\n",
              "      <td>UK</td>\n",
              "      <td>2.0</td>\n",
              "    </tr>\n",
              "    <tr>\n",
              "      <th>3</th>\n",
              "      <td>Sarah</td>\n",
              "      <td>56</td>\n",
              "      <td>31</td>\n",
              "      <td>IT</td>\n",
              "      <td>NaN</td>\n",
              "    </tr>\n",
              "  </tbody>\n",
              "</table>\n",
              "</div>"
            ],
            "text/plain": [
              "    Name  Age  Shoe-size Country  Country_numeric_map\n",
              "0    Tom   31         35      US                  0.0\n",
              "1   Paul   42         42      DE                  1.0\n",
              "2   John   12         36      UK                  2.0\n",
              "3  Sarah   56         31      IT                  NaN"
            ]
          },
          "execution_count": 58,
          "metadata": {},
          "output_type": "execute_result"
        }
      ],
      "source": [
        "df_from_list[\"Country\"]=[\"US\", \"DE\", \"UK\", \"IT\"]\n",
        "df_from_list[\"Country_numeric_map\"] = df_from_list[\"Country\"].map({\"US\": 0.0, \"DE\": 1.0, \"UK\": 2.0})\n",
        "df_from_list"
      ]
    },
    {
      "cell_type": "markdown",
      "metadata": {
        "id": "XQgQF8bMkZyz"
      },
      "source": [
        "- `dataframe_name.replace`: it works as the `map` method, but it has the difference that if the `Series` contains a category not mapped in the mapping dictionary, the method simply carries over the unmapped category in the new column (instead of assigning a `NaN` to it)"
      ]
    },
    {
      "cell_type": "code",
      "execution_count": 59,
      "metadata": {
        "id": "32g2nyskkZyz",
        "outputId": "db74d43d-68f5-447d-8950-85df2161c105"
      },
      "outputs": [
        {
          "data": {
            "application/vnd.microsoft.datawrangler.viewer.v0+json": {
              "columns": [
                {
                  "name": "index",
                  "rawType": "int64",
                  "type": "integer"
                },
                {
                  "name": "Name",
                  "rawType": "object",
                  "type": "string"
                },
                {
                  "name": "Age",
                  "rawType": "int64",
                  "type": "integer"
                },
                {
                  "name": "Shoe-size",
                  "rawType": "int64",
                  "type": "integer"
                },
                {
                  "name": "Country",
                  "rawType": "object",
                  "type": "string"
                },
                {
                  "name": "Country_numeric_map",
                  "rawType": "float64",
                  "type": "float"
                },
                {
                  "name": "Country_numeric_replace",
                  "rawType": "object",
                  "type": "unknown"
                }
              ],
              "ref": "b5b23dba-08c4-44c1-8a7c-aa2b10cfc260",
              "rows": [
                [
                  "0",
                  "Tom",
                  "31",
                  "35",
                  "US",
                  "0.0",
                  "0.0"
                ],
                [
                  "1",
                  "Paul",
                  "42",
                  "42",
                  "DE",
                  "1.0",
                  "1.0"
                ],
                [
                  "2",
                  "John",
                  "12",
                  "36",
                  "UK",
                  "2.0",
                  "2.0"
                ],
                [
                  "3",
                  "Sarah",
                  "56",
                  "31",
                  "IT",
                  null,
                  "IT"
                ]
              ],
              "shape": {
                "columns": 6,
                "rows": 4
              }
            },
            "text/html": [
              "<div>\n",
              "<style scoped>\n",
              "    .dataframe tbody tr th:only-of-type {\n",
              "        vertical-align: middle;\n",
              "    }\n",
              "\n",
              "    .dataframe tbody tr th {\n",
              "        vertical-align: top;\n",
              "    }\n",
              "\n",
              "    .dataframe thead th {\n",
              "        text-align: right;\n",
              "    }\n",
              "</style>\n",
              "<table border=\"1\" class=\"dataframe\">\n",
              "  <thead>\n",
              "    <tr style=\"text-align: right;\">\n",
              "      <th></th>\n",
              "      <th>Name</th>\n",
              "      <th>Age</th>\n",
              "      <th>Shoe-size</th>\n",
              "      <th>Country</th>\n",
              "      <th>Country_numeric_map</th>\n",
              "      <th>Country_numeric_replace</th>\n",
              "    </tr>\n",
              "  </thead>\n",
              "  <tbody>\n",
              "    <tr>\n",
              "      <th>0</th>\n",
              "      <td>Tom</td>\n",
              "      <td>31</td>\n",
              "      <td>35</td>\n",
              "      <td>US</td>\n",
              "      <td>0.0</td>\n",
              "      <td>0.0</td>\n",
              "    </tr>\n",
              "    <tr>\n",
              "      <th>1</th>\n",
              "      <td>Paul</td>\n",
              "      <td>42</td>\n",
              "      <td>42</td>\n",
              "      <td>DE</td>\n",
              "      <td>1.0</td>\n",
              "      <td>1.0</td>\n",
              "    </tr>\n",
              "    <tr>\n",
              "      <th>2</th>\n",
              "      <td>John</td>\n",
              "      <td>12</td>\n",
              "      <td>36</td>\n",
              "      <td>UK</td>\n",
              "      <td>2.0</td>\n",
              "      <td>2.0</td>\n",
              "    </tr>\n",
              "    <tr>\n",
              "      <th>3</th>\n",
              "      <td>Sarah</td>\n",
              "      <td>56</td>\n",
              "      <td>31</td>\n",
              "      <td>IT</td>\n",
              "      <td>NaN</td>\n",
              "      <td>IT</td>\n",
              "    </tr>\n",
              "  </tbody>\n",
              "</table>\n",
              "</div>"
            ],
            "text/plain": [
              "    Name  Age  Shoe-size Country  Country_numeric_map Country_numeric_replace\n",
              "0    Tom   31         35      US                  0.0                     0.0\n",
              "1   Paul   42         42      DE                  1.0                     1.0\n",
              "2   John   12         36      UK                  2.0                     2.0\n",
              "3  Sarah   56         31      IT                  NaN                      IT"
            ]
          },
          "execution_count": 59,
          "metadata": {},
          "output_type": "execute_result"
        }
      ],
      "source": [
        "df_from_list[\"Country_numeric_replace\"] = df_from_list[\"Country\"].replace({\"US\": 0.0, \"DE\": 1.0, \"UK\": 2.0})\n",
        "df_from_list"
      ]
    },
    {
      "cell_type": "markdown",
      "metadata": {
        "id": "FziTX9KNkZyz"
      },
      "source": [
        "- `dataframe_name.apply()`: the method applies a function to all values within a Pandas `Series` or `DataFrame`. The applied function can be either built-in or custom\n",
        "- `dataframe_name.applymap()`: the method applies a built-in or custom function element-wise to a `DataFrame` object\n",
        "- `dataframe_name.iloc()` and `dataframe_name.loc()`: the methods are used to slice a `DataFrame` by filtering on columns and/or rows. `iloc` performs the slicing using indexes or index positions, while `loc` using labels or names"
      ]
    },
    {
      "cell_type": "code",
      "execution_count": 60,
      "metadata": {
        "id": "puPzyXy5kZyz",
        "outputId": "329d4fe3-a867-41d6-c6be-3e27408d58c1"
      },
      "outputs": [
        {
          "data": {
            "application/vnd.microsoft.datawrangler.viewer.v0+json": {
              "columns": [
                {
                  "name": "index",
                  "rawType": "int64",
                  "type": "integer"
                },
                {
                  "name": "Name",
                  "rawType": "object",
                  "type": "string"
                },
                {
                  "name": "Age",
                  "rawType": "int64",
                  "type": "integer"
                },
                {
                  "name": "Shoe-size",
                  "rawType": "int64",
                  "type": "integer"
                },
                {
                  "name": "Country",
                  "rawType": "object",
                  "type": "string"
                },
                {
                  "name": "Country_numeric_map",
                  "rawType": "float64",
                  "type": "float"
                },
                {
                  "name": "Country_numeric_replace",
                  "rawType": "object",
                  "type": "unknown"
                }
              ],
              "ref": "5576d769-98c1-40de-be1d-a73f97f4e46b",
              "rows": [
                [
                  "1",
                  "Paul",
                  "42",
                  "42",
                  "DE",
                  "1.0",
                  "1.0"
                ]
              ],
              "shape": {
                "columns": 6,
                "rows": 1
              }
            },
            "text/html": [
              "<div>\n",
              "<style scoped>\n",
              "    .dataframe tbody tr th:only-of-type {\n",
              "        vertical-align: middle;\n",
              "    }\n",
              "\n",
              "    .dataframe tbody tr th {\n",
              "        vertical-align: top;\n",
              "    }\n",
              "\n",
              "    .dataframe thead th {\n",
              "        text-align: right;\n",
              "    }\n",
              "</style>\n",
              "<table border=\"1\" class=\"dataframe\">\n",
              "  <thead>\n",
              "    <tr style=\"text-align: right;\">\n",
              "      <th></th>\n",
              "      <th>Name</th>\n",
              "      <th>Age</th>\n",
              "      <th>Shoe-size</th>\n",
              "      <th>Country</th>\n",
              "      <th>Country_numeric_map</th>\n",
              "      <th>Country_numeric_replace</th>\n",
              "    </tr>\n",
              "  </thead>\n",
              "  <tbody>\n",
              "    <tr>\n",
              "      <th>1</th>\n",
              "      <td>Paul</td>\n",
              "      <td>42</td>\n",
              "      <td>42</td>\n",
              "      <td>DE</td>\n",
              "      <td>1.0</td>\n",
              "      <td>1.0</td>\n",
              "    </tr>\n",
              "  </tbody>\n",
              "</table>\n",
              "</div>"
            ],
            "text/plain": [
              "   Name  Age  Shoe-size Country  Country_numeric_map Country_numeric_replace\n",
              "1  Paul   42         42      DE                  1.0                     1.0"
            ]
          },
          "execution_count": 60,
          "metadata": {},
          "output_type": "execute_result"
        }
      ],
      "source": [
        "# iloc - filter the second row\n",
        "df_from_list.iloc[[1]]"
      ]
    },
    {
      "cell_type": "markdown",
      "metadata": {
        "id": "jh6c7jOWkZy0"
      },
      "source": [
        "Please note that `df_from_list.iloc[1]` would have returned a Pandas `Series` instead of a Pandas `DataFrame`. Furthermore"
      ]
    },
    {
      "cell_type": "code",
      "execution_count": 61,
      "metadata": {
        "id": "TrilqaKikZy0",
        "outputId": "fe07c0c2-306b-4639-924a-1d11da48ffca"
      },
      "outputs": [
        {
          "data": {
            "application/vnd.microsoft.datawrangler.viewer.v0+json": {
              "columns": [
                {
                  "name": "index",
                  "rawType": "int64",
                  "type": "integer"
                },
                {
                  "name": "Age",
                  "rawType": "int64",
                  "type": "integer"
                }
              ],
              "ref": "00de1bf3-d8dd-4b30-b8f4-76e4a5bcbf87",
              "rows": [
                [
                  "0",
                  "31"
                ],
                [
                  "1",
                  "42"
                ],
                [
                  "2",
                  "12"
                ],
                [
                  "3",
                  "56"
                ]
              ],
              "shape": {
                "columns": 1,
                "rows": 4
              }
            },
            "text/plain": [
              "0    31\n",
              "1    42\n",
              "2    12\n",
              "3    56\n",
              "Name: Age, dtype: int64"
            ]
          },
          "execution_count": 61,
          "metadata": {},
          "output_type": "execute_result"
        }
      ],
      "source": [
        "# iloc - filter the second column\n",
        "df_from_list.iloc[:, 1]"
      ]
    },
    {
      "cell_type": "code",
      "execution_count": 62,
      "metadata": {
        "id": "TTSUgkGUkZy0",
        "outputId": "644a3d30-c524-4b5c-b93e-0ce29c61ce83"
      },
      "outputs": [
        {
          "data": {
            "application/vnd.microsoft.datawrangler.viewer.v0+json": {
              "columns": [
                {
                  "name": "index",
                  "rawType": "int64",
                  "type": "integer"
                },
                {
                  "name": "Age",
                  "rawType": "int64",
                  "type": "integer"
                },
                {
                  "name": "Country",
                  "rawType": "object",
                  "type": "string"
                },
                {
                  "name": "Country_numeric_map",
                  "rawType": "float64",
                  "type": "float"
                }
              ],
              "ref": "9a5b5716-ff7a-4794-a76d-b9f16bcd612a",
              "rows": [
                [
                  "0",
                  "31",
                  "US",
                  "0.0"
                ],
                [
                  "1",
                  "42",
                  "DE",
                  "1.0"
                ],
                [
                  "2",
                  "12",
                  "UK",
                  "2.0"
                ],
                [
                  "3",
                  "56",
                  "IT",
                  null
                ]
              ],
              "shape": {
                "columns": 3,
                "rows": 4
              }
            },
            "text/html": [
              "<div>\n",
              "<style scoped>\n",
              "    .dataframe tbody tr th:only-of-type {\n",
              "        vertical-align: middle;\n",
              "    }\n",
              "\n",
              "    .dataframe tbody tr th {\n",
              "        vertical-align: top;\n",
              "    }\n",
              "\n",
              "    .dataframe thead th {\n",
              "        text-align: right;\n",
              "    }\n",
              "</style>\n",
              "<table border=\"1\" class=\"dataframe\">\n",
              "  <thead>\n",
              "    <tr style=\"text-align: right;\">\n",
              "      <th></th>\n",
              "      <th>Age</th>\n",
              "      <th>Country</th>\n",
              "      <th>Country_numeric_map</th>\n",
              "    </tr>\n",
              "  </thead>\n",
              "  <tbody>\n",
              "    <tr>\n",
              "      <th>0</th>\n",
              "      <td>31</td>\n",
              "      <td>US</td>\n",
              "      <td>0.0</td>\n",
              "    </tr>\n",
              "    <tr>\n",
              "      <th>1</th>\n",
              "      <td>42</td>\n",
              "      <td>DE</td>\n",
              "      <td>1.0</td>\n",
              "    </tr>\n",
              "    <tr>\n",
              "      <th>2</th>\n",
              "      <td>12</td>\n",
              "      <td>UK</td>\n",
              "      <td>2.0</td>\n",
              "    </tr>\n",
              "    <tr>\n",
              "      <th>3</th>\n",
              "      <td>56</td>\n",
              "      <td>IT</td>\n",
              "      <td>NaN</td>\n",
              "    </tr>\n",
              "  </tbody>\n",
              "</table>\n",
              "</div>"
            ],
            "text/plain": [
              "   Age Country  Country_numeric_map\n",
              "0   31      US                  0.0\n",
              "1   42      DE                  1.0\n",
              "2   12      UK                  2.0\n",
              "3   56      IT                  NaN"
            ]
          },
          "execution_count": 62,
          "metadata": {},
          "output_type": "execute_result"
        }
      ],
      "source": [
        "# iloc - filter just the second, the fourth and the fifth columns\n",
        "df_from_list.iloc[:, [1,3,4]]"
      ]
    },
    {
      "cell_type": "code",
      "execution_count": 63,
      "metadata": {
        "id": "Sr2IA8OikZy0",
        "outputId": "640b5723-9af0-43d1-cc55-06b46a705388"
      },
      "outputs": [
        {
          "data": {
            "application/vnd.microsoft.datawrangler.viewer.v0+json": {
              "columns": [
                {
                  "name": "index",
                  "rawType": "int64",
                  "type": "integer"
                },
                {
                  "name": "Name",
                  "rawType": "object",
                  "type": "string"
                },
                {
                  "name": "Age",
                  "rawType": "int64",
                  "type": "integer"
                },
                {
                  "name": "Shoe-size",
                  "rawType": "int64",
                  "type": "integer"
                },
                {
                  "name": "Country",
                  "rawType": "object",
                  "type": "string"
                },
                {
                  "name": "Country_numeric_map",
                  "rawType": "float64",
                  "type": "float"
                },
                {
                  "name": "Country_numeric_replace",
                  "rawType": "object",
                  "type": "unknown"
                }
              ],
              "ref": "49303357-f184-4451-b3a6-63122dcc253b",
              "rows": [
                [
                  "1",
                  "Paul",
                  "42",
                  "42",
                  "DE",
                  "1.0",
                  "1.0"
                ]
              ],
              "shape": {
                "columns": 6,
                "rows": 1
              }
            },
            "text/html": [
              "<div>\n",
              "<style scoped>\n",
              "    .dataframe tbody tr th:only-of-type {\n",
              "        vertical-align: middle;\n",
              "    }\n",
              "\n",
              "    .dataframe tbody tr th {\n",
              "        vertical-align: top;\n",
              "    }\n",
              "\n",
              "    .dataframe thead th {\n",
              "        text-align: right;\n",
              "    }\n",
              "</style>\n",
              "<table border=\"1\" class=\"dataframe\">\n",
              "  <thead>\n",
              "    <tr style=\"text-align: right;\">\n",
              "      <th></th>\n",
              "      <th>Name</th>\n",
              "      <th>Age</th>\n",
              "      <th>Shoe-size</th>\n",
              "      <th>Country</th>\n",
              "      <th>Country_numeric_map</th>\n",
              "      <th>Country_numeric_replace</th>\n",
              "    </tr>\n",
              "  </thead>\n",
              "  <tbody>\n",
              "    <tr>\n",
              "      <th>1</th>\n",
              "      <td>Paul</td>\n",
              "      <td>42</td>\n",
              "      <td>42</td>\n",
              "      <td>DE</td>\n",
              "      <td>1.0</td>\n",
              "      <td>1.0</td>\n",
              "    </tr>\n",
              "  </tbody>\n",
              "</table>\n",
              "</div>"
            ],
            "text/plain": [
              "   Name  Age  Shoe-size Country  Country_numeric_map Country_numeric_replace\n",
              "1  Paul   42         42      DE                  1.0                     1.0"
            ]
          },
          "execution_count": 63,
          "metadata": {},
          "output_type": "execute_result"
        }
      ],
      "source": [
        "# loc - filter the second row\n",
        "df_from_list.loc[[1]]"
      ]
    },
    {
      "cell_type": "markdown",
      "metadata": {
        "id": "qqYNPU0QkZy0"
      },
      "source": [
        "Please note that `df_from_list.loc[1]` would have returned a Pandas `Series` instead of a Pandas `DataFrame`. Furthermore"
      ]
    },
    {
      "cell_type": "code",
      "execution_count": 64,
      "metadata": {
        "id": "3a22_41NkZy0",
        "outputId": "5f5a4176-e482-4004-9390-66431dccea5e"
      },
      "outputs": [
        {
          "data": {
            "application/vnd.microsoft.datawrangler.viewer.v0+json": {
              "columns": [
                {
                  "name": "index",
                  "rawType": "int64",
                  "type": "integer"
                },
                {
                  "name": "Age",
                  "rawType": "int64",
                  "type": "integer"
                }
              ],
              "ref": "f1594f9a-c08c-4162-a69f-6c998acff034",
              "rows": [
                [
                  "0",
                  "31"
                ],
                [
                  "1",
                  "42"
                ],
                [
                  "2",
                  "12"
                ],
                [
                  "3",
                  "56"
                ]
              ],
              "shape": {
                "columns": 1,
                "rows": 4
              }
            },
            "text/plain": [
              "0    31\n",
              "1    42\n",
              "2    12\n",
              "3    56\n",
              "Name: Age, dtype: int64"
            ]
          },
          "execution_count": 64,
          "metadata": {},
          "output_type": "execute_result"
        }
      ],
      "source": [
        "# loc - filter the second column\n",
        "df_from_list.loc[:, \"Age\"]"
      ]
    },
    {
      "cell_type": "code",
      "execution_count": 65,
      "metadata": {
        "id": "vqbxv6eZkZy0",
        "outputId": "fcde6d11-973f-4bda-90b3-78a9aaf05e57"
      },
      "outputs": [
        {
          "data": {
            "application/vnd.microsoft.datawrangler.viewer.v0+json": {
              "columns": [
                {
                  "name": "index",
                  "rawType": "int64",
                  "type": "integer"
                },
                {
                  "name": "Age",
                  "rawType": "int64",
                  "type": "integer"
                },
                {
                  "name": "Country",
                  "rawType": "object",
                  "type": "string"
                },
                {
                  "name": "Country_numeric_map",
                  "rawType": "float64",
                  "type": "float"
                }
              ],
              "ref": "f8cd2f56-8380-4429-931c-0ff14454cdfc",
              "rows": [
                [
                  "0",
                  "31",
                  "US",
                  "0.0"
                ],
                [
                  "1",
                  "42",
                  "DE",
                  "1.0"
                ],
                [
                  "2",
                  "12",
                  "UK",
                  "2.0"
                ],
                [
                  "3",
                  "56",
                  "IT",
                  null
                ]
              ],
              "shape": {
                "columns": 3,
                "rows": 4
              }
            },
            "text/html": [
              "<div>\n",
              "<style scoped>\n",
              "    .dataframe tbody tr th:only-of-type {\n",
              "        vertical-align: middle;\n",
              "    }\n",
              "\n",
              "    .dataframe tbody tr th {\n",
              "        vertical-align: top;\n",
              "    }\n",
              "\n",
              "    .dataframe thead th {\n",
              "        text-align: right;\n",
              "    }\n",
              "</style>\n",
              "<table border=\"1\" class=\"dataframe\">\n",
              "  <thead>\n",
              "    <tr style=\"text-align: right;\">\n",
              "      <th></th>\n",
              "      <th>Age</th>\n",
              "      <th>Country</th>\n",
              "      <th>Country_numeric_map</th>\n",
              "    </tr>\n",
              "  </thead>\n",
              "  <tbody>\n",
              "    <tr>\n",
              "      <th>0</th>\n",
              "      <td>31</td>\n",
              "      <td>US</td>\n",
              "      <td>0.0</td>\n",
              "    </tr>\n",
              "    <tr>\n",
              "      <th>1</th>\n",
              "      <td>42</td>\n",
              "      <td>DE</td>\n",
              "      <td>1.0</td>\n",
              "    </tr>\n",
              "    <tr>\n",
              "      <th>2</th>\n",
              "      <td>12</td>\n",
              "      <td>UK</td>\n",
              "      <td>2.0</td>\n",
              "    </tr>\n",
              "    <tr>\n",
              "      <th>3</th>\n",
              "      <td>56</td>\n",
              "      <td>IT</td>\n",
              "      <td>NaN</td>\n",
              "    </tr>\n",
              "  </tbody>\n",
              "</table>\n",
              "</div>"
            ],
            "text/plain": [
              "   Age Country  Country_numeric_map\n",
              "0   31      US                  0.0\n",
              "1   42      DE                  1.0\n",
              "2   12      UK                  2.0\n",
              "3   56      IT                  NaN"
            ]
          },
          "execution_count": 65,
          "metadata": {},
          "output_type": "execute_result"
        }
      ],
      "source": [
        "# loc - filter just the second, the fourth and the fifth columns\n",
        "df_from_list.loc[:, [\"Age\", \"Country\", \"Country_numeric_map\"]]"
      ]
    },
    {
      "cell_type": "markdown",
      "metadata": {
        "id": "HOAqSL42kZy0"
      },
      "source": [
        "- `dataframe_name.rename()`: the method renames a column, by means of a mapping dictionary"
      ]
    },
    {
      "cell_type": "code",
      "execution_count": 66,
      "metadata": {
        "id": "Mvtq155HkZy1",
        "outputId": "940f6208-ee11-414c-e296-a55457f10833",
        "scrolled": true
      },
      "outputs": [
        {
          "data": {
            "application/vnd.microsoft.datawrangler.viewer.v0+json": {
              "columns": [
                {
                  "name": "index",
                  "rawType": "int64",
                  "type": "integer"
                },
                {
                  "name": "Name",
                  "rawType": "object",
                  "type": "string"
                },
                {
                  "name": "Age_renamed",
                  "rawType": "int64",
                  "type": "integer"
                },
                {
                  "name": "Shoe-size",
                  "rawType": "int64",
                  "type": "integer"
                },
                {
                  "name": "Country",
                  "rawType": "object",
                  "type": "string"
                },
                {
                  "name": "Country_numeric_map",
                  "rawType": "float64",
                  "type": "float"
                },
                {
                  "name": "Country_numeric_replace",
                  "rawType": "object",
                  "type": "unknown"
                }
              ],
              "ref": "3f5eab0e-e3d3-4a4f-b919-6419812b4bed",
              "rows": [
                [
                  "0",
                  "Tom",
                  "31",
                  "35",
                  "US",
                  "0.0",
                  "0.0"
                ],
                [
                  "1",
                  "Paul",
                  "42",
                  "42",
                  "DE",
                  "1.0",
                  "1.0"
                ],
                [
                  "2",
                  "John",
                  "12",
                  "36",
                  "UK",
                  "2.0",
                  "2.0"
                ],
                [
                  "3",
                  "Sarah",
                  "56",
                  "31",
                  "IT",
                  null,
                  "IT"
                ]
              ],
              "shape": {
                "columns": 6,
                "rows": 4
              }
            },
            "text/html": [
              "<div>\n",
              "<style scoped>\n",
              "    .dataframe tbody tr th:only-of-type {\n",
              "        vertical-align: middle;\n",
              "    }\n",
              "\n",
              "    .dataframe tbody tr th {\n",
              "        vertical-align: top;\n",
              "    }\n",
              "\n",
              "    .dataframe thead th {\n",
              "        text-align: right;\n",
              "    }\n",
              "</style>\n",
              "<table border=\"1\" class=\"dataframe\">\n",
              "  <thead>\n",
              "    <tr style=\"text-align: right;\">\n",
              "      <th></th>\n",
              "      <th>Name</th>\n",
              "      <th>Age_renamed</th>\n",
              "      <th>Shoe-size</th>\n",
              "      <th>Country</th>\n",
              "      <th>Country_numeric_map</th>\n",
              "      <th>Country_numeric_replace</th>\n",
              "    </tr>\n",
              "  </thead>\n",
              "  <tbody>\n",
              "    <tr>\n",
              "      <th>0</th>\n",
              "      <td>Tom</td>\n",
              "      <td>31</td>\n",
              "      <td>35</td>\n",
              "      <td>US</td>\n",
              "      <td>0.0</td>\n",
              "      <td>0.0</td>\n",
              "    </tr>\n",
              "    <tr>\n",
              "      <th>1</th>\n",
              "      <td>Paul</td>\n",
              "      <td>42</td>\n",
              "      <td>42</td>\n",
              "      <td>DE</td>\n",
              "      <td>1.0</td>\n",
              "      <td>1.0</td>\n",
              "    </tr>\n",
              "    <tr>\n",
              "      <th>2</th>\n",
              "      <td>John</td>\n",
              "      <td>12</td>\n",
              "      <td>36</td>\n",
              "      <td>UK</td>\n",
              "      <td>2.0</td>\n",
              "      <td>2.0</td>\n",
              "    </tr>\n",
              "    <tr>\n",
              "      <th>3</th>\n",
              "      <td>Sarah</td>\n",
              "      <td>56</td>\n",
              "      <td>31</td>\n",
              "      <td>IT</td>\n",
              "      <td>NaN</td>\n",
              "      <td>IT</td>\n",
              "    </tr>\n",
              "  </tbody>\n",
              "</table>\n",
              "</div>"
            ],
            "text/plain": [
              "    Name  Age_renamed  Shoe-size Country  Country_numeric_map  \\\n",
              "0    Tom           31         35      US                  0.0   \n",
              "1   Paul           42         42      DE                  1.0   \n",
              "2   John           12         36      UK                  2.0   \n",
              "3  Sarah           56         31      IT                  NaN   \n",
              "\n",
              "  Country_numeric_replace  \n",
              "0                     0.0  \n",
              "1                     1.0  \n",
              "2                     2.0  \n",
              "3                      IT  "
            ]
          },
          "execution_count": 66,
          "metadata": {},
          "output_type": "execute_result"
        }
      ],
      "source": [
        "df_from_list.rename(columns={\"Age\": \"Age_renamed\"})"
      ]
    },
    {
      "cell_type": "markdown",
      "metadata": {
        "id": "AVh8Z_TvkZy1"
      },
      "source": [
        "**Merging and aggregating  `DataFrame`**\n",
        "\n",
        "The `merge` function in Pandas performs on `DataFrame` the equivalent operations of an SQL join. Given two dataframes, the merge happens along shared column/s that exist in both of them. The basic syntax is `pd.merge(df_a ,df_b ,how=”type_of_join”,on=”col_name”)`. The full documentation is available at this [link](https://pandas.pydata.org/pandas-docs/stable/reference/api/pandas.merge.html).\n",
        "\n",
        "Pandas allows to perform `groupby` operations. They involve grouping by a column, applying an aggregating function and combining the results. Given the following `DataFrame`"
      ]
    },
    {
      "cell_type": "code",
      "execution_count": 67,
      "metadata": {
        "id": "Wj7_NPRykZy1",
        "outputId": "d78cceb9-d18c-4341-9e75-66887811ed05"
      },
      "outputs": [
        {
          "data": {
            "application/vnd.microsoft.datawrangler.viewer.v0+json": {
              "columns": [
                {
                  "name": "index",
                  "rawType": "int64",
                  "type": "integer"
                },
                {
                  "name": "Name",
                  "rawType": "object",
                  "type": "string"
                },
                {
                  "name": "Department",
                  "rawType": "object",
                  "type": "string"
                },
                {
                  "name": "Employment Type",
                  "rawType": "object",
                  "type": "string"
                },
                {
                  "name": "Salary",
                  "rawType": "int64",
                  "type": "integer"
                }
              ],
              "ref": "3e1877d2-2598-46e3-97f5-c279df1d6218",
              "rows": [
                [
                  "0",
                  "John",
                  "Administration",
                  "Full-time",
                  "12"
                ],
                [
                  "1",
                  "Paul",
                  "Marketing",
                  "Intern",
                  "50"
                ],
                [
                  "2",
                  "Tom",
                  "Technical",
                  "Intern",
                  "700"
                ],
                [
                  "3",
                  "Bob",
                  "Technical",
                  "Part-time",
                  "700"
                ],
                [
                  "4",
                  "Ronan",
                  "Marketing",
                  "Part-time",
                  "550"
                ],
                [
                  "5",
                  "Kirby",
                  "Administration",
                  "Full-time",
                  "12"
                ],
                [
                  "6",
                  "Sarah",
                  "Technical",
                  "Full-time",
                  "1250"
                ],
                [
                  "7",
                  "Joe",
                  "Marketing",
                  "Intern",
                  "600"
                ],
                [
                  "8",
                  "Donald",
                  "Technical",
                  "Intern",
                  "111"
                ],
                [
                  "9",
                  "Jeffrey",
                  "Administration",
                  "Full-time",
                  "12"
                ]
              ],
              "shape": {
                "columns": 4,
                "rows": 10
              }
            },
            "text/html": [
              "<div>\n",
              "<style scoped>\n",
              "    .dataframe tbody tr th:only-of-type {\n",
              "        vertical-align: middle;\n",
              "    }\n",
              "\n",
              "    .dataframe tbody tr th {\n",
              "        vertical-align: top;\n",
              "    }\n",
              "\n",
              "    .dataframe thead th {\n",
              "        text-align: right;\n",
              "    }\n",
              "</style>\n",
              "<table border=\"1\" class=\"dataframe\">\n",
              "  <thead>\n",
              "    <tr style=\"text-align: right;\">\n",
              "      <th></th>\n",
              "      <th>Name</th>\n",
              "      <th>Department</th>\n",
              "      <th>Employment Type</th>\n",
              "      <th>Salary</th>\n",
              "    </tr>\n",
              "  </thead>\n",
              "  <tbody>\n",
              "    <tr>\n",
              "      <th>0</th>\n",
              "      <td>John</td>\n",
              "      <td>Administration</td>\n",
              "      <td>Full-time</td>\n",
              "      <td>12</td>\n",
              "    </tr>\n",
              "    <tr>\n",
              "      <th>1</th>\n",
              "      <td>Paul</td>\n",
              "      <td>Marketing</td>\n",
              "      <td>Intern</td>\n",
              "      <td>50</td>\n",
              "    </tr>\n",
              "    <tr>\n",
              "      <th>2</th>\n",
              "      <td>Tom</td>\n",
              "      <td>Technical</td>\n",
              "      <td>Intern</td>\n",
              "      <td>700</td>\n",
              "    </tr>\n",
              "    <tr>\n",
              "      <th>3</th>\n",
              "      <td>Bob</td>\n",
              "      <td>Technical</td>\n",
              "      <td>Part-time</td>\n",
              "      <td>700</td>\n",
              "    </tr>\n",
              "    <tr>\n",
              "      <th>4</th>\n",
              "      <td>Ronan</td>\n",
              "      <td>Marketing</td>\n",
              "      <td>Part-time</td>\n",
              "      <td>550</td>\n",
              "    </tr>\n",
              "    <tr>\n",
              "      <th>5</th>\n",
              "      <td>Kirby</td>\n",
              "      <td>Administration</td>\n",
              "      <td>Full-time</td>\n",
              "      <td>12</td>\n",
              "    </tr>\n",
              "    <tr>\n",
              "      <th>6</th>\n",
              "      <td>Sarah</td>\n",
              "      <td>Technical</td>\n",
              "      <td>Full-time</td>\n",
              "      <td>1250</td>\n",
              "    </tr>\n",
              "    <tr>\n",
              "      <th>7</th>\n",
              "      <td>Joe</td>\n",
              "      <td>Marketing</td>\n",
              "      <td>Intern</td>\n",
              "      <td>600</td>\n",
              "    </tr>\n",
              "    <tr>\n",
              "      <th>8</th>\n",
              "      <td>Donald</td>\n",
              "      <td>Technical</td>\n",
              "      <td>Intern</td>\n",
              "      <td>111</td>\n",
              "    </tr>\n",
              "    <tr>\n",
              "      <th>9</th>\n",
              "      <td>Jeffrey</td>\n",
              "      <td>Administration</td>\n",
              "      <td>Full-time</td>\n",
              "      <td>12</td>\n",
              "    </tr>\n",
              "  </tbody>\n",
              "</table>\n",
              "</div>"
            ],
            "text/plain": [
              "      Name      Department Employment Type  Salary\n",
              "0     John  Administration       Full-time      12\n",
              "1     Paul       Marketing          Intern      50\n",
              "2      Tom       Technical          Intern     700\n",
              "3      Bob       Technical       Part-time     700\n",
              "4    Ronan       Marketing       Part-time     550\n",
              "5    Kirby  Administration       Full-time      12\n",
              "6    Sarah       Technical       Full-time    1250\n",
              "7      Joe       Marketing          Intern     600\n",
              "8   Donald       Technical          Intern     111\n",
              "9  Jeffrey  Administration       Full-time      12"
            ]
          },
          "execution_count": 67,
          "metadata": {},
          "output_type": "execute_result"
        }
      ],
      "source": [
        "data_dictionary = {\n",
        "    'Name': ['John', 'Paul', 'Tom', 'Bob', 'Ronan',\n",
        "                    'Kirby', 'Sarah', 'Joe', 'Donald', 'Jeffrey'],\n",
        "    'Department': ['Administration', 'Marketing', 'Technical', 'Technical', 'Marketing',\n",
        "                          'Administration', 'Technical', 'Marketing', 'Technical', 'Administration'],\n",
        "    'Employment Type': ['Full-time', 'Intern', 'Intern', 'Part-time', 'Part-time',\n",
        "                               'Full-time', 'Full-time', 'Intern', 'Intern', 'Full-time'],\n",
        "    'Salary': [12, 50, 700, 700, 550,\n",
        "                      12, 1250, 600, 111, 12]}\n",
        "\n",
        "# Create the DataFrame\n",
        "df = pd.DataFrame(data_dictionary)\n",
        "df"
      ]
    },
    {
      "cell_type": "markdown",
      "metadata": {
        "id": "YFP5xHY8kZy1"
      },
      "source": [
        "the snippet below groups column `Salary` by column `Department` and applies a `sum`"
      ]
    },
    {
      "cell_type": "code",
      "execution_count": 68,
      "metadata": {
        "id": "zcORwTt7kZy1",
        "outputId": "ada00278-9d08-4dad-d216-51f8365f4964"
      },
      "outputs": [
        {
          "data": {
            "application/vnd.microsoft.datawrangler.viewer.v0+json": {
              "columns": [
                {
                  "name": "Department",
                  "rawType": "object",
                  "type": "string"
                },
                {
                  "name": "Salary",
                  "rawType": "int64",
                  "type": "integer"
                }
              ],
              "ref": "eac90959-38cf-4ff9-ad57-1dd6dfc7ffd3",
              "rows": [
                [
                  "Administration",
                  "36"
                ],
                [
                  "Marketing",
                  "1200"
                ],
                [
                  "Technical",
                  "2761"
                ]
              ],
              "shape": {
                "columns": 1,
                "rows": 3
              }
            },
            "text/plain": [
              "Department\n",
              "Administration      36\n",
              "Marketing         1200\n",
              "Technical         2761\n",
              "Name: Salary, dtype: int64"
            ]
          },
          "execution_count": 68,
          "metadata": {},
          "output_type": "execute_result"
        }
      ],
      "source": [
        "df.groupby(\"Department\")[\"Salary\"].sum()"
      ]
    },
    {
      "cell_type": "markdown",
      "metadata": {
        "id": "jlxie6eXkZy1"
      },
      "source": [
        "or the snippet below groups column `Department` by column `Employment Type` and counts the occurences"
      ]
    },
    {
      "cell_type": "code",
      "execution_count": 69,
      "metadata": {
        "id": "7CIdkRohkZy1",
        "outputId": "bda1b8b1-d65a-4eb3-fa19-b3b8f1df9190"
      },
      "outputs": [
        {
          "data": {
            "application/vnd.microsoft.datawrangler.viewer.v0+json": {
              "columns": [
                {
                  "name": "Employment Type",
                  "rawType": "object",
                  "type": "string"
                },
                {
                  "name": "Department",
                  "rawType": "int64",
                  "type": "integer"
                }
              ],
              "ref": "caecd4cb-d416-4c0e-a505-5f706ec738f0",
              "rows": [
                [
                  "Full-time",
                  "4"
                ],
                [
                  "Intern",
                  "4"
                ],
                [
                  "Part-time",
                  "2"
                ]
              ],
              "shape": {
                "columns": 1,
                "rows": 3
              }
            },
            "text/plain": [
              "Employment Type\n",
              "Full-time    4\n",
              "Intern       4\n",
              "Part-time    2\n",
              "Name: Department, dtype: int64"
            ]
          },
          "execution_count": 69,
          "metadata": {},
          "output_type": "execute_result"
        }
      ],
      "source": [
        "df.groupby(\"Employment Type\")[\"Department\"].count()"
      ]
    },
    {
      "cell_type": "markdown",
      "metadata": {},
      "source": [
        "Data from Excel spreadsheets or CSV files can be imported into Python using Pandas "
      ]
    },
    {
      "cell_type": "code",
      "execution_count": 70,
      "metadata": {},
      "outputs": [],
      "source": [
        "df_power_plant = pd.read_csv(\"data/powerplants.csv\",index_col=0)"
      ]
    },
    {
      "cell_type": "code",
      "execution_count": 71,
      "metadata": {},
      "outputs": [
        {
          "data": {
            "application/vnd.microsoft.datawrangler.viewer.v0+json": {
              "columns": [
                {
                  "name": "index",
                  "rawType": "int64",
                  "type": "integer"
                },
                {
                  "name": "Name",
                  "rawType": "object",
                  "type": "string"
                },
                {
                  "name": "Fueltype",
                  "rawType": "object",
                  "type": "string"
                },
                {
                  "name": "Technology",
                  "rawType": "object",
                  "type": "unknown"
                },
                {
                  "name": "Set",
                  "rawType": "object",
                  "type": "string"
                },
                {
                  "name": "Country",
                  "rawType": "object",
                  "type": "unknown"
                },
                {
                  "name": "Capacity",
                  "rawType": "float64",
                  "type": "float"
                },
                {
                  "name": "Efficiency",
                  "rawType": "float64",
                  "type": "float"
                },
                {
                  "name": "Duration",
                  "rawType": "float64",
                  "type": "float"
                },
                {
                  "name": "Volume_Mm3",
                  "rawType": "float64",
                  "type": "float"
                },
                {
                  "name": "DamHeight_m",
                  "rawType": "float64",
                  "type": "float"
                },
                {
                  "name": "StorageCapacity_MWh",
                  "rawType": "float64",
                  "type": "float"
                },
                {
                  "name": "DateIn",
                  "rawType": "float64",
                  "type": "float"
                },
                {
                  "name": "DateRetrofit",
                  "rawType": "float64",
                  "type": "float"
                },
                {
                  "name": "DateOut",
                  "rawType": "float64",
                  "type": "float"
                },
                {
                  "name": "lat",
                  "rawType": "float64",
                  "type": "float"
                },
                {
                  "name": "lon",
                  "rawType": "float64",
                  "type": "float"
                },
                {
                  "name": "EIC",
                  "rawType": "object",
                  "type": "string"
                },
                {
                  "name": "projectID",
                  "rawType": "object",
                  "type": "string"
                },
                {
                  "name": "bus",
                  "rawType": "int64",
                  "type": "integer"
                }
              ],
              "ref": "93b42c8d-d13f-4cce-86b9-5f87802c267d",
              "rows": [
                [
                  "1",
                  "Koeberg",
                  "Nuclear",
                  "Steam Turbine",
                  "PP",
                  "ZA",
                  "1940.0",
                  null,
                  null,
                  "0.0",
                  "0.0",
                  "0.0",
                  "1984.0",
                  "1984.0",
                  "2034.0",
                  "-33.6746",
                  "18.4321",
                  "{nan, nan}",
                  "{'GNPT': {'G500317', 'G500318'}, 'GEO': {'GEO-3880'}, 'GPD': {'WRI1000137'}}",
                  "1560"
                ],
                [
                  "2",
                  "Nkula",
                  "Hydro",
                  "Reservoir",
                  "PP",
                  "MW",
                  "100.0",
                  null,
                  null,
                  "0.0",
                  "0.0",
                  "0.0",
                  "1966.0",
                  "1966.0",
                  "2066.0",
                  "-15.5269",
                  "34.8192",
                  "{nan}",
                  "{'GHPT': {'G602462'}, 'GEO': {'GEO-40388'}, 'GPD': {'WRI1023104'}}",
                  "312"
                ],
                [
                  "3",
                  "Kapichira",
                  "Hydro",
                  "Reservoir",
                  "PP",
                  "MW",
                  "130.0",
                  null,
                  null,
                  "0.0",
                  "0.0",
                  "0.0",
                  "2000.0",
                  "2000.0",
                  "2100.0",
                  "-15.8954",
                  "34.7531",
                  "{nan}",
                  "{'GHPT': {'G602459'}, 'GEO': {'GEO-40390'}, 'GPD': {'WRI1023102'}}",
                  "341"
                ],
                [
                  "4",
                  "Zongo",
                  "Hydro",
                  "Run-Of-River",
                  "PP",
                  "CD",
                  "225.0",
                  null,
                  null,
                  "0.0",
                  "0.0",
                  "0.0",
                  "1955.0",
                  "1955.0",
                  "2055.0",
                  "-4.7823",
                  "14.90445",
                  "{nan, nan}",
                  "{'GHPT': {'G601505', 'G601504'}, 'GEO': {'GEO-42631'}, 'GPD': {'WRI1061236'}}",
                  "1518"
                ],
                [
                  "5",
                  "Zilo",
                  "Hydro",
                  "Reservoir",
                  "PP",
                  "CD",
                  "108.0",
                  null,
                  null,
                  "0.0",
                  "0.0",
                  "0.0",
                  "1952.0",
                  "1952.0",
                  "2052.0",
                  "-10.4998",
                  "25.4631",
                  "{nan}",
                  "{'GHPT': {'G601501'}, 'GEO': {'GEO-42626'}, 'GPD': {'WRI1000007'}}",
                  "2493"
                ],
                [
                  "6",
                  "Mwadingusha",
                  "Hydro",
                  "Reservoir",
                  "PP",
                  "CD",
                  "78.0",
                  null,
                  null,
                  "0.0",
                  "0.0",
                  "0.0",
                  "1928.0",
                  "1928.0",
                  "2028.0",
                  "-10.7452",
                  "27.2447",
                  "{nan}",
                  "{'GHPT': {'G601499'}, 'GEO': {'GEO-42629'}, 'GPD': {'WRI1000005'}}",
                  "283"
                ],
                [
                  "7",
                  "Victoria Falls",
                  "Hydro",
                  "Run-Of-River",
                  "PP",
                  "ZM",
                  "108.0",
                  null,
                  null,
                  "0.0",
                  "0.0",
                  "0.0",
                  "1936.0",
                  "1936.0",
                  "2036.0",
                  "-17.9305",
                  "25.8598",
                  "{nan}",
                  "{'GHPT': {'G604096'}, 'GEO': {'GEO-40383'}, 'GPD': {'WRI1022380'}}",
                  "211"
                ],
                [
                  "8",
                  "Kariba Dam",
                  "Hydro",
                  "Reservoir",
                  "PP",
                  "ZM",
                  "2130.0",
                  null,
                  null,
                  "0.0",
                  "0.0",
                  "0.0",
                  "1959.0",
                  "1959.0",
                  "2059.0",
                  "-16.5225",
                  "28.7621",
                  "{nan}",
                  "{'GHPT': {'G604149'}, 'GEO': {'GEO-3802'}, 'GPD': {'WRI1000021'}}",
                  "1466"
                ],
                [
                  "9",
                  "Itezhi Tezhi",
                  "Hydro",
                  "Reservoir",
                  "PP",
                  "ZM",
                  "120.0",
                  null,
                  null,
                  "0.0",
                  "0.0",
                  "0.0",
                  "1977.0",
                  "1977.0",
                  "2077.0",
                  "-15.7601",
                  "26.0213",
                  "{nan}",
                  "{'GHPT': {'G604089'}, 'GEO': {'GEO-3698', 'GEO-45987'}, 'GPD': {'WRI1000020'}}",
                  "2388"
                ],
                [
                  "10",
                  "Mtera",
                  "Hydro",
                  "Reservoir",
                  "PP",
                  "TZ",
                  "80.0",
                  null,
                  null,
                  "0.0",
                  "0.0",
                  "0.0",
                  "1980.0",
                  "1980.0",
                  "2080.0",
                  "-7.1386",
                  "35.9888",
                  "{nan}",
                  "{'GHPT': {'G603599'}, 'GEO': {'GEO-40354'}, 'GPD': {'WRI1019869'}}",
                  "163"
                ],
                [
                  "11",
                  "Kihansi",
                  "Hydro",
                  "Run-Of-River",
                  "PP",
                  "TZ",
                  "180.0",
                  null,
                  null,
                  "0.0",
                  "0.0",
                  "0.0",
                  "1999.0",
                  "1999.0",
                  "2099.0",
                  "-8.5751",
                  "35.8512",
                  "{nan}",
                  "{'GHPT': {'G603597'}, 'GEO': {'GEO-40352'}, 'GPD': {'WRI1019868'}}",
                  "167"
                ],
                [
                  "12",
                  "Kidatu",
                  "Hydro",
                  "Reservoir",
                  "PP",
                  "TZ",
                  "200.0",
                  null,
                  null,
                  "0.0",
                  "0.0",
                  "0.0",
                  "1975.0",
                  "1975.0",
                  "2075.0",
                  "-7.6367",
                  "36.8866",
                  "{nan}",
                  "{'GHPT': {'G603596'}, 'GEO': {'GEO-40355'}, 'GPD': {'WRI1019867'}}",
                  "179"
                ],
                [
                  "13",
                  "Vanderkloof",
                  "Hydro",
                  "Reservoir",
                  "PP",
                  "ZA",
                  "240.0",
                  null,
                  null,
                  "0.0",
                  "0.0",
                  "0.0",
                  "1976.0",
                  "1976.0",
                  "2076.0",
                  "-29.9911",
                  "24.7317",
                  "{nan}",
                  "{'GHPT': {'G603356'}, 'GEO': {'GEO-5911'}, 'GPD': {'WRI1000136'}}",
                  "645"
                ],
                [
                  "14",
                  "Palmiet",
                  "Hydro",
                  "Pumped Storage",
                  "Store",
                  "ZA",
                  "400.0",
                  null,
                  null,
                  "0.0",
                  "0.0",
                  "0.0",
                  "1988.0",
                  "1988.0",
                  "2088.0",
                  "-34.1985",
                  "18.9746",
                  "{nan}",
                  "{'GHPT': {'G603353'}, 'GEO': {'GEO-4683'}, 'GPD': {'WRI1000132'}}",
                  "476"
                ],
                [
                  "15",
                  "Gariep",
                  "Hydro",
                  "Reservoir",
                  "PP",
                  "ZA",
                  "360.0",
                  null,
                  null,
                  "0.0",
                  "0.0",
                  "0.0",
                  "1971.0",
                  "1971.0",
                  "2071.0",
                  "-30.6233",
                  "25.5067",
                  "{nan}",
                  "{'GHPT': {'G603351'}, 'GEO': {'GEO-3269'}, 'GPD': {'WRI1000121'}}",
                  "642"
                ],
                [
                  "16",
                  "Drakensberg",
                  "Hydro",
                  "Pumped Storage",
                  "Store",
                  "ZA",
                  "1000.0",
                  null,
                  null,
                  "0.0",
                  "0.0",
                  "0.0",
                  "1981.0",
                  "1981.0",
                  "2081.0",
                  "-28.566",
                  "29.0834",
                  "{nan}",
                  "{'GHPT': {'G603350'}, 'GEO': {'GEO-2974'}, 'GPD': {'WRI1000120'}}",
                  "496"
                ],
                [
                  "17",
                  "Ruacana",
                  "Hydro",
                  "Reservoir",
                  "PP",
                  null,
                  "332.0",
                  null,
                  null,
                  "0.0",
                  "0.0",
                  "0.0",
                  "1978.0",
                  "1978.0",
                  "2078.0",
                  "-17.3859",
                  "14.2161",
                  "{nan}",
                  "{'GHPT': {'G604133'}, 'GEO': {'GEO-40392'}, 'GPD': {'WRI1023133'}}",
                  "1301"
                ],
                [
                  "18",
                  "Capanda",
                  "Hydro",
                  "Reservoir",
                  "PP",
                  "AO",
                  "520.0",
                  null,
                  null,
                  "0.0",
                  "0.0",
                  "0.0",
                  "1999.0",
                  "1999.0",
                  "2099.0",
                  "-9.7933",
                  "15.4635",
                  "{nan}",
                  "{'GHPT': {'G600015'}, 'GEO': {'GEO-2537'}, 'GPD': {'WRI1023004'}}",
                  "1"
                ],
                [
                  "19",
                  "Tedzani Falls",
                  "Hydro",
                  "Reservoir",
                  "PP",
                  "MW",
                  "121.0",
                  null,
                  null,
                  "0.0",
                  "0.0",
                  "0.0",
                  "1972.0",
                  "2007.0",
                  "2107.0",
                  "-15.5598",
                  "34.7765",
                  "{nan}",
                  "{'GHPT': {'G602463'}, 'GEO': {'GEO-40389'}, 'GPD': {'WRI1023105'}}",
                  "309"
                ],
                [
                  "20",
                  "Cahora Bassa",
                  "Hydro",
                  "Reservoir",
                  "PP",
                  "MZ",
                  "2075.0",
                  null,
                  null,
                  "0.0",
                  "0.0",
                  "0.0",
                  "1974.0",
                  "1974.0",
                  "2074.0",
                  "-15.5859",
                  "32.7047",
                  "{nan}",
                  "{'GHPT': {'G602539'}, 'GEO': {'GEO-40382'}, 'GPD': {'WRI1000110'}}",
                  "2316"
                ],
                [
                  "21",
                  "Morupule",
                  "Hard Coal",
                  "Steam Turbine",
                  "PP",
                  "BW",
                  "732.0",
                  null,
                  null,
                  "0.0",
                  "0.0",
                  "0.0",
                  "1986.0",
                  "1986.0",
                  "2031.0",
                  "-22.52091455",
                  "27.0429167",
                  "{nan, nan, nan, nan, nan, nan, nan, nan}",
                  "{'GCPT': {'G107024', 'G107022', 'G107025', 'G107023', 'G107028', 'G107027', 'G107026', 'G107021'}, 'GEO': {'GEO-4377', 'GEO-45237'}, 'GPD': {'WRI1023017'}}",
                  "78"
                ],
                [
                  "22",
                  "Lethabo",
                  "Hard Coal",
                  "Steam Turbine",
                  "PP",
                  "ZA",
                  "3708.0",
                  null,
                  null,
                  "0.0",
                  "0.0",
                  "0.0",
                  "1985.0",
                  "1985.0",
                  "2030.0",
                  "-26.7420315",
                  "27.9768917",
                  "{nan, nan, nan, nan, nan, nan}",
                  "{'GCPT': {'G106242', 'G106241', 'G106240', 'G106243', 'G106245', 'G106244'}, 'GEO': {'GEO-4035'}, 'GPD': {'WRI1000128'}}",
                  "459"
                ],
                [
                  "23",
                  "Maamba",
                  "Hard Coal",
                  "Steam Turbine",
                  "PP",
                  "ZM",
                  "300.0",
                  null,
                  null,
                  "0.0",
                  "0.0",
                  "0.0",
                  "2016.0",
                  "2016.0",
                  "2061.0",
                  "-17.3527223",
                  "27.1859398",
                  "{nan, nan}",
                  "{'GCPT': {'G106531', 'G106530'}, 'GEO': {'GEO-46611'}, 'GPD': {'WRI1022376'}}",
                  "2367"
                ],
                [
                  "24",
                  "Tutuka",
                  "Hard Coal",
                  "Steam Turbine",
                  "PP",
                  "ZA",
                  "3654.0",
                  null,
                  null,
                  "0.0",
                  "0.0",
                  "0.0",
                  "1985.0",
                  "1985.0",
                  "2030.0",
                  "-26.7771561",
                  "29.3523764",
                  "{nan, nan, nan, nan, nan, nan}",
                  "{'GCPT': {'G110399', 'G110397', 'G110400', 'G110401', 'G110398', 'G110396'}, 'GEO': {'GEO-5813'}, 'GPD': {'WRI1000135'}}",
                  "773"
                ],
                [
                  "25",
                  "Rooiwal",
                  "Hard Coal",
                  "Steam Turbine",
                  "PP",
                  "ZA",
                  "300.0",
                  null,
                  null,
                  "0.0",
                  "0.0",
                  "0.0",
                  "1962.0",
                  "1962.0",
                  "2007.0",
                  "-25.5550101",
                  "28.2375732",
                  "{nan, nan, nan, nan, nan}",
                  "{'GCPT': {'G108622', 'G108626', 'G108624', 'G108625', 'G108623'}, 'GEO': {'GEO-5164'}, 'GPD': {'WRI1075862'}}",
                  "805"
                ],
                [
                  "26",
                  "Pretoria West",
                  "Hard Coal",
                  "Steam Turbine",
                  "PP",
                  "ZA",
                  "180.0",
                  null,
                  null,
                  "0.0",
                  "0.0",
                  "0.0",
                  "1952.0",
                  "1952.0",
                  "1997.0",
                  "-25.75839",
                  "28.14667",
                  "{nan, nan, nan, nan, nan, nan}",
                  "{'GCPT': {'G113800', 'G113803', 'G113804', 'G113799', 'G113801', 'G113802'}, 'GEO': {'GEO-4924'}, 'GPD': {'WRI1075861'}}",
                  "411"
                ],
                [
                  "27",
                  "Matla",
                  "Hard Coal",
                  "Steam Turbine",
                  "PP",
                  "ZA",
                  "3600.0",
                  null,
                  null,
                  "0.0",
                  "0.0",
                  "0.0",
                  "1979.0",
                  "1979.0",
                  "2024.0",
                  "-26.2813319",
                  "29.1415062",
                  "{nan, nan, nan, nan, nan, nan}",
                  "{'GCPT': {'G106731', 'G106729', 'G106726', 'G106728', 'G106727', 'G106730'}, 'GEO': {'GEO-4204'}, 'GPD': {'WRI1000131'}}",
                  "379"
                ],
                [
                  "28",
                  "Matimba",
                  "Hard Coal",
                  "Steam Turbine",
                  "PP",
                  "ZA",
                  "3990.0",
                  null,
                  null,
                  "0.0",
                  "0.0",
                  "0.0",
                  "1987.0",
                  "1987.0",
                  "2032.0",
                  "-23.6688333",
                  "27.610838",
                  "{nan, nan, nan, nan, nan, nan}",
                  "{'GCPT': {'G106725', 'G106724', 'G106722', 'G106723', 'G106721', 'G106720'}, 'GEO': {'GEO-4203'}, 'GPD': {'WRI1000130'}}",
                  "600"
                ],
                [
                  "29",
                  "Majuba",
                  "Hard Coal",
                  "Steam Turbine",
                  "PP",
                  "ZA",
                  "4143.0",
                  null,
                  null,
                  "0.0",
                  "0.0",
                  "0.0",
                  "1996.0",
                  "1996.0",
                  "2041.0",
                  "-27.1006097",
                  "29.770963299999995",
                  "{nan, nan, nan, nan, nan, nan}",
                  "{'GCPT': {'G106603', 'G106602', 'G106600', 'G106605', 'G106604', 'G106601'}, 'GEO': {'GEO-4145'}, 'GPD': {'WRI1000129'}}",
                  "780"
                ],
                [
                  "30",
                  "Kriel",
                  "Hard Coal",
                  "Steam Turbine",
                  "PP",
                  "ZA",
                  "3000.0",
                  null,
                  null,
                  "0.0",
                  "0.0",
                  "0.0",
                  "1976.0",
                  "1976.0",
                  "2021.0",
                  "-26.253937",
                  "29.1784651",
                  "{nan, nan, nan, nan, nan, nan}",
                  "{'GCPT': {'G105967', 'G105969', 'G105966', 'G105965', 'G105968', 'G105964'}, 'GEO': {'GEO-3911'}, 'GPD': {'WRI1000127'}}",
                  "379"
                ],
                [
                  "31",
                  "Van Eck",
                  "Hard Coal",
                  "Steam Turbine",
                  "PP",
                  null,
                  "120.0",
                  null,
                  null,
                  "0.0",
                  "0.0",
                  "0.0",
                  "1972.0",
                  "1972.0",
                  "2017.0",
                  "-22.5116258",
                  "17.0786923",
                  "{nan, nan, nan, nan}",
                  "{'GCPT': {'G110551', 'G110550', 'G110548', 'G110549'}, 'GEO': {'GEO-40393'}, 'GPD': {'WRI1023134'}}",
                  "1354"
                ],
                [
                  "32",
                  "Kendal",
                  "Hard Coal",
                  "Steam Turbine",
                  "PP",
                  "ZA",
                  "4116.0",
                  null,
                  null,
                  "0.0",
                  "0.0",
                  "0.0",
                  "1988.0",
                  "1988.0",
                  "2033.0",
                  "-26.0902853",
                  "28.9687965",
                  "{nan, nan, nan, nan, nan, nan}",
                  "{'GCPT': {'G105665', 'G105668', 'G105663', 'G105667', 'G105664', 'G105666'}, 'GEO': {'GEO-3819'}, 'GPD': {'WRI1000125'}}",
                  "700"
                ],
                [
                  "33",
                  "Kelvin",
                  "Hard Coal",
                  "Steam Turbine",
                  "PP",
                  "ZA",
                  "420.0",
                  null,
                  null,
                  "0.0",
                  "0.0",
                  "0.0",
                  "1957.0",
                  "1957.0",
                  "2002.0",
                  "-26.1157758",
                  "28.194019",
                  "{nan, nan, nan, nan, nan, nan, nan}",
                  "{'GCPT': {'G105651', 'G105649', 'G105650', 'G105647', 'G105648', 'G105652', 'G105646'}, 'GEO': {'GEO-3817'}, 'GPD': {'WRI1075860'}}",
                  "358"
                ],
                [
                  "34",
                  "Hendrina",
                  "Hard Coal",
                  "Steam Turbine",
                  "PP",
                  "ZA",
                  "2000.0",
                  null,
                  null,
                  "0.0",
                  "0.0",
                  "0.0",
                  "1970.0",
                  "1970.0",
                  "2015.0",
                  "-26.0320437",
                  "29.601612800000005",
                  "{nan, nan, nan, nan, nan, nan, nan, nan, nan, nan}",
                  "{'GCPT': {'G103812', 'G103814', 'G103810', 'G103808', 'G103806', 'G103811', 'G103815', 'G103813', 'G103807', 'G103809'}, 'GEO': {'GEO-3521'}, 'GPD': {'WRI1000124'}}",
                  "775"
                ],
                [
                  "35",
                  "Grootvlei",
                  "Hard Coal",
                  "Steam Turbine",
                  "PP",
                  "ZA",
                  "1190.0",
                  null,
                  null,
                  "0.0",
                  "0.0",
                  "0.0",
                  "1969.0",
                  "1969.0",
                  "2014.0",
                  "-26.7684944",
                  "28.4977584",
                  "{nan, nan, nan, nan, nan, nan}",
                  "{'GCPT': {'G103137', 'G103136', 'G103140', 'G103141', 'G103139', 'G103138'}, 'GEO': {'GEO-3415'}, 'GPD': {'WRI1000123'}}",
                  "457"
                ],
                [
                  "36",
                  "Duvha",
                  "Hard Coal",
                  "Steam Turbine",
                  "PP",
                  "ZA",
                  "3600.0",
                  null,
                  null,
                  "0.0",
                  "0.0",
                  "0.0",
                  "1980.0",
                  "1980.0",
                  "2025.0",
                  "-25.9612614",
                  "29.3397128",
                  "{nan, nan, nan, nan, nan, nan}",
                  "{'GCPT': {'G102529', 'G102527', 'G102525', 'G102526', 'G102524', 'G102528'}, 'GEO': {'GEO-2994'}, 'GPD': {'WRI1000119'}}",
                  "697"
                ],
                [
                  "37",
                  "Camden",
                  "Hard Coal",
                  "Steam Turbine",
                  "PP",
                  "ZA",
                  "1600.0",
                  null,
                  null,
                  "0.0",
                  "0.0",
                  "0.0",
                  "1967.0",
                  "1967.0",
                  "2012.0",
                  "-26.6214772",
                  "30.0900738",
                  "{nan, nan, nan, nan, nan, nan, nan, nan}",
                  "{'GCPT': {'G101170', 'G101173', 'G101169', 'G101175', 'G101168', 'G101171', 'G101172', 'G101174'}, 'GEO': {'GEO-2539'}, 'GPD': {'WRI1000118'}}",
                  "888"
                ],
                [
                  "38",
                  "Arnot",
                  "Hard Coal",
                  "Steam Turbine",
                  "PP",
                  "ZA",
                  "2352.0",
                  null,
                  null,
                  "0.0",
                  "0.0",
                  "0.0",
                  "1971.0",
                  "1971.0",
                  "2016.0",
                  "-25.9438068",
                  "29.7920396",
                  "{nan, nan, nan, nan, nan, nan}",
                  "{'GCPT': {'G100351', 'G100349', 'G100353', 'G100348', 'G100350', 'G100352'}, 'GEO': {'GEO-2166'}, 'GPD': {'WRI1000117'}}",
                  "833"
                ],
                [
                  "39",
                  "Cambambe",
                  "Hydro",
                  "Run-Of-River",
                  "PP",
                  "AO",
                  "880.0",
                  null,
                  null,
                  "0.0",
                  "0.0",
                  "0.0",
                  "1962.0",
                  "1962.0",
                  "2062.0",
                  "-9.7443",
                  "14.48365",
                  "{nan, nan}",
                  "{'GHPT': {'G600013', 'G600014'}, 'GEO': {'GEO-2551'}, 'GPD': {'WRI1023003'}}",
                  "35"
                ],
                [
                  "40",
                  "Kafue Gorge Upper",
                  "Hydro",
                  "Reservoir",
                  "PP",
                  "ZM",
                  "990.0",
                  null,
                  null,
                  "0.0",
                  "0.0",
                  "0.0",
                  "1971.0",
                  "1971.0",
                  "2071.0",
                  "-15.8067",
                  "28.4216",
                  "{nan}",
                  "{'GHPT': {'G604091'}, 'GEO': {'GEO-3769'}, 'GPD': {'WRI1000022'}}",
                  "2357"
                ],
                [
                  "43",
                  "Hale Tanzania",
                  "Hydro",
                  "Reservoir",
                  "PP",
                  "TZ",
                  "20.73248407643312",
                  null,
                  null,
                  "0.0",
                  "0.0",
                  "0.0",
                  "1964.0",
                  "1964.0",
                  "2064.0",
                  "-5.298",
                  "38.604",
                  "{nan, nan}",
                  "{'GEO': {'GEO-40350'}, 'GPD': {'WRI1019866'}}",
                  "193"
                ],
                [
                  "44",
                  "Port Rex Gas Sa",
                  "CCGT",
                  "CCGT",
                  "PP",
                  "ZA",
                  "153.6252591366391",
                  null,
                  null,
                  "0.0",
                  "0.0",
                  "0.0",
                  "1976.0",
                  "1976.0",
                  "2016.0",
                  "-33.028661725181",
                  "27.881122827530003",
                  "{nan, nan, nan}",
                  "{'GEO': {'GEO-4862'}, 'GPD': {'WRI1000133'}}",
                  "437"
                ],
                [
                  "45",
                  "Komati Coal South Africa",
                  "Hard Coal",
                  null,
                  "PP",
                  "ZA",
                  "921.9369565631744",
                  null,
                  null,
                  "0.0",
                  "0.0",
                  "0.0",
                  "1961.0",
                  "1961.0",
                  "2006.0",
                  "-26.0899",
                  "29.4725",
                  "{nan, nan, nan, nan, nan, nan, nan, nan, nan}",
                  "{'GEO': {'GEO-3884'}, 'GPD': {'WRI1000126'}}",
                  "777"
                ],
                [
                  "46",
                  "Gourikwa Ocgt Sa",
                  "Oil",
                  "Steam Turbine",
                  "PP",
                  "ZA",
                  "685.4882666287633",
                  null,
                  null,
                  "0.0",
                  "0.0",
                  "0.0",
                  "2007.0",
                  "2007.0",
                  "2047.0",
                  "-34.16684",
                  "21.9609",
                  "{nan, nan, nan, nan, nan}",
                  "{'GEO': {'GEO-3357'}, 'GPD': {'WRI1000122'}}",
                  "582"
                ],
                [
                  "48",
                  "Ankerlig Ocgt Sa",
                  "Oil",
                  "Steam Turbine",
                  "PP",
                  "ZA",
                  "1243.883303282572",
                  null,
                  null,
                  "0.0",
                  "0.0",
                  "0.0",
                  "2007.0",
                  "2007.0",
                  "2047.0",
                  "-33.5921",
                  "18.4599",
                  "{nan, nan, nan, nan, nan, nan, nan, nan, nan}",
                  "{'GEO': {'GEO-2129'}, 'GPD': {'WRI1000116'}}",
                  "1082"
                ],
                [
                  "49",
                  "Acacia Gas Sa",
                  "Oil",
                  "CCGT",
                  "PP",
                  "ZA",
                  "158.403369720971",
                  "0.303",
                  null,
                  "0.0",
                  "0.0",
                  "0.0",
                  "1976.0",
                  "1976.0",
                  "2016.0",
                  "-33.88354516046",
                  "18.535716533661",
                  "{nan, nan, nan}",
                  "{'GEO': {'GEO-1978'}, 'GPD': {'WRI1000115'}}",
                  "373"
                ],
                [
                  "50",
                  "Paratus Diesel Namibia",
                  "Oil",
                  null,
                  "PP",
                  null,
                  "23.71418868337344",
                  null,
                  null,
                  "0.0",
                  "0.0",
                  "0.0",
                  "1976.0",
                  "1976.0",
                  "2016.0",
                  "-22.9391",
                  "14.5165",
                  "{nan, nan, nan, nan}",
                  "{'GEO': {'GEO-40394'}, 'GPD': {'WRI1023131'}}",
                  "2440"
                ],
                [
                  "52",
                  "Matala Dam Angola",
                  "Hydro",
                  null,
                  "PP",
                  "AO",
                  "36.34245513018916",
                  null,
                  null,
                  "0.0",
                  "0.0",
                  "0.0",
                  "1954.0",
                  "1954.0",
                  "2054.0",
                  "-14.74424",
                  "15.04183",
                  "{nan, nan, nan}",
                  "{'GEO': {'GEO-4201'}, 'GPD': {'WRI1023011'}}",
                  "25"
                ],
                [
                  "53",
                  "Biopio Dam Angola",
                  "Hydro",
                  null,
                  "PP",
                  "AO",
                  "12.826748869478529",
                  null,
                  null,
                  "0.0",
                  "0.0",
                  "0.0",
                  "1956.0",
                  "1956.0",
                  "2056.0",
                  "-12.4708",
                  "13.7319",
                  "{nan, nan, nan, nan}",
                  "{'GEO': {'GEO-2349'}, 'GPD': {'WRI1023001'}}",
                  "17"
                ],
                [
                  "59",
                  "Iptl Diesel Tanzania",
                  "Oil",
                  null,
                  "PP",
                  "TZ",
                  "92.63354954442748",
                  null,
                  null,
                  "0.0",
                  "0.0",
                  "0.0",
                  "2002.0",
                  "2002.0",
                  "2042.0",
                  "-6.6741",
                  "39.1873",
                  "{nan}",
                  "{'GEO': {'GEO-40356'}, 'GPD': {'WRI1019877'}}",
                  "184"
                ]
              ],
              "shape": {
                "columns": 19,
                "rows": 161
              }
            },
            "text/html": [
              "<div>\n",
              "<style scoped>\n",
              "    .dataframe tbody tr th:only-of-type {\n",
              "        vertical-align: middle;\n",
              "    }\n",
              "\n",
              "    .dataframe tbody tr th {\n",
              "        vertical-align: top;\n",
              "    }\n",
              "\n",
              "    .dataframe thead th {\n",
              "        text-align: right;\n",
              "    }\n",
              "</style>\n",
              "<table border=\"1\" class=\"dataframe\">\n",
              "  <thead>\n",
              "    <tr style=\"text-align: right;\">\n",
              "      <th></th>\n",
              "      <th>Name</th>\n",
              "      <th>Fueltype</th>\n",
              "      <th>Technology</th>\n",
              "      <th>Set</th>\n",
              "      <th>Country</th>\n",
              "      <th>Capacity</th>\n",
              "      <th>Efficiency</th>\n",
              "      <th>Duration</th>\n",
              "      <th>Volume_Mm3</th>\n",
              "      <th>DamHeight_m</th>\n",
              "      <th>StorageCapacity_MWh</th>\n",
              "      <th>DateIn</th>\n",
              "      <th>DateRetrofit</th>\n",
              "      <th>DateOut</th>\n",
              "      <th>lat</th>\n",
              "      <th>lon</th>\n",
              "      <th>EIC</th>\n",
              "      <th>projectID</th>\n",
              "      <th>bus</th>\n",
              "    </tr>\n",
              "  </thead>\n",
              "  <tbody>\n",
              "    <tr>\n",
              "      <th>1</th>\n",
              "      <td>Koeberg</td>\n",
              "      <td>Nuclear</td>\n",
              "      <td>Steam Turbine</td>\n",
              "      <td>PP</td>\n",
              "      <td>ZA</td>\n",
              "      <td>1940.0</td>\n",
              "      <td>NaN</td>\n",
              "      <td>NaN</td>\n",
              "      <td>0.0</td>\n",
              "      <td>0.0</td>\n",
              "      <td>0.0</td>\n",
              "      <td>1984.0</td>\n",
              "      <td>1984.0</td>\n",
              "      <td>2034.0</td>\n",
              "      <td>-33.6746</td>\n",
              "      <td>18.43210</td>\n",
              "      <td>{nan, nan}</td>\n",
              "      <td>{'GNPT': {'G500317', 'G500318'}, 'GEO': {'GEO-...</td>\n",
              "      <td>1560</td>\n",
              "    </tr>\n",
              "    <tr>\n",
              "      <th>2</th>\n",
              "      <td>Nkula</td>\n",
              "      <td>Hydro</td>\n",
              "      <td>Reservoir</td>\n",
              "      <td>PP</td>\n",
              "      <td>MW</td>\n",
              "      <td>100.0</td>\n",
              "      <td>NaN</td>\n",
              "      <td>NaN</td>\n",
              "      <td>0.0</td>\n",
              "      <td>0.0</td>\n",
              "      <td>0.0</td>\n",
              "      <td>1966.0</td>\n",
              "      <td>1966.0</td>\n",
              "      <td>2066.0</td>\n",
              "      <td>-15.5269</td>\n",
              "      <td>34.81920</td>\n",
              "      <td>{nan}</td>\n",
              "      <td>{'GHPT': {'G602462'}, 'GEO': {'GEO-40388'}, 'G...</td>\n",
              "      <td>312</td>\n",
              "    </tr>\n",
              "    <tr>\n",
              "      <th>3</th>\n",
              "      <td>Kapichira</td>\n",
              "      <td>Hydro</td>\n",
              "      <td>Reservoir</td>\n",
              "      <td>PP</td>\n",
              "      <td>MW</td>\n",
              "      <td>130.0</td>\n",
              "      <td>NaN</td>\n",
              "      <td>NaN</td>\n",
              "      <td>0.0</td>\n",
              "      <td>0.0</td>\n",
              "      <td>0.0</td>\n",
              "      <td>2000.0</td>\n",
              "      <td>2000.0</td>\n",
              "      <td>2100.0</td>\n",
              "      <td>-15.8954</td>\n",
              "      <td>34.75310</td>\n",
              "      <td>{nan}</td>\n",
              "      <td>{'GHPT': {'G602459'}, 'GEO': {'GEO-40390'}, 'G...</td>\n",
              "      <td>341</td>\n",
              "    </tr>\n",
              "    <tr>\n",
              "      <th>4</th>\n",
              "      <td>Zongo</td>\n",
              "      <td>Hydro</td>\n",
              "      <td>Run-Of-River</td>\n",
              "      <td>PP</td>\n",
              "      <td>CD</td>\n",
              "      <td>225.0</td>\n",
              "      <td>NaN</td>\n",
              "      <td>NaN</td>\n",
              "      <td>0.0</td>\n",
              "      <td>0.0</td>\n",
              "      <td>0.0</td>\n",
              "      <td>1955.0</td>\n",
              "      <td>1955.0</td>\n",
              "      <td>2055.0</td>\n",
              "      <td>-4.7823</td>\n",
              "      <td>14.90445</td>\n",
              "      <td>{nan, nan}</td>\n",
              "      <td>{'GHPT': {'G601505', 'G601504'}, 'GEO': {'GEO-...</td>\n",
              "      <td>1518</td>\n",
              "    </tr>\n",
              "    <tr>\n",
              "      <th>5</th>\n",
              "      <td>Zilo</td>\n",
              "      <td>Hydro</td>\n",
              "      <td>Reservoir</td>\n",
              "      <td>PP</td>\n",
              "      <td>CD</td>\n",
              "      <td>108.0</td>\n",
              "      <td>NaN</td>\n",
              "      <td>NaN</td>\n",
              "      <td>0.0</td>\n",
              "      <td>0.0</td>\n",
              "      <td>0.0</td>\n",
              "      <td>1952.0</td>\n",
              "      <td>1952.0</td>\n",
              "      <td>2052.0</td>\n",
              "      <td>-10.4998</td>\n",
              "      <td>25.46310</td>\n",
              "      <td>{nan}</td>\n",
              "      <td>{'GHPT': {'G601501'}, 'GEO': {'GEO-42626'}, 'G...</td>\n",
              "      <td>2493</td>\n",
              "    </tr>\n",
              "    <tr>\n",
              "      <th>...</th>\n",
              "      <td>...</td>\n",
              "      <td>...</td>\n",
              "      <td>...</td>\n",
              "      <td>...</td>\n",
              "      <td>...</td>\n",
              "      <td>...</td>\n",
              "      <td>...</td>\n",
              "      <td>...</td>\n",
              "      <td>...</td>\n",
              "      <td>...</td>\n",
              "      <td>...</td>\n",
              "      <td>...</td>\n",
              "      <td>...</td>\n",
              "      <td>...</td>\n",
              "      <td>...</td>\n",
              "      <td>...</td>\n",
              "      <td>...</td>\n",
              "      <td>...</td>\n",
              "      <td>...</td>\n",
              "    </tr>\n",
              "    <tr>\n",
              "      <th>291</th>\n",
              "      <td>Caculo Cabaca</td>\n",
              "      <td>Hydro</td>\n",
              "      <td>Run-Of-River</td>\n",
              "      <td>PP</td>\n",
              "      <td>AO</td>\n",
              "      <td>2040.0</td>\n",
              "      <td>NaN</td>\n",
              "      <td>NaN</td>\n",
              "      <td>0.0</td>\n",
              "      <td>0.0</td>\n",
              "      <td>0.0</td>\n",
              "      <td>2024.0</td>\n",
              "      <td>2024.0</td>\n",
              "      <td>2124.0</td>\n",
              "      <td>-9.7296</td>\n",
              "      <td>14.81630</td>\n",
              "      <td>{nan}</td>\n",
              "      <td>{'GHPT': {'G600012'}}</td>\n",
              "      <td>37</td>\n",
              "    </tr>\n",
              "    <tr>\n",
              "      <th>292</th>\n",
              "      <td>Julius Nyerere</td>\n",
              "      <td>Hydro</td>\n",
              "      <td>Reservoir</td>\n",
              "      <td>PP</td>\n",
              "      <td>TZ</td>\n",
              "      <td>2115.0</td>\n",
              "      <td>NaN</td>\n",
              "      <td>NaN</td>\n",
              "      <td>0.0</td>\n",
              "      <td>0.0</td>\n",
              "      <td>0.0</td>\n",
              "      <td>2024.0</td>\n",
              "      <td>2024.0</td>\n",
              "      <td>2124.0</td>\n",
              "      <td>-7.8032</td>\n",
              "      <td>37.85110</td>\n",
              "      <td>{nan}</td>\n",
              "      <td>{'GHPT': {'G603595'}}</td>\n",
              "      <td>1464</td>\n",
              "    </tr>\n",
              "    <tr>\n",
              "      <th>293</th>\n",
              "      <td>Kafue Gorge Lower</td>\n",
              "      <td>Hydro</td>\n",
              "      <td>Reservoir</td>\n",
              "      <td>PP</td>\n",
              "      <td>ZM</td>\n",
              "      <td>750.0</td>\n",
              "      <td>NaN</td>\n",
              "      <td>NaN</td>\n",
              "      <td>0.0</td>\n",
              "      <td>0.0</td>\n",
              "      <td>0.0</td>\n",
              "      <td>2021.0</td>\n",
              "      <td>2021.0</td>\n",
              "      <td>2121.0</td>\n",
              "      <td>-15.8959</td>\n",
              "      <td>28.56010</td>\n",
              "      <td>{nan}</td>\n",
              "      <td>{'GHPT': {'G604090'}}</td>\n",
              "      <td>2399</td>\n",
              "    </tr>\n",
              "    <tr>\n",
              "      <th>294</th>\n",
              "      <td>Lauca</td>\n",
              "      <td>Hydro</td>\n",
              "      <td>Run-Of-River</td>\n",
              "      <td>PP</td>\n",
              "      <td>AO</td>\n",
              "      <td>2070.0</td>\n",
              "      <td>NaN</td>\n",
              "      <td>NaN</td>\n",
              "      <td>0.0</td>\n",
              "      <td>0.0</td>\n",
              "      <td>0.0</td>\n",
              "      <td>2017.0</td>\n",
              "      <td>2017.0</td>\n",
              "      <td>2117.0</td>\n",
              "      <td>-9.7449</td>\n",
              "      <td>15.12510</td>\n",
              "      <td>{nan}</td>\n",
              "      <td>{'GHPT': {'G600017'}}</td>\n",
              "      <td>37</td>\n",
              "    </tr>\n",
              "    <tr>\n",
              "      <th>295</th>\n",
              "      <td>Sombwe</td>\n",
              "      <td>Hydro</td>\n",
              "      <td>Reservoir</td>\n",
              "      <td>PP</td>\n",
              "      <td>CD</td>\n",
              "      <td>150.0</td>\n",
              "      <td>NaN</td>\n",
              "      <td>NaN</td>\n",
              "      <td>0.0</td>\n",
              "      <td>0.0</td>\n",
              "      <td>0.0</td>\n",
              "      <td>1971.0</td>\n",
              "      <td>1971.0</td>\n",
              "      <td>2071.0</td>\n",
              "      <td>-9.3877</td>\n",
              "      <td>26.93660</td>\n",
              "      <td>{nan}</td>\n",
              "      <td>{'GHPT': {'G601503'}}</td>\n",
              "      <td>291</td>\n",
              "    </tr>\n",
              "  </tbody>\n",
              "</table>\n",
              "<p>161 rows × 19 columns</p>\n",
              "</div>"
            ],
            "text/plain": [
              "                  Name Fueltype     Technology Set Country  Capacity  \\\n",
              "1              Koeberg  Nuclear  Steam Turbine  PP      ZA    1940.0   \n",
              "2                Nkula    Hydro      Reservoir  PP      MW     100.0   \n",
              "3            Kapichira    Hydro      Reservoir  PP      MW     130.0   \n",
              "4                Zongo    Hydro   Run-Of-River  PP      CD     225.0   \n",
              "5                 Zilo    Hydro      Reservoir  PP      CD     108.0   \n",
              "..                 ...      ...            ...  ..     ...       ...   \n",
              "291      Caculo Cabaca    Hydro   Run-Of-River  PP      AO    2040.0   \n",
              "292     Julius Nyerere    Hydro      Reservoir  PP      TZ    2115.0   \n",
              "293  Kafue Gorge Lower    Hydro      Reservoir  PP      ZM     750.0   \n",
              "294              Lauca    Hydro   Run-Of-River  PP      AO    2070.0   \n",
              "295             Sombwe    Hydro      Reservoir  PP      CD     150.0   \n",
              "\n",
              "     Efficiency  Duration  Volume_Mm3  DamHeight_m  StorageCapacity_MWh  \\\n",
              "1           NaN       NaN         0.0          0.0                  0.0   \n",
              "2           NaN       NaN         0.0          0.0                  0.0   \n",
              "3           NaN       NaN         0.0          0.0                  0.0   \n",
              "4           NaN       NaN         0.0          0.0                  0.0   \n",
              "5           NaN       NaN         0.0          0.0                  0.0   \n",
              "..          ...       ...         ...          ...                  ...   \n",
              "291         NaN       NaN         0.0          0.0                  0.0   \n",
              "292         NaN       NaN         0.0          0.0                  0.0   \n",
              "293         NaN       NaN         0.0          0.0                  0.0   \n",
              "294         NaN       NaN         0.0          0.0                  0.0   \n",
              "295         NaN       NaN         0.0          0.0                  0.0   \n",
              "\n",
              "     DateIn  DateRetrofit  DateOut      lat       lon         EIC  \\\n",
              "1    1984.0        1984.0   2034.0 -33.6746  18.43210  {nan, nan}   \n",
              "2    1966.0        1966.0   2066.0 -15.5269  34.81920       {nan}   \n",
              "3    2000.0        2000.0   2100.0 -15.8954  34.75310       {nan}   \n",
              "4    1955.0        1955.0   2055.0  -4.7823  14.90445  {nan, nan}   \n",
              "5    1952.0        1952.0   2052.0 -10.4998  25.46310       {nan}   \n",
              "..      ...           ...      ...      ...       ...         ...   \n",
              "291  2024.0        2024.0   2124.0  -9.7296  14.81630       {nan}   \n",
              "292  2024.0        2024.0   2124.0  -7.8032  37.85110       {nan}   \n",
              "293  2021.0        2021.0   2121.0 -15.8959  28.56010       {nan}   \n",
              "294  2017.0        2017.0   2117.0  -9.7449  15.12510       {nan}   \n",
              "295  1971.0        1971.0   2071.0  -9.3877  26.93660       {nan}   \n",
              "\n",
              "                                             projectID   bus  \n",
              "1    {'GNPT': {'G500317', 'G500318'}, 'GEO': {'GEO-...  1560  \n",
              "2    {'GHPT': {'G602462'}, 'GEO': {'GEO-40388'}, 'G...   312  \n",
              "3    {'GHPT': {'G602459'}, 'GEO': {'GEO-40390'}, 'G...   341  \n",
              "4    {'GHPT': {'G601505', 'G601504'}, 'GEO': {'GEO-...  1518  \n",
              "5    {'GHPT': {'G601501'}, 'GEO': {'GEO-42626'}, 'G...  2493  \n",
              "..                                                 ...   ...  \n",
              "291                              {'GHPT': {'G600012'}}    37  \n",
              "292                              {'GHPT': {'G603595'}}  1464  \n",
              "293                              {'GHPT': {'G604090'}}  2399  \n",
              "294                              {'GHPT': {'G600017'}}    37  \n",
              "295                              {'GHPT': {'G601503'}}   291  \n",
              "\n",
              "[161 rows x 19 columns]"
            ]
          },
          "execution_count": 71,
          "metadata": {},
          "output_type": "execute_result"
        }
      ],
      "source": [
        "df_power_plant"
      ]
    },
    {
      "cell_type": "markdown",
      "metadata": {},
      "source": [
        "### Exercise: Power Plant Data Manipulation"
      ]
    },
    {
      "cell_type": "markdown",
      "metadata": {},
      "source": [
        "**Task 1: View the column names**\n",
        "\n",
        "- Use the columns attribute to view the names of all the columns in the dataset\n",
        "\n"
      ]
    },
    {
      "cell_type": "code",
      "execution_count": 72,
      "metadata": {},
      "outputs": [],
      "source": [
        "# Provide code here"
      ]
    },
    {
      "cell_type": "markdown",
      "metadata": {},
      "source": [
        "**Task 2: Find Unique Options for 'Fueltype', 'Technology', and 'Country'**\n",
        "- Use the `unique()` function to find and print the unique values in the following columns:\n",
        "  - `Fueltype`\n",
        "  - `Technology`\n",
        "  - `Country`\n",
        "\n",
        "\n"
      ]
    },
    {
      "cell_type": "code",
      "execution_count": null,
      "metadata": {},
      "outputs": [],
      "source": []
    },
    {
      "cell_type": "markdown",
      "metadata": {},
      "source": [
        "**Task 3: Filter Data by Technology**\n",
        "- Assume you want to filter the data for a technology called `'Solar'`.\n",
        "- Write the code to filter the DataFrame and show all power plants using `'Solar'` technology.\n",
        "\n",
        "\n"
      ]
    },
    {
      "cell_type": "code",
      "execution_count": 73,
      "metadata": {},
      "outputs": [],
      "source": [
        "# Provide code here"
      ]
    },
    {
      "cell_type": "markdown",
      "metadata": {},
      "source": [
        "**Task 4: Count the Number of Power Plants with a Certain Fuel**\n",
        "- Assume the fuel type is `'Coal'`.\n",
        "- Write the code to count and print the number of power plants that use `'Coal'` as the fuel type.\n",
        "\n"
      ]
    },
    {
      "cell_type": "code",
      "execution_count": 74,
      "metadata": {},
      "outputs": [],
      "source": [
        "# Provide code here"
      ]
    },
    {
      "cell_type": "markdown",
      "metadata": {},
      "source": [
        "**Task 5: Calculate the Capacity of All Generators in a Country**\n",
        "- Assume you want to calculate the total capacity of all power plants in `'South Africa'`.\n",
        "- Write the code to sum and print the total capacity of the power plants located in `'South Africa'`.\n",
        "\n"
      ]
    },
    {
      "cell_type": "code",
      "execution_count": 75,
      "metadata": {},
      "outputs": [],
      "source": [
        "# Provide code here"
      ]
    },
    {
      "cell_type": "markdown",
      "metadata": {},
      "source": [
        "**Task 6: Change the Capacity of One Power Plant**\n",
        "- Assume you want to change the capacity of a power plant named `'Plant A'` to `500 MW`.\n",
        "- Write the code to update the capacity of `'Plant A'` to `500 MW`.\n",
        "\n"
      ]
    },
    {
      "cell_type": "code",
      "execution_count": 76,
      "metadata": {},
      "outputs": [],
      "source": [
        "# Provide code here"
      ]
    },
    {
      "cell_type": "markdown",
      "metadata": {},
      "source": [
        "**Task 7: Add a New Power Plant**\n",
        "- Add a new power plant to the DataFrame from the dictionary `new_plant`"
      ]
    },
    {
      "cell_type": "code",
      "execution_count": null,
      "metadata": {},
      "outputs": [],
      "source": [
        "new_plant = {\n",
        "    'Name': 'New Plant',\n",
        "    'Fueltype': 'Wind',\n",
        "    'Technology': 'Wind Turbine',\n",
        "    'Set': 'Set1',\n",
        "    'Country': 'Germany',\n",
        "    'Capacity': 100,\n",
        "    'Efficiency': 0.35,\n",
        "    'Duration': 30,\n",
        "    'Volume_Mm3': 0,\n",
        "    'DamHeight_m': 0,\n",
        "    'StorageCapacity_MWh': 0,\n",
        "    'DateIn': '2025-01-01',\n",
        "    'DateRetrofit': None,\n",
        "    'DateOut': None,\n",
        "    'lat': 51.1657,\n",
        "    'lon': 10.4515,\n",
        "    'EIC': 'EIC001',\n",
        "    'projectID': 'proj001',\n",
        "    'bus': 'bus001'\n",
        "}"
      ]
    },
    {
      "cell_type": "code",
      "execution_count": 77,
      "metadata": {},
      "outputs": [],
      "source": [
        "# Provide code here"
      ]
    },
    {
      "cell_type": "markdown",
      "metadata": {
        "id": "BdrajbP0kZy1"
      },
      "source": [
        "### Additional Resources\n"
      ]
    },
    {
      "cell_type": "markdown",
      "metadata": {},
      "source": [
        "- [Pandas website](https://pandas.pydata.org/)"
      ]
    },
    {
      "cell_type": "markdown",
      "metadata": {},
      "source": [
        "#### Answers "
      ]
    },
    {
      "cell_type": "code",
      "execution_count": 78,
      "metadata": {},
      "outputs": [
        {
          "name": "stdout",
          "output_type": "stream",
          "text": [
            "Column names:\n",
            "Index(['Name', 'Fueltype', 'Technology', 'Set', 'Country', 'Capacity',\n",
            "       'Efficiency', 'Duration', 'Volume_Mm3', 'DamHeight_m',\n",
            "       'StorageCapacity_MWh', 'DateIn', 'DateRetrofit', 'DateOut', 'lat',\n",
            "       'lon', 'EIC', 'projectID', 'bus'],\n",
            "      dtype='object')\n"
          ]
        }
      ],
      "source": [
        "# 1. View the column names\n",
        "print(\"Column names:\")\n",
        "print(df_power_plant.columns)\n"
      ]
    },
    {
      "cell_type": "code",
      "execution_count": 79,
      "metadata": {},
      "outputs": [
        {
          "name": "stdout",
          "output_type": "stream",
          "text": [
            "\n",
            "Unique Fueltypes:\n",
            "['Nuclear' 'Hydro' 'Hard Coal' 'CCGT' 'Oil' 'Bioenergy' 'Waste']\n",
            "\n",
            "Unique Technologies:\n",
            "['Steam Turbine' 'Reservoir' 'Run-Of-River' 'Pumped Storage' 'CCGT' nan]\n",
            "\n",
            "Unique Countries:\n",
            "['ZA' 'MW' 'CD' 'ZM' 'TZ' nan 'AO' 'MZ' 'BW' 'SZ' 'LS' 'ZW']\n"
          ]
        }
      ],
      "source": [
        "# 2. Find the unique options for 'Fueltype', 'Technology', 'Country'\n",
        "print(\"\\nUnique Fueltypes:\")\n",
        "print(df_power_plant['Fueltype'].unique())\n",
        "\n",
        "print(\"\\nUnique Technologies:\")\n",
        "print(df_power_plant['Technology'].unique())\n",
        "\n",
        "print(\"\\nUnique Countries:\")\n",
        "print(df_power_plant['Country'].unique())\n"
      ]
    },
    {
      "cell_type": "code",
      "execution_count": 80,
      "metadata": {},
      "outputs": [
        {
          "name": "stdout",
          "output_type": "stream",
          "text": [
            "\n",
            "Power plants with Solar technology:\n",
            "Empty DataFrame\n",
            "Columns: [Name, Fueltype, Technology, Set, Country, Capacity, Efficiency, Duration, Volume_Mm3, DamHeight_m, StorageCapacity_MWh, DateIn, DateRetrofit, DateOut, lat, lon, EIC, projectID, bus]\n",
            "Index: []\n"
          ]
        }
      ],
      "source": [
        "# 3. Basic code to filter the data by technology (assume a technology name)\n",
        "technology_name = 'Solar'  # Example technology name\n",
        "filtered_df = df_power_plant[df_power_plant['Technology'] == technology_name]\n",
        "print(f\"\\nPower plants with {technology_name} technology:\")\n",
        "print(filtered_df)\n"
      ]
    },
    {
      "cell_type": "code",
      "execution_count": 81,
      "metadata": {},
      "outputs": [
        {
          "name": "stdout",
          "output_type": "stream",
          "text": [
            "\n",
            "Number of power plants using Coal: 0\n"
          ]
        }
      ],
      "source": [
        "# 4. Count the number of power plants with a certain fuel\n",
        "fuel_type = 'Coal'  # Example fuel type\n",
        "fuel_count = df_power_plant[df_power_plant['Fueltype'] == fuel_type].shape[0]\n",
        "print(f\"\\nNumber of power plants using {fuel_type}: {fuel_count}\")\n"
      ]
    },
    {
      "cell_type": "code",
      "execution_count": 82,
      "metadata": {},
      "outputs": [
        {
          "name": "stdout",
          "output_type": "stream",
          "text": [
            "\n",
            "Total capacity of power plants in South Africa: 0.0 MW\n"
          ]
        }
      ],
      "source": [
        "# 5. Calculate the capacity of all generators in a country\n",
        "country_name = 'South Africa'  # Example country\n",
        "total_capacity = df_power_plant[df_power_plant['Country'] == country_name]['Capacity'].sum()\n",
        "print(f\"\\nTotal capacity of power plants in {country_name}: {total_capacity} MW\")\n"
      ]
    },
    {
      "cell_type": "code",
      "execution_count": 83,
      "metadata": {},
      "outputs": [
        {
          "name": "stdout",
          "output_type": "stream",
          "text": [
            "\n",
            "Updated capacity of Plant A: 500 MW\n"
          ]
        }
      ],
      "source": [
        "# 6. Change the capacity of one of the power plants\n",
        "# Let's assume we want to change the capacity of a specific power plant (identified by Name)\n",
        "plant_name = 'Plant A'  # Example power plant name\n",
        "new_capacity = 500  # New capacity in MW\n",
        "df_power_plant.loc[df_power_plant['Name'] == plant_name, 'Capacity'] = new_capacity\n",
        "print(f\"\\nUpdated capacity of {plant_name}: {new_capacity} MW\")\n"
      ]
    },
    {
      "cell_type": "code",
      "execution_count": 84,
      "metadata": {},
      "outputs": [
        {
          "name": "stdout",
          "output_type": "stream",
          "text": [
            "\n",
            "New power plant added:\n",
            "          Name Fueltype    Technology   Set  Country  Capacity  Efficiency  \\\n",
            "161  New Plant     Wind  Wind Turbine  Set1  Germany     100.0        0.35   \n",
            "\n",
            "     Duration  Volume_Mm3  DamHeight_m  StorageCapacity_MWh      DateIn  \\\n",
            "161      30.0         0.0          0.0                  0.0  2025-01-01   \n",
            "\n",
            "    DateRetrofit DateOut      lat      lon     EIC projectID     bus  \n",
            "161         None    None  51.1657  10.4515  EIC001   proj001  bus001  \n"
          ]
        }
      ],
      "source": [
        "# Task 7: Add a new power plant\n",
        "new_plant = {\n",
        "    'Name': 'New Plant',\n",
        "    'Fueltype': 'Wind',\n",
        "    'Technology': 'Wind Turbine',\n",
        "    'Set': 'Set1',\n",
        "    'Country': 'Germany',\n",
        "    'Capacity': 100,\n",
        "    'Efficiency': 0.35,\n",
        "    'Duration': 30,\n",
        "    'Volume_Mm3': 0,\n",
        "    'DamHeight_m': 0,\n",
        "    'StorageCapacity_MWh': 0,\n",
        "    'DateIn': '2025-01-01',\n",
        "    'DateRetrofit': None,\n",
        "    'DateOut': None,\n",
        "    'lat': 51.1657,\n",
        "    'lon': 10.4515,\n",
        "    'EIC': 'EIC001',\n",
        "    'projectID': 'proj001',\n",
        "    'bus': 'bus001'\n",
        "}\n",
        "\n",
        "# Convert the new plant dictionary to a DataFrame\n",
        "new_plant_df = pd.DataFrame([new_plant])\n",
        "\n",
        "# Concatenate the new plant to the existing DataFrame\n",
        "df_power_plant = pd.concat([df_power_plant, new_plant_df], ignore_index=True)\n",
        "\n",
        "# Print the last added row to confirm\n",
        "print(\"\\nNew power plant added:\")\n",
        "print(df_power_plant.tail(1))  # Display the last added row\n"
      ]
    },
    {
      "cell_type": "markdown",
      "metadata": {},
      "source": [
        "### \n",
        "---"
      ]
    }
  ],
  "metadata": {
    "colab": {
      "provenance": []
    },
    "kernelspec": {
      "display_name": "mec4131z-env",
      "language": "python",
      "name": "python3"
    },
    "language_info": {
      "codemirror_mode": {
        "name": "ipython",
        "version": 3
      },
      "file_extension": ".py",
      "mimetype": "text/x-python",
      "name": "python",
      "nbconvert_exporter": "python",
      "pygments_lexer": "ipython3",
      "version": "3.12.10"
    }
  },
  "nbformat": 4,
  "nbformat_minor": 0
}
