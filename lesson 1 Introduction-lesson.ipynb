{
 "cells": [
  {
   "cell_type": "markdown",
   "id": "a6810cea",
   "metadata": {},
   "source": [
    "### 📘 Lesson 1: Setup modelling environment"
   ]
  },
  {
   "cell_type": "markdown",
   "id": "d9d3da71",
   "metadata": {},
   "source": [
    "<div style=\"display: flex; align-items: center; justify-content: space-between;\">\n",
    "  <div>\n",
    "    <h3>Notebook developers</h3>\n",
    "    <ul>\n",
    "      <li><strong>Priyesh Gosai</strong> - Energy Systems Modeler and Training Coordinator</li>\n",
    "    </ul>\n",
    "  </div>\n",
    "  <div>\n",
    "    <a href=\"https://openenergytransition.org/index.html\">\n",
    "      <img src=\"https://openenergytransition.org/assets/img/oet-logo-red-n-subtitle.png\" height=\"60\" alt=\"OET\">\n",
    "    </a>\n",
    "  </div>\n",
    "</div>\n"
   ]
  },
  {
   "cell_type": "markdown",
   "id": "a8b47dc5",
   "metadata": {},
   "source": [
    "##### 🎯 Learning Objectives  \n",
    "\n",
    "The aim of this module is to introduce delegates to the environnment that will be used for modelling. We will not cover any contextual aspects of modelliing as this is covered in the main course. \n",
    "\n",
    "* Setting up the Google Colab environment\n",
    "* View the input data used for a PyPSA model. \n",
    "* Run the notebook:\n",
    "   * Import the model. \n",
    "   * View input data.\n",
    "   * Solve network. \n",
    "   * View results. \n",
    "\n",
    "\n",
    "After completing this module, delegates should be able to run PyPSA for the purpose of this course. \n",
    "\n",
    "\n"
   ]
  },
  {
   "cell_type": "markdown",
   "id": "de3941b2",
   "metadata": {},
   "source": [
    "#### Setting up Google Colab\n",
    "---"
   ]
  },
  {
   "cell_type": "markdown",
   "id": "8c37ede6",
   "metadata": {},
   "source": [
    "**💻 What is Google Colab?**\n",
    "\n",
    "Google Colab is a cloud-based Python IDE that lets you write and run Python code without needing to install any packages or set up a local environment. It’s especially useful for data science, machine learning, and collaborative coding.\n",
    "\n",
    "**⚙️ How It Works**\n",
    "\n",
    "* 🖥️ Every time you open a notebook, Colab spins up a temporary virtual machine (VM) in the cloud.\n",
    "\n",
    "* 🔁 This VM is ephemeral — it resets when you close the notebook or after a period of inactivity.\n",
    "\n",
    "* 📂 Because of this, the VM is not automatically connected to your Google Drive, so files stored in Drive are not accessible by default.\n",
    "\n",
    "**🔗 Linking to Google Drive**\n",
    "\n",
    "**To access files from your Drive:**\n",
    "* 📥 Run the cell below to mount your Google Drive.\n",
    "\n",
    "* ✅ You’ll be prompted to grant permissions — make sure to accept.\n",
    "\n",
    "* 🔁 This step must be repeated every time you open or restart the notebook."
   ]
  },
  {
   "cell_type": "code",
   "execution_count": null,
   "id": "3c47e441",
   "metadata": {},
   "outputs": [],
   "source": [
    "# @title \"Mount Google Drive and Set Working Directory\"\n",
    "\n",
    "from google.colab import drive\n",
    "import os\n",
    "\n",
    "# Mount Google Drive\n",
    "drive.mount('/content/drive')\n",
    "\n",
    "# Set FOLDER and change to the working directory in one step\n",
    "FOLDER = 'ich-modeling-2025'\n",
    "os.chdir(f'/content/drive/MyDrive/{FOLDER}')\n",
    "\n",
    "# Confirm the current working directory\n",
    "print(\"Current working directory:\", os.getcwd())\n"
   ]
  },
  {
   "cell_type": "markdown",
   "id": "f1d20f89",
   "metadata": {},
   "source": [
    "📦 Installing Required Packages\n",
    "\n",
    "In Google Colab, packages like PyPSA are not pre-installed in the virtual machine (VM).\n",
    "\n",
    "* 🧹 Since each VM is temporary and resets when disconnected, you’ll need to install external packages every time you reconnect or reopen a notebook.\n",
    "\n",
    "* 📥 This includes libraries like pypsa, cartopy, geopandas, or any custom dependencies you need.\n",
    "\n",
    "* ⬇️ Install PyPSA and Dependencies\n",
    "\n",
    "Run the cell below to install PyPSA and other commonly used packages:"
   ]
  },
  {
   "cell_type": "code",
   "execution_count": null,
   "id": "27b327b5",
   "metadata": {},
   "outputs": [],
   "source": [
    "# @title Install latest version of PyPSA with Excel support\n",
    "\n",
    "import os\n",
    "from IPython.display import clear_output\n",
    "\n",
    "# Install required packages\n",
    "os.system(\"pip install -q pypsa\")\n",
    "os.system(\"pip install -q 'pypsa[excel]'\")\n",
    "os.system(\"pip install -q folium mapclassify\")\n",
    "\n",
    "# Clear the output after installation\n",
    "clear_output()\n",
    "\n",
    "# Notify the user\n",
    "print(\"✅ All required packages have been installed.\\n\"\n",
    "      \"💡 To comment this cell, select all the text and press `Ctrl + /`.\")"
   ]
  },
  {
   "cell_type": "markdown",
   "id": "c4daa639",
   "metadata": {},
   "source": [
    "#### Preliminaries"
   ]
  },
  {
   "cell_type": "code",
   "execution_count": null,
   "id": "b37fa117",
   "metadata": {},
   "outputs": [],
   "source": [
    "import pypsa\n",
    "import pandas as pd\n",
    "pd.options.plotting.backend = 'plotly' \n"
   ]
  },
  {
   "cell_type": "markdown",
   "id": "e943902c",
   "metadata": {},
   "source": [
    "#### Create `network` object"
   ]
  },
  {
   "cell_type": "code",
   "execution_count": null,
   "id": "2b013ff5",
   "metadata": {},
   "outputs": [],
   "source": [
    "network = pypsa.Network('mini-grid.xlsx')"
   ]
  },
  {
   "cell_type": "markdown",
   "id": "d46cb762",
   "metadata": {},
   "source": [
    "#### View static data"
   ]
  },
  {
   "cell_type": "code",
   "execution_count": null,
   "id": "aa62c334",
   "metadata": {},
   "outputs": [],
   "source": [
    "network.buses"
   ]
  },
  {
   "cell_type": "code",
   "execution_count": null,
   "id": "338fc87d",
   "metadata": {},
   "outputs": [],
   "source": [
    "network.generators"
   ]
  },
  {
   "cell_type": "code",
   "execution_count": null,
   "id": "9d4ea80a",
   "metadata": {},
   "outputs": [],
   "source": [
    "network.storage_units"
   ]
  },
  {
   "cell_type": "code",
   "execution_count": null,
   "id": "76f758d6",
   "metadata": {},
   "outputs": [],
   "source": [
    "network.links"
   ]
  },
  {
   "cell_type": "markdown",
   "id": "d10ad200",
   "metadata": {},
   "source": [
    "#### View timeseries data"
   ]
  },
  {
   "cell_type": "code",
   "execution_count": null,
   "id": "f6008c02",
   "metadata": {},
   "outputs": [],
   "source": [
    "network.generators_t.p_max_pu.plot()"
   ]
  },
  {
   "cell_type": "code",
   "execution_count": null,
   "id": "76b5b816",
   "metadata": {},
   "outputs": [],
   "source": [
    "network.storage_units_t.inflow.plot()"
   ]
  },
  {
   "cell_type": "markdown",
   "id": "79d4acd7",
   "metadata": {},
   "source": [
    "#### Solve model"
   ]
  },
  {
   "cell_type": "code",
   "execution_count": null,
   "id": "d07215ea",
   "metadata": {},
   "outputs": [],
   "source": [
    "network.optimize()"
   ]
  },
  {
   "cell_type": "markdown",
   "id": "18fcc6bb",
   "metadata": {},
   "source": [
    "#### View results"
   ]
  },
  {
   "cell_type": "code",
   "execution_count": null,
   "id": "15d6b1cc",
   "metadata": {},
   "outputs": [],
   "source": [
    "network.generators_t.p.plot(title=\"Generator Power Output\")"
   ]
  },
  {
   "cell_type": "code",
   "execution_count": null,
   "id": "b931d920",
   "metadata": {},
   "outputs": [],
   "source": [
    "network.storage_units_t.p.plot(title=\"Storage Power Output\")"
   ]
  },
  {
   "cell_type": "markdown",
   "id": "e41709e2",
   "metadata": {},
   "source": [
    "#### Lesson outcomes\n",
    "\n",
    "If running the cells above, reads in the network data, solves the model and presents the results it means that your Google Colab Environment is working. "
   ]
  },
  {
   "cell_type": "markdown",
   "id": "56be3d14",
   "metadata": {},
   "source": [
    "---"
   ]
  }
 ],
 "metadata": {
  "kernelspec": {
   "display_name": "mec4131z-env",
   "language": "python",
   "name": "python3"
  },
  "language_info": {
   "codemirror_mode": {
    "name": "ipython",
    "version": 3
   },
   "file_extension": ".py",
   "mimetype": "text/x-python",
   "name": "python",
   "nbconvert_exporter": "python",
   "pygments_lexer": "ipython3",
   "version": "3.12.10"
  }
 },
 "nbformat": 4,
 "nbformat_minor": 5
}
