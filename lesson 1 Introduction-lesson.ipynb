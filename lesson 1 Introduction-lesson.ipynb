{
 "cells": [
  {
   "cell_type": "markdown",
   "id": "d9d3da71",
   "metadata": {},
   "source": [
    "<div style=\"display: flex; align-items: center; justify-content: space-between;\">\n",
    "  <div>\n",
    "    <h3>Modelling Team</h3>\n",
    "    <ul>\n",
    "      <li><strong>Dr. Ekaterina Fedotova</strong> - Senior Energy Systems Modeller</li>\n",
    "      <li><strong>Priyesh Gosai</strong> - Energy Systems Modeler and Training Coordinator</li>\n",
    "      <li><strong>Albert Chitandula</strong> - Energy Systems Modeler</li>\n",
    "    </ul>\n",
    "  </div>\n",
    "  <div>\n",
    "    <a href=\"https://openenergytransition.org/index.html\">\n",
    "      <img src=\"https://openenergytransition.org/assets/img/oet-logo-red-n-subtitle.png\" height=\"60\" alt=\"OET\">\n",
    "    </a>\n",
    "  </div>\n",
    "</div>\n"
   ]
  },
  {
   "cell_type": "markdown",
   "id": "a8b47dc5",
   "metadata": {},
   "source": [
    "##### 🎯 Learning Objectives  \n",
    "\n",
    "The aim of this module is to introduce delegates to the environnment that will be used for modelling. We will not cover any contextual aspects of modelliing as this is covered in the main course. \n",
    "\n",
    "* Setting up the Google Colab environment\n",
    "* View the input data used for a PyPSA model. \n",
    "* Run the notebook:\n",
    "   * Import the model. \n",
    "   * View input data.\n",
    "   * Solve network. \n",
    "   * View results. \n",
    "\n",
    "\n"
   ]
  },
  {
   "cell_type": "markdown",
   "id": "de3941b2",
   "metadata": {},
   "source": [
    "#### Notebook Setup"
   ]
  },
  {
   "cell_type": "code",
   "execution_count": null,
   "id": "3c47e441",
   "metadata": {},
   "outputs": [],
   "source": [
    "# First-time setup flag\n",
    "FIRST_RUN = True\n",
    "\n",
    "if FIRST_RUN:\n",
    "    # Install latest version of PyPSA with Excel support\n",
    "    import os\n",
    "    os.system(\"pip install pypsa\")\n",
    "    os.system(\"pip install pypsa[excel]\")\n",
    "\n",
    "    # Mount Google Drive\n",
    "    from google.colab import drive\n",
    "    drive.mount('/content/drive')\n",
    "\n",
    "    \n",
    "    import shutil\n",
    "    import subprocess\n",
    "\n",
    "    FOLDER = 'ich-modeling-2025'\n",
    "    TARGET_PATH = f'/content/drive/MyDrive/{FOLDER}'\n",
    "    BACKUP_PATH = f'/content/drive/MyDrive/{FOLDER}_backup'\n",
    "\n",
    "    # Backup existing folder if it exists\n",
    "    if os.path.exists(TARGET_PATH):\n",
    "        print(\"Backing up existing folder...\")\n",
    "        if os.path.exists(BACKUP_PATH):\n",
    "            shutil.rmtree(BACKUP_PATH)\n",
    "        shutil.copytree(TARGET_PATH, BACKUP_PATH)\n",
    "\n",
    "    # Clone repo if not present\n",
    "    if not os.path.exists(os.path.join(TARGET_PATH, '.git')):\n",
    "        subprocess.run(['git', 'clone', 'https://github.com/PriyeshGosai/ich-modeling-2025', TARGET_PATH])\n",
    "    else:\n",
    "        # Pull latest updates\n",
    "        print(\"Updating existing repo...\")\n",
    "        subprocess.run(['git', '-C', TARGET_PATH, 'pull'])\n",
    "\n",
    "    os.chdir(TARGET_PATH)\n",
    "    print(f\"Working directory set to: {TARGET_PATH}\")\n"
   ]
  },
  {
   "cell_type": "markdown",
   "id": "c4daa639",
   "metadata": {},
   "source": [
    "#### Preliminaries"
   ]
  },
  {
   "cell_type": "code",
   "execution_count": null,
   "id": "b37fa117",
   "metadata": {},
   "outputs": [],
   "source": [
    "import pypsa\n",
    "import pandas as pd\n",
    "pd.options.plotting.backend = 'plotly' \n"
   ]
  },
  {
   "cell_type": "markdown",
   "id": "e943902c",
   "metadata": {},
   "source": [
    "#### Create `network` object"
   ]
  },
  {
   "cell_type": "code",
   "execution_count": null,
   "id": "2b013ff5",
   "metadata": {},
   "outputs": [],
   "source": [
    "network = pypsa.Network('mini-grid.xlsx')"
   ]
  },
  {
   "cell_type": "markdown",
   "id": "d46cb762",
   "metadata": {},
   "source": [
    "#### View static data"
   ]
  },
  {
   "cell_type": "code",
   "execution_count": null,
   "id": "aa62c334",
   "metadata": {},
   "outputs": [],
   "source": [
    "network.buses"
   ]
  },
  {
   "cell_type": "code",
   "execution_count": null,
   "id": "338fc87d",
   "metadata": {},
   "outputs": [],
   "source": [
    "network.generators"
   ]
  },
  {
   "cell_type": "code",
   "execution_count": null,
   "id": "9d4ea80a",
   "metadata": {},
   "outputs": [],
   "source": [
    "network.storage_units"
   ]
  },
  {
   "cell_type": "code",
   "execution_count": null,
   "id": "76f758d6",
   "metadata": {},
   "outputs": [],
   "source": [
    "network.links"
   ]
  },
  {
   "cell_type": "markdown",
   "id": "d10ad200",
   "metadata": {},
   "source": [
    "#### View timeseries data"
   ]
  },
  {
   "cell_type": "code",
   "execution_count": null,
   "id": "f6008c02",
   "metadata": {},
   "outputs": [],
   "source": [
    "network.generators_t.p_max_pu.plot()"
   ]
  },
  {
   "cell_type": "code",
   "execution_count": null,
   "id": "76b5b816",
   "metadata": {},
   "outputs": [],
   "source": [
    "network.storage_units_t.inflow.plot()"
   ]
  },
  {
   "cell_type": "markdown",
   "id": "79d4acd7",
   "metadata": {},
   "source": [
    "#### Solve model"
   ]
  },
  {
   "cell_type": "code",
   "execution_count": null,
   "id": "d07215ea",
   "metadata": {},
   "outputs": [],
   "source": [
    "network.optimize()"
   ]
  },
  {
   "cell_type": "markdown",
   "id": "18fcc6bb",
   "metadata": {},
   "source": [
    "#### View results"
   ]
  },
  {
   "cell_type": "code",
   "execution_count": null,
   "id": "15d6b1cc",
   "metadata": {},
   "outputs": [],
   "source": [
    "network.generators_t.p.plot(title=\"Generator Power Output\")"
   ]
  },
  {
   "cell_type": "code",
   "execution_count": null,
   "id": "b931d920",
   "metadata": {},
   "outputs": [],
   "source": [
    "network.storage_units_t.p.plot(title=\"Storage Power Output\")"
   ]
  },
  {
   "cell_type": "markdown",
   "id": "56be3d14",
   "metadata": {},
   "source": [
    "---"
   ]
  }
 ],
 "metadata": {
  "kernelspec": {
   "display_name": "mec4131z-env",
   "language": "python",
   "name": "python3"
  },
  "language_info": {
   "codemirror_mode": {
    "name": "ipython",
    "version": 3
   },
   "file_extension": ".py",
   "mimetype": "text/x-python",
   "name": "python",
   "nbconvert_exporter": "python",
   "pygments_lexer": "ipython3",
   "version": "3.12.10"
  }
 },
 "nbformat": 4,
 "nbformat_minor": 5
}
