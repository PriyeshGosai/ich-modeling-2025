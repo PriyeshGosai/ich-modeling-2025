{
 "cells": [
  {
   "cell_type": "markdown",
   "metadata": {},
   "source": [
    "### 📘 Lesson 4: Building a PyPSA Model"
   ]
  },
  {
   "cell_type": "markdown",
   "metadata": {},
   "source": [
    "<div style=\"display: flex; align-items: center; justify-content: space-between;\">\n",
    "  <div>\n",
    "    <h3>Course presenters</h3>\n",
    "    <ul>\n",
    "      <li><strong>Priyesh Gosai</strong> - Energy Systems Modeler and Training Coordinator</li>\n",
    "      <li><strong>Dr. Ekaterina Fedotova</strong> - Senior Energy Systems Modeler</li>\n",
    "    </ul>\n",
    "  </div>\n",
    "  <div>\n",
    "    <a href=\"https://openenergytransition.org/index.html\">\n",
    "      <img src=\"https://openenergytransition.org/assets/img/oet-logo-red-n-subtitle.png\" height=\"60\" alt=\"OET\">\n",
    "    </a>\n",
    "  </div>\n",
    "</div>\n"
   ]
  },
  {
   "cell_type": "markdown",
   "metadata": {},
   "source": [
    "##### 🎯 Learning Objectives  \n"
   ]
  },
  {
   "cell_type": "markdown",
   "metadata": {},
   "source": [
    "\n",
    "* Introduce participants to the PyPSA toolbox.  \n",
    "* Provide details of relevant components.  \n",
    "* Build and solve a simple PyPSA model.  \n",
    "* Review the data structures for static and time-series data.  \n",
    "* Analyze the results.  \n",
    "\n",
    "The content also includes references to other toolboxes such as `numpy`, `pandas`, `matplotlib`, and `plotly`, but only covers functions relevant to a PyPSA workflow.  \n",
    "\n",
    "📌 Participants unfamiliar with these toolboxes are encouraged to explore online videos or courses for deeper learning. 🎥📚  \n",
    "\n",
    "---"
   ]
  },
  {
   "cell_type": "code",
   "execution_count": null,
   "metadata": {},
   "outputs": [],
   "source": [
    "from google.colab import drive\n",
    "import os\n",
    "\n",
    "# Mount Google Drive\n",
    "drive.mount('/content/drive')\n",
    "\n",
    "# Set FOLDER and change to the working directory in one step\n",
    "FOLDER = 'ich-modeling-2025'\n",
    "os.chdir(f'/content/drive/MyDrive/{FOLDER}')\n",
    "\n",
    "# Confirm the current working directory\n",
    "print(\"Current working directory:\", os.getcwd())\n"
   ]
  },
  {
   "cell_type": "markdown",
   "metadata": {},
   "source": [
    "### 📄 **Case Study**"
   ]
  },
  {
   "cell_type": "code",
   "execution_count": null,
   "metadata": {},
   "outputs": [],
   "source": [
    "import pypsa\n"
   ]
  },
  {
   "cell_type": "code",
   "execution_count": null,
   "metadata": {},
   "outputs": [],
   "source": [
    "network = pypsa.examples.ac_dc_meshed()"
   ]
  },
  {
   "cell_type": "code",
   "execution_count": null,
   "metadata": {},
   "outputs": [],
   "source": [
    "network.plot.explore()"
   ]
  },
  {
   "cell_type": "markdown",
   "metadata": {},
   "source": [
    "A `snapshot` represents a specific point in time for which the network is simulated.  \n",
    "- Snapshots can be single timestamps (e.g., `2025-01-01 00:00`) or time series covering hours, days, weeks, or years.  \n",
    "- They allow modeling of dynamic power system behavior over different time periods.  \n"
   ]
  },
  {
   "cell_type": "code",
   "execution_count": null,
   "metadata": {},
   "outputs": [],
   "source": [
    "network.snapshots"
   ]
  },
  {
   "cell_type": "markdown",
   "metadata": {},
   "source": [
    "**Carriers**\n",
    "\n",
    "☀️ 🌬️ 🔥 💧 🔋 🛢️ 🏭 ⚡ \n",
    "\n",
    "A carrier is a label that describes the type of energy or technology associated with a component, such as \"solar\", \"wind\", \"gas\", or \"battery\". It is used for grouping, visualization, and applying shared attributes like efficiency, emissions, or costs across multiple components."
   ]
  },
  {
   "cell_type": "code",
   "execution_count": null,
   "metadata": {},
   "outputs": [],
   "source": [
    "network.carriers"
   ]
  },
  {
   "cell_type": "markdown",
   "metadata": {},
   "source": [
    "🔘 **Busses**\n",
    "\n",
    "A bus represents a node in the network where energy flows are balanced — it connects components like generators, loads, storage units, and transmission lines. Each bus belongs to a specific carrier (e.g., \"AC\", \"DC\", \"heat\") and enforces Kirchhoff's Current Law to ensure supply equals demand at every time step."
   ]
  },
  {
   "cell_type": "code",
   "execution_count": null,
   "metadata": {},
   "outputs": [],
   "source": [
    "network.buses"
   ]
  },
  {
   "cell_type": "markdown",
   "metadata": {},
   "source": [
    "🔗 **Links**\n",
    "\n",
    "* Links enable controllable, directed power flow between two buses (`bus0 → bus1`).  \n",
    "* They can have efficiency losses and marginal costs, restricting default flow to one direction.  \n",
    "* For bidirectional, lossless operation, set `efficiency = 1`, `marginal_cost = 0`, and `p_min_pu = -1`.  \n",
    "* Links model HVDC interconnections, converters, heat pumps, electrolysers, and other controllable power flows.  \n",
    "\n",
    "\n",
    "\n",
    "\n"
   ]
  },
  {
   "cell_type": "code",
   "execution_count": null,
   "metadata": {},
   "outputs": [],
   "source": [
    "network.links"
   ]
  },
  {
   "cell_type": "markdown",
   "metadata": {},
   "source": [
    "🔌 Lines\n",
    "\n",
    "Lines represent passive, bidirectional power flow between two buses, governed by physical impedance and thermal limits.\n",
    "\n",
    "They model AC transmission and distribution infrastructure using parameters like x (reactance), s_nom (thermal rating), and length.\n",
    "\n",
    "Power flows are determined by network topology and Kirchhoff’s Laws, not by control decisions.\n",
    "\n",
    "Use s_nom_extendable = True for capacity expansion studies and apply type for standard line parameters from components.csv.\n"
   ]
  },
  {
   "cell_type": "code",
   "execution_count": null,
   "metadata": {},
   "outputs": [],
   "source": [
    "network.lines"
   ]
  },
  {
   "cell_type": "markdown",
   "metadata": {},
   "source": [
    "**⚡ Generators**\n",
    "\n",
    "Generators attach to a single bus, converting energy from their `carrier` to the bus `carrier`.  \n",
    "\n",
    "* Their power output is constrained by `p_nom * p_max_pu` and `p_nom * p_min_pu`.  \n",
    "\n",
    "* Static limits define dispatchable generators, while time-varying limits model renewables.  \n",
    "\n",
    "* Time series `p_max_pu` and `p_min_pu` determine availability per snapshot.  \n",
    "\n",
    "* For unit commitment constraints, refer to the PyPSA documentation. \n",
    "\n",
    "Some key variables relevant to this model are given below. \n",
    "\n",
    "\n",
    "| Attribute              | Type            | Unit           | Default | Description | Constraint |\n",
    "|------------------------|----------------|---------------|---------|-------------|------------------|\n",
    "| `name`              | string         | n/a           | n/a     | Unique name |  |\n",
    "| `bus`               | string         | n/a           | n/a     | Name of bus to which generator is attached |  |\n",
    "| `p_nom`            | float          | MW            | 0       | Nominal power for limits in optimization. |  |\n",
    "| `p_nom_extendable` | boolean        |           | False   | Switch to allow capacity p_nom to be extended in optimization. | |\n",
    "| `p_min_pu`        | static/series  | per unit      | n/a     | Minimum output per unit of p_nom. | $p_t \\geq p_{nom}\\times p_{min,pu,t}$ |\n",
    "| `p_max_pu`        | static/series  | per unit      | 1       | Maximum output per unit of p_nom. | $p_t \\leq p_{nom}\\times p_{max,pu,t}$ |\n",
    "| `p_set`           | static/series  | MW            | n/a     | Active power set point (for PF). | $p_t = p_{set}$  |\n",
    "| `e_sum_min`       | float          | MWh           | -inf    | Minimum total energy produced during optimization horizon. | $\\sum p_t \\cdot \\delta t \\leq e_{\\max}$\n",
    "| `e_sum_max`       | float          | MWh           | inf     | Maximum total energy produced during optimization horizon. | $\\sum p_t \\cdot \\delta t \\leq e_{\\max}$\n",
    "| `marginal_cost`   | static/series  | currency/MWh  | n/a     | Marginal cost of production of 1 MWh. | |\n",
    "\n"
   ]
  },
  {
   "cell_type": "markdown",
   "metadata": {},
   "source": [
    "network.generators"
   ]
  },
  {
   "cell_type": "markdown",
   "metadata": {},
   "source": [
    "🌞 **Applying `p_max_pu` Constraint on VRE Generators**  \n",
    "\n",
    "* Variable Renewable Energy (VRE) generators, such as solar and wind, have time-dependent availability limits.  \n",
    "* The `p_max_pu` constraint, imported as a time-series dataset, determines the maximum power output at each snapshot on a per unit basis.  \n",
    "\n",
    "\n",
    "Check the number of snapshots using the `len` function.\n",
    "```\n",
    "len(network.snapshots)\n",
    "```"
   ]
  },
  {
   "cell_type": "code",
   "execution_count": null,
   "metadata": {},
   "outputs": [],
   "source": [
    "network.generators_t.p_max_pu.plot()"
   ]
  },
  {
   "cell_type": "markdown",
   "metadata": {},
   "source": [
    " 🔌 **Loads**\n",
    "\n",
    "* A load connects to a single bus and consumes power.  \n",
    "* It can represent electricity demand or other types of loads like hydrogen or heat.  \n",
    "* If active power is consumed, the load draws from the bus.  \n",
    "* If reactive power is consumed, the load behaves like an inductor.  \n",
    "* Loads are essential for demand modeling in power system simulations. ⚡🏠  "
   ]
  },
  {
   "cell_type": "code",
   "execution_count": null,
   "metadata": {},
   "outputs": [],
   "source": [
    "network.loads"
   ]
  },
  {
   "cell_type": "code",
   "execution_count": null,
   "metadata": {},
   "outputs": [],
   "source": [
    "network.loads_t.p_set.plot()"
   ]
  },
  {
   "cell_type": "markdown",
   "metadata": {},
   "source": [
    "**🔋Batteries**\n",
    "\n",
    "There are two components for energy storage in PyPSA: Storage Units and Stores.  \n",
    "\n",
    "* ⚡ Storage Unit  \n",
    "   * Attaches to a single bus and is used for inter-temporal power shifting with a time-varying state of charge.  \n",
    "   * The energy capacity is defined as `max_hours * nominal power (MW)`, and it includes charging/discharging efficiencies.  \n",
    "\n",
    "* 🏭 Store  \n",
    "   * Connects to a single bus and acts as a fundamental energy storage component without energy conversion.  \n",
    "   * Controls and optimizes energy capacity size, but power output must be controlled using Link components.  \n",
    "\n",
    "🔄 Key Differences  \n",
    "| Feature           | Storage Unit | Store |\n",
    "|------------------|-------------|-------|\n",
    "| Power Control | Directly defined | Requires Links |\n",
    "| Energy Capacity | Fixed as `max_hours * MW` | Optimized independently |\n",
    "| Marginal Cost | Applies only to discharging | Applies to both charging & discharging |\n",
    "| Energy Carrier Conversion| Possible | Not possible (inherits from bus) |\n",
    "\n",
    "Stores are more flexible but require Links for power control, while Storage Units offer a simpler implementation for direct energy storage modeling. ⚙️🔄  \n",
    "\n",
    "⚡ **Storage Unit**\n",
    "\n",
    "\n",
    "| Attribute              | Type            | Unit           | Default | Description |\n",
    "|------------------------|----------------|---------------|---------|-------------|\n",
    "| `name`              | string         | n/a           | n/a     | Unique name | \n",
    "| `bus`               | string         | n/a           | n/a     | Name of bus to which generator is attached |\n",
    "| `p_nom`            | float          | MW            | 0       | Nominal power for limits in optimization. | \n",
    "| `marginal_cost`   | static/series  | currency/MWh  | n/a     | Marginal cost of production of 1 MWh. | \n",
    "| `max_hours` | float | h | 1 | Maximum state of charge capacity in terms of hours at full output capacity `p_nom` |  \n",
    "|`state_of_charge_initial`| float | MWh | 0  | State of charge before the snapshots in the OPF. | \n",
    "|`efficiency_store`  | static/series | per unit | 1 | Efficiency of storage on the way into the storage. | \n",
    "|`efficiency_dispatch`| static/series | per unit | 1 | Efficiency of storage on the way out of the storage. | \n",
    "| `standing_loss`| static/series | per unit | 0 | Losses per hour to state of charge. | \n",
    "| `inflow`| static/series | MW | 0 | Inflow to the state of charge, e.g. due to river inflow in hydro reservoir. |\n"
   ]
  },
  {
   "cell_type": "code",
   "execution_count": null,
   "metadata": {},
   "outputs": [],
   "source": [
    "network.storage_units"
   ]
  },
  {
   "cell_type": "markdown",
   "metadata": {},
   "source": [
    "Since there are no storage units lets use the `network.add()` function to add a battery. "
   ]
  },
  {
   "cell_type": "code",
   "execution_count": null,
   "metadata": {},
   "outputs": [],
   "source": [
    "network.add('StorageUnit', \n",
    "            name = \"London Battery\",\n",
    "            bus = \"London\",\n",
    "            p_nom = 1000, \n",
    "            state_of_charge_initial = 300, \n",
    "            max_hours = 5,\n",
    "            carrier = \"battery\")"
   ]
  },
  {
   "cell_type": "markdown",
   "metadata": {},
   "source": [
    "We might want to change a value. "
   ]
  },
  {
   "cell_type": "markdown",
   "metadata": {},
   "source": [
    "Use the `at` method to change a singular value in the DataFrame"
   ]
  },
  {
   "cell_type": "code",
   "execution_count": null,
   "metadata": {},
   "outputs": [],
   "source": [
    "network.generators.at['Manchester Wind', 'p_nom'] = 1000\n"
   ]
  },
  {
   "cell_type": "markdown",
   "metadata": {},
   "source": [
    "Use the `loc` method to make complex changes. "
   ]
  },
  {
   "cell_type": "code",
   "execution_count": null,
   "metadata": {},
   "outputs": [],
   "source": [
    "\n",
    "network.links.loc[network.links.bus1 == 'Norwich DC', 'p_nom_extendable'] = False\n"
   ]
  },
  {
   "cell_type": "markdown",
   "metadata": {},
   "source": [
    "Check if we added the battery correctly."
   ]
  },
  {
   "cell_type": "code",
   "execution_count": null,
   "metadata": {},
   "outputs": [],
   "source": [
    "network.consistency_check()"
   ]
  },
  {
   "cell_type": "markdown",
   "metadata": {},
   "source": [
    "**Solve Model**"
   ]
  },
  {
   "cell_type": "code",
   "execution_count": null,
   "metadata": {},
   "outputs": [],
   "source": [
    "network.optimize(solver_name='highs')"
   ]
  },
  {
   "cell_type": "markdown",
   "metadata": {},
   "source": [
    "### Results"
   ]
  },
  {
   "cell_type": "code",
   "execution_count": null,
   "metadata": {},
   "outputs": [],
   "source": [
    "network.generators_t.p.plot()"
   ]
  },
  {
   "cell_type": "code",
   "execution_count": null,
   "metadata": {},
   "outputs": [],
   "source": [
    "network.storage_units_t.p.plot()"
   ]
  },
  {
   "cell_type": "code",
   "execution_count": null,
   "metadata": {},
   "outputs": [],
   "source": [
    "network.storage_units_t.state_of_charge.plot()"
   ]
  },
  {
   "cell_type": "markdown",
   "metadata": {},
   "source": [
    "### Statistics Library"
   ]
  },
  {
   "cell_type": "markdown",
   "metadata": {},
   "source": [
    "##### 🔧 Main Methods (You Can Call Like Functions)\n",
    "\n",
    "| **Function**           | **Description**                                                                 |\n",
    "|------------------------|----------------------------------------------------------------------------------|\n",
    "| `energy_balance()`     | Net energy flows (supply - withdrawal) across components                        |\n",
    "| `supply()`             | Supply only (positive power flows)                                              |\n",
    "| `withdrawal()`         | Withdrawal only (negative power flows)                                          |\n",
    "| `curtailment()`        | Curtailment of components with time-varying availability (e.g. VREs)            |\n",
    "| `capacity_factor()`    | Average output relative to installed capacity                                   |\n",
    "| `optimal_capacity()`   | Optimal (solved) installed capacity in MW/MWh                                   |\n",
    "| `installed_capacity()` | Static installed capacity in MW/MWh                                             |\n",
    "| `expanded_capacity()`  | Difference between optimal and existing capacity                                |\n",
    "| `capex()`              | Capital expenditure for all components                                          |\n",
    "| `installed_capex()`    | CAPEX of already built capacity                                                 |\n",
    "| `expanded_capex()`     | CAPEX of expanded (newly built) capacity                                        |\n",
    "| `opex()`               | Operational costs (based on marginal cost × dispatch)                           |\n",
    "| `revenue()`            | Revenue earned from market prices × output                                      |\n",
    "| `market_value()`       | Revenue per MWh (currency/MWh)                                                  |\n",
    "| `transmission()`       | Transmission flows between buses/carriers                                       |\n",
    "\n",
    "\n",
    "\n",
    "##### 🛠 Common Parameters for `network.statistics` Methods\n",
    "\n",
    "| **Parameter**               | **Type**                     | **Purpose**                                                                 |\n",
    "|----------------------------|------------------------------|------------------------------------------------------------------------------|\n",
    "| `comps`                    | `str` or `list`              | Components to include: e.g. `'Generator'`, `'StorageUnit'`                  |\n",
    "| `aggregate_time`           | `str` / `bool` (`\"sum\"`, `False`) | Sum/mean over time or return time series                               |\n",
    "| `aggregate_groups`         | `str` or `callable`          | How to group component groups (`\"sum\"`, `\"mean\"`, etc.)                     |\n",
    "| `aggregate_across_components` | `bool`                  | Combine results across components (e.g., `Generator` + `Load`)              |\n",
    "| `groupby`                  | `str`, `list`, or `callable` | How to group: `\"carrier\"`, `\"bus_carrier\"`, etc.                            |\n",
    "| `at_port`                  | `bool`, `str`, or `list`     | Include specific ports: e.g., `True`, `\"bus1\"`                              |\n",
    "| `carrier`                  | `str` or `list`              | Filter by component carrier (e.g., `\"solar\"`, `\"gas\"`)                      |\n",
    "| `bus_carrier`              | `str` or `list`              | Filter by carrier of the connected bus                                      |\n",
    "| `nice_names`               | `bool`                       | Use nice names from `n.carriers.nice_name`                                  |\n",
    "| `drop_zero`                | `bool`                       | Drop zero-valued results                                                    |\n",
    "| `round`                    | `int`                        | Round output to given number of decimal places                              |\n",
    "| `direction`                | `\"supply\"`, `\"withdrawal\"`   | Used in `energy_balance`/`revenue` to isolate flow direction                |\n",
    "\n"
   ]
  },
  {
   "cell_type": "code",
   "execution_count": null,
   "metadata": {},
   "outputs": [],
   "source": [
    "network.statistics.energy_balance.plot()"
   ]
  },
  {
   "cell_type": "code",
   "execution_count": null,
   "metadata": {},
   "outputs": [],
   "source": [
    "df = network.statistics.transmission(aggregate_time=False)"
   ]
  },
  {
   "cell_type": "code",
   "execution_count": null,
   "metadata": {},
   "outputs": [],
   "source": [
    "df = network.statistics.transmission(aggregate_time=False)\n",
    "\n",
    "df.T.plot()"
   ]
  },
  {
   "cell_type": "code",
   "execution_count": null,
   "metadata": {},
   "outputs": [],
   "source": [
    "df = network.statistics.supply()\n",
    "df"
   ]
  },
  {
   "cell_type": "markdown",
   "metadata": {},
   "source": [
    "### Export Network"
   ]
  },
  {
   "cell_type": "code",
   "execution_count": null,
   "metadata": {},
   "outputs": [],
   "source": [
    "import os\n",
    "import pathlib\n",
    "\n",
    "results_folder = 'results'\n",
    "case_name = 'lesson6'\n",
    "\n",
    "os.makedirs(results_folder, exist_ok=True)\n",
    "\n",
    "\n",
    "\n",
    "\n",
    "csv_result = pathlib.Path(pathlib.Path.cwd(), results_folder, f\"{case_name}\")\n",
    "excel_result = pathlib.Path(pathlib.Path.cwd(), results_folder, f\"{case_name}.xlsx\")\n",
    "netcdf_result = pathlib.Path(pathlib.Path.cwd(), results_folder, f\"{case_name}.nc\")\n",
    "h5_result = pathlib.Path(pathlib.Path.cwd(), results_folder, f\"{case_name}.h5\")\n",
    "\n",
    "\n",
    "# Export the network to a folder of CSV files (one file per component like buses, generators, lines, etc.)\n",
    "network.export_to_csv_folder(csv_result)\n",
    "\n",
    "# Export the entire network to a single Excel (.xlsx) file with each component in a separate sheet\n",
    "network.export_to_excel(excel_result)\n",
    "\n",
    "# Export the network to a NetCDF (.nc) file — useful for efficient storage and cross-platform compatibility\n",
    "network.export_to_netcdf(netcdf_result)\n",
    "\n",
    "# Export the network to an HDF5 (.h5) file — fast binary format well-suited for large networks\n",
    "network.export_to_hdf5(h5_result)\n",
    "\n"
   ]
  },
  {
   "cell_type": "markdown",
   "metadata": {},
   "source": [
    "### \n",
    "---"
   ]
  }
 ],
 "metadata": {
  "kernelspec": {
   "display_name": "mec4131z-env",
   "language": "python",
   "name": "python3"
  },
  "language_info": {
   "codemirror_mode": {
    "name": "ipython",
    "version": 3
   },
   "file_extension": ".py",
   "mimetype": "text/x-python",
   "name": "python",
   "nbconvert_exporter": "python",
   "pygments_lexer": "ipython3",
   "version": "3.12.10"
  }
 },
 "nbformat": 4,
 "nbformat_minor": 2
}
