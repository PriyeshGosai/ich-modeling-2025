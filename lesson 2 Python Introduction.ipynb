{
  "cells": [
    {
      "cell_type": "markdown",
      "metadata": {},
      "source": [
        "### 📘 Lesson 2: Introduction to Python"
      ]
    },
    {
      "cell_type": "markdown",
      "metadata": {},
      "source": [
        "<div style=\"display: flex; align-items: center; justify-content: space-between;\">\n",
        "  <div>\n",
        "    <h3>Notebook Developers</h3>\n",
        "    <ul>\n",
        "      <li><strong>Dr. Fabrizio Finozzi</strong> - Big Data Software Developer</li>\n",
        "      <li><strong>Priyesh Gosai</strong> - Energy Systems Modeler and Training Coordinator</li>\n",
        "    </ul>\n",
        "  </div>\n",
        "  <div>\n",
        "    <a href=\"https://openenergytransition.org/index.html\">\n",
        "      <img src=\"https://openenergytransition.org/assets/img/oet-logo-red-n-subtitle.png\" height=\"60\" alt=\"OET\">\n",
        "    </a>\n",
        "  </div>\n",
        "</div>\n"
      ]
    },
    {
      "cell_type": "markdown",
      "metadata": {},
      "source": [
        "##### 🎯 Learning Objectives  \n",
        "\n",
        "* Gain an understanding of Python.\n",
        "* Learn about variables and data types.\n",
        "* Explore the structure and application of conditional statements and loops.\n",
        "* Develop and utilize functions.\n",
        "\n"
      ]
    },
    {
      "cell_type": "markdown",
      "metadata": {
        "id": "SSCmzsdX5VJT"
      },
      "source": [
        "### Python\n",
        "---\n",
        "Python is a multi-purposed **programming language**. It allows all sorts of activities from building web applications, to coding computer games, to machine learning projects and solving optimization problems (as power system modeling). It is moreover free to use, easy to learn and has a well written documentation and a wide community of contributors.\n",
        "\n",
        "\n"
      ]
    },
    {
      "cell_type": "code",
      "execution_count": 1,
      "metadata": {
        "id": "d3qJJn2oWeIZ"
      },
      "outputs": [
        {
          "name": "stdout",
          "output_type": "stream",
          "text": [
            "Welcome\n"
          ]
        }
      ],
      "source": [
        "print('Welcome')"
      ]
    },
    {
      "cell_type": "markdown",
      "metadata": {},
      "source": [
        "### Python packages\n",
        "---\n",
        "\n",
        "Python offers also a wide range of packages that provide pre-built and tested functions that can be imported in your code. As of July 2024, the Python Package Index [PyPI](https://pypi.org/) (the official repository of software for the Python programming language), contains over 100000 projects."
      ]
    },
    {
      "cell_type": "markdown",
      "metadata": {},
      "source": [
        "📥 **Import packages**"
      ]
    },
    {
      "cell_type": "code",
      "execution_count": null,
      "metadata": {},
      "outputs": [],
      "source": [
        "import numpy as np\n",
        "import pandas as pd\n"
      ]
    },
    {
      "cell_type": "markdown",
      "metadata": {
        "id": "cHK-V-Ah5VJU"
      },
      "source": [
        "### Variable names\n",
        "---"
      ]
    },
    {
      "cell_type": "markdown",
      "metadata": {
        "id": "ivx53hYl5VJV"
      },
      "source": [
        "Every Python variable has a unique name and a value. A variable comes into existence as a result of assigning a value to it. The assign operator is the `=`. For example"
      ]
    },
    {
      "cell_type": "code",
      "execution_count": null,
      "metadata": {
        "id": "bA_ed9Rf5VJV"
      },
      "outputs": [],
      "source": [
        "variable = \"something\""
      ]
    },
    {
      "cell_type": "markdown",
      "metadata": {},
      "source": [
        "Display the variable"
      ]
    },
    {
      "cell_type": "code",
      "execution_count": null,
      "metadata": {},
      "outputs": [],
      "source": [
        "print(variable)"
      ]
    },
    {
      "cell_type": "markdown",
      "metadata": {
        "id": "Z9FVuAS45VJW"
      },
      "source": [
        "### Data types\n",
        "---"
      ]
    },
    {
      "cell_type": "markdown",
      "metadata": {
        "id": "hGgtc1VT5VJY"
      },
      "source": [
        "Python offers the following built-in data types to store data into variables. A more comprehensive list is available at this [page](https://docs.python.org/3/library/stdtypes.html).\n",
        "\n",
        "\n",
        "The function `type()` can be used to return the `Python representation`."
      ]
    },
    {
      "cell_type": "code",
      "execution_count": null,
      "metadata": {},
      "outputs": [],
      "source": [
        "text_type = 'string'\n",
        "\n",
        "print(text_type)\n",
        "print(type(text_type))\n"
      ]
    },
    {
      "cell_type": "code",
      "execution_count": null,
      "metadata": {},
      "outputs": [],
      "source": [
        "numeric_type_float = 3.14\n",
        "\n",
        "print(numeric_type_float)\n",
        "print(type(numeric_type_float))\n"
      ]
    },
    {
      "cell_type": "code",
      "execution_count": null,
      "metadata": {},
      "outputs": [],
      "source": [
        "numeric_type_int = int(1)\n",
        "\n",
        "print(numeric_type_int)\n",
        "print(type(numeric_type_int))"
      ]
    },
    {
      "cell_type": "code",
      "execution_count": null,
      "metadata": {},
      "outputs": [],
      "source": [
        "numeric_type_complex =  4 + 5j\n",
        "\n",
        "print(numeric_type_complex )\n",
        "print(type(numeric_type_complex ))\n"
      ]
    },
    {
      "cell_type": "code",
      "execution_count": null,
      "metadata": {},
      "outputs": [],
      "source": [
        "boolean_type = True # or False\n",
        "\n",
        "print(boolean_type )\n",
        "print(type(boolean_type ))\n"
      ]
    },
    {
      "cell_type": "code",
      "execution_count": null,
      "metadata": {},
      "outputs": [],
      "source": [
        "none_type = None\n",
        "\n",
        "print(none_type)\n",
        "print(type(none_type))\n"
      ]
    },
    {
      "cell_type": "markdown",
      "metadata": {},
      "source": [
        "Collection types"
      ]
    },
    {
      "cell_type": "code",
      "execution_count": null,
      "metadata": {},
      "outputs": [],
      "source": [
        "# List of Manchester United players\n",
        "list_collection = [\n",
        "    \"Bruno Fernandes\",\n",
        "    \"Andre Onana\",\n",
        "    \"Harry Maguire\",\n",
        "    \"Lisandro Martínez\",\n",
        "    \"Rasmus Højlund\"\n",
        "]\n",
        "\n",
        "print(list_collection)\n",
        "\n",
        "print(type(list_collection))\n",
        "\n",
        "print(len(list_collection))\n",
        "\n",
        "print(list_collection[1])\n",
        "\n",
        "print(list_collection[3])\n",
        "\n",
        "print(list_collection[-1])"
      ]
    },
    {
      "cell_type": "code",
      "execution_count": null,
      "metadata": {},
      "outputs": [],
      "source": [
        "# Tuple of the greatest footballers of all time\n",
        "\n",
        "tuple_collection = (\n",
        "    \"Pelé\",\n",
        "    \"Diego Maradona\",\n",
        "    \"Lionel Messi\",\n",
        "    \"Cristiano Ronaldo\",\n",
        "    \"Johan Cruyff\",\n",
        "    \"Zinedine Zidane\",\n",
        "    \"Ronaldo Nazário\",\n",
        "    \"Michel Platini\",\n",
        "    \"Franz Beckenbauer\",\n",
        "    \"George Best\"\n",
        ")\n",
        "\n",
        "print(tuple_collection)\n",
        "print(type(tuple_collection))"
      ]
    },
    {
      "cell_type": "code",
      "execution_count": null,
      "metadata": {},
      "outputs": [],
      "source": [
        "# A set of the periodic table of elements\n",
        "set_collection = {\"Hydrogen\", \"Oxygen\", \"Carbon\", \"Iron\", \"Gold\", \"Uranium\"}\n",
        "\n",
        "print(set_collection)\n",
        "print(type(set_collection))"
      ]
    },
    {
      "cell_type": "code",
      "execution_count": null,
      "metadata": {},
      "outputs": [],
      "source": [
        "# Dictionary\n",
        "dictionary_collection = {\n",
        "    \"Aardvark\": \"A nocturnal burrowing mammal native to Africa.\",\n",
        "    \"Abacus\": \"A device used for arithmetic calculations.\",\n",
        "    \"Abandon\": \"To leave something or someone completely.\"\n",
        "}\n",
        "print(dictionary_collection)\n",
        "print(type(dictionary_collection))\n",
        "\n",
        "print(type(dictionary_collection))\n",
        "\n",
        "print(dictionary_collection[\"Aardvark\"])\n",
        "\n",
        "dictionary_collection[\"Abacus\"] = \"An ancient device used for arithmetic calculations.\"\n",
        "\n",
        "dictionary_collection[\"Delulu\"] = \"Unrealistically hopeful, overly optimistic, or detached from reality, often in a humorous or exaggerated way.\"\n",
        "\n",
        "dictionary_collection[\"Pi\"] = {\n",
        "                                \"definition\": \"\",\n",
        "                                \"value\" : np.pi}\n",
        "\n",
        "\n",
        "print(dictionary_collection.keys())"
      ]
    },
    {
      "cell_type": "markdown",
      "metadata": {
        "id": "UedG9tsJ5VJj"
      },
      "source": [
        "### Conditional operators\n",
        "---"
      ]
    },
    {
      "cell_type": "markdown",
      "metadata": {
        "id": "oSo80o0t5VJj"
      },
      "source": [
        "The building blocks of conditional statements are the conditional operators. Namely:\n",
        "- **Equality operator**: it is the operator `==`. The operator needs two arguments and checks if they are equal. If the two arguments are equal it returns `True`. If they are not equal, it returns `False`. Please do not confuse it with the **assignment operator** `=`\n",
        "- **Inequality operator**: it is the operator `!=`. If the two arguments are equal it returns `False`. If they are **not** equal, it returns `True`.\n",
        "- **Greater or greater equal**: they are respectively the operators `>` and `>=`\n",
        "- **Lower or lower equal**: they are respectively the operators `<` and `<=`\n"
      ]
    },
    {
      "cell_type": "markdown",
      "metadata": {
        "id": "HkgVI61O5VJj"
      },
      "source": [
        "### If statement"
      ]
    },
    {
      "cell_type": "markdown",
      "metadata": {
        "id": "uk2xeDIR5VJj"
      },
      "source": [
        "The `if` statement appearance is"
      ]
    },
    {
      "cell_type": "code",
      "execution_count": null,
      "metadata": {
        "id": "HVzZuWBZ5VJj"
      },
      "outputs": [],
      "source": [
        "variable_a = 100"
      ]
    },
    {
      "cell_type": "code",
      "execution_count": null,
      "metadata": {
        "id": "XDTNeYw65VJj"
      },
      "outputs": [],
      "source": [
        "if variable_a < 5:\n",
        "    print(\"variable_a is less than 5\")\n",
        "elif 5 <= variable_a < 50:\n",
        "    print(\"variable_a is between (or equal to) 5 and less than 50\")\n",
        "elif 50 <= variable_a < 100:\n",
        "    print(\"variable_a is between (or equal to) 50 and less than 100\")\n",
        "else:\n",
        "    print(\"variable_a is equal to or greater than 100\")"
      ]
    },
    {
      "cell_type": "markdown",
      "metadata": {
        "id": "R-RBWqAW5VJj"
      },
      "source": [
        "The `if` statement consists of the following, `strictly` necessary, elements in this and this order only:\n",
        "- the `if` keyword\n",
        "- a condition (a question or an answer) whose value will be interpreted solely in terms of `True` and `False`\n",
        "- a colon `:` followed by a newline\n",
        "- an indented instruction or set of instructions (at least one instruction is absolutely required). The indentation may be achieved in two ways - by inserting a particular number of spaces (the recommendation is to use four spaces of indentation), or by using the tab character."
      ]
    },
    {
      "cell_type": "markdown",
      "metadata": {
        "id": "-NZ4ncR65VJk"
      },
      "source": [
        "The `if` statement may also consists of the following elements in this and this order only:\n",
        "- the `elif` keyword is used to check more than one condition. An `if` statement may contain one or more `elif` statements. An `elif` statement is activated when all previously listed conditions are `False`\n",
        "- the `else` statement is executed when none of the previous conditions (of the `if` or `elif`) is `True`. Such statement is optional and may be omitted. It is however recommended to use it.\n",
        "\n",
        "The `elif` or `else` conditions are commonly refer to as `elif` or `else` branch."
      ]
    },
    {
      "cell_type": "markdown",
      "metadata": {
        "id": "cPMaP4l05VJk"
      },
      "source": [
        "### Loops\n",
        "---"
      ]
    },
    {
      "cell_type": "markdown",
      "metadata": {
        "id": "yN8W35aj5VJk"
      },
      "source": [
        "It is sometimes necessary to repeat an operation several times. Python therefore provides looping techniques. The main ones are the `for` and `while` loops.\n",
        "\n",
        "A `for` loop repeats an operation as many times as specified. A `while` loop instead repeats an operation as long as an expression remains `True`."
      ]
    },
    {
      "cell_type": "markdown",
      "metadata": {
        "id": "hEfBPaI15VJk"
      },
      "source": [
        "#### for loop\n",
        "\n",
        "The `for` loop allows the browsing of large collections of data item by item. It is made up the following elements:\n",
        "- the `for` keyword opens the loop\n",
        "- any variable after the for keyword is the control variable of the loop. Such variable automatically counts the loop’s turns\n",
        "- the `in` keyword introduces a syntax element describing the range of possible values being assigned to the control variable\n",
        "- the `range()` function generates the values (by default in ascending order) of the control variable, from 0 to one step prior to the value of its argument. For example `range(2)` generates `0, 1`. Instead `range(1,2)`, only generates `1`. Other examples are `range(2,8,3)`, which generates `2, 5` or `range(-1,2)`, which generates `-1, 0, 1`\n",
        "- Python demands at least one instruction for the loop’s body. If you do not have any then put the instruction `pass`, which simply continues the loop\n",
        "- **break**, **continue** and **pass**: they are three keywords. `break` exits the loop immediately and unconditionally ends the loop’s operation. The program begins to execute the nearest instruction after the loop’s body. `continue` behaves as if the program has suddenly reached the end of the body. The next iteration in the loop is started and the condition expression is tested immediately. `pass` instead simply does nothing\n",
        "\n",
        "Please find below some examples of `for` loops."
      ]
    },
    {
      "cell_type": "code",
      "execution_count": null,
      "metadata": {
        "id": "dS-KXnHh5VJk"
      },
      "outputs": [],
      "source": [
        "for i in range(0, 6):\n",
        "    print(i)"
      ]
    },
    {
      "cell_type": "code",
      "execution_count": null,
      "metadata": {
        "id": "hRb-wgkC5VJk"
      },
      "outputs": [],
      "source": [
        "for i in range(0, 6):\n",
        "    pass"
      ]
    },
    {
      "cell_type": "code",
      "execution_count": null,
      "metadata": {
        "id": "f7KIg8Cs5VJk"
      },
      "outputs": [],
      "source": [
        "for i in range(0, 6):\n",
        "    if i == 4:\n",
        "        break\n",
        "    else:\n",
        "        print(i)"
      ]
    },
    {
      "cell_type": "code",
      "execution_count": null,
      "metadata": {},
      "outputs": [],
      "source": [
        "for key in dictionary_collection:\n",
        "    print(key,dictionary_collection[key])"
      ]
    },
    {
      "cell_type": "markdown",
      "metadata": {
        "id": "PyUTzwvX5VJl"
      },
      "source": [
        "#### while loop"
      ]
    },
    {
      "cell_type": "markdown",
      "metadata": {
        "id": "7RLcPnQO5VJl"
      },
      "source": [
        "A `while` loop depends on the verification of a boolean condition, which is checked at the start or at the end of the loop construct. For example"
      ]
    },
    {
      "cell_type": "code",
      "execution_count": null,
      "metadata": {
        "id": "fpP0tbuG5VJl"
      },
      "outputs": [],
      "source": [
        "variable_a = 0\n",
        "while variable_a < 5:\n",
        "    print(variable_a)\n",
        "    variable_a += 1"
      ]
    },
    {
      "cell_type": "markdown",
      "metadata": {
        "id": "MIF6eKQB5VJl"
      },
      "source": [
        "`while` and `for` loops may have the `else` branch too. The loop’s `else` branch is always executed once, regardless of whether the loop has entered its body or not."
      ]
    },
    {
      "cell_type": "code",
      "execution_count": null,
      "metadata": {
        "id": "2ajITlXl5VJl"
      },
      "outputs": [],
      "source": [
        "variable_a = 1\n",
        "while variable_a < 6:\n",
        "    print(variable_a)\n",
        "    variable_a += 1\n",
        "else:\n",
        "    print(\"variable_a is greater than 5\")"
      ]
    },
    {
      "cell_type": "markdown",
      "metadata": {
        "id": "kZ5gkGAL5VJl"
      },
      "source": [
        "### Functions\n",
        "\n",
        "---"
      ]
    },
    {
      "cell_type": "markdown",
      "metadata": {
        "id": "BwlCEznn5VJl"
      },
      "source": [
        "Functions are blocks of the computer code that can be `name-tagged`, so that they be easily executed as many times as needed.\n",
        "\n",
        "Functions are usually coming from:\n",
        "- **Python itself**: such functions are usually referred to as `built-in` and are coming from Python itself. The `print` function is one of this kind\n",
        "- **Modules/Packages**: they may come from one or more of Python’s add-ons named modules/packages. Some of the modules/packages come with the default Python installation, whereas others may require separate installation\n",
        "- **Custom**: each developer can write his/her own functions within the code\n",
        "\n",
        "**Structure of functions**\n",
        "\n",
        "A Python function definition starts with the `def` keyword. Moreover, a function may have/require a number of arguments. Finally the standard convention in Python is that all functions must have opening and closing parentheses after their names. For example `print()`. This is the way to distinguish a function name from a variable name. An example **function definition** is"
      ]
    },
    {
      "cell_type": "code",
      "execution_count": null,
      "metadata": {
        "id": "dPxdOYYq5VJl"
      },
      "outputs": [],
      "source": [
        "def sum_numbers(num_a, num_b):\n",
        "    return num_a + num_b"
      ]
    },
    {
      "cell_type": "markdown",
      "metadata": {
        "id": "g1c3p_Pn5VJm"
      },
      "source": [
        "A function definition does not produce any output by itself. Function should be invoked. A **function invocation** is given by the function name, followed by the opening and closing parentheses."
      ]
    },
    {
      "cell_type": "code",
      "execution_count": null,
      "metadata": {
        "id": "o0ztUwM55VJn"
      },
      "outputs": [],
      "source": [
        "sum_numbers(1, 2)"
      ]
    },
    {
      "cell_type": "markdown",
      "metadata": {
        "id": "3a25up_15VJn"
      },
      "source": [
        "**Passing arguments to a function**\n",
        "\n",
        "There are two types of arguments for a function in Python:\n",
        "- **Positional arguments**: the meaning of the positional arguments depends on the position in which they are provided\n",
        "- **Keyword arguments** : the meaning of these arguments is taken not from its location (position) but from the special word (keyword) used to identify them. A keyword argument consists of three elements: a keyword identifying the argument, an equal sign (`=`) and a value assigned to that argument (provided in quotes). Please note that every keyword arguments has to be put after the last positional argument.\n",
        "\n",
        "A function example is"
      ]
    },
    {
      "cell_type": "code",
      "execution_count": null,
      "metadata": {
        "id": "HaaaK7S05VJn"
      },
      "outputs": [],
      "source": [
        "print(\"A\", \"B\")"
      ]
    },
    {
      "cell_type": "code",
      "execution_count": null,
      "metadata": {
        "id": "jb6Qkm7U5VJn"
      },
      "outputs": [],
      "source": [
        "print(\"A\", \"B\", sep=\"-\")"
      ]
    },
    {
      "cell_type": "markdown",
      "metadata": {
        "id": "UI4EogtU5VJn"
      },
      "source": [
        "In the example above, `A` and `B` are positional arguments, whereas `sep` is a keyword argument."
      ]
    },
    {
      "cell_type": "markdown",
      "metadata": {
        "id": "mcYvHtY75VJn"
      },
      "source": [
        "**Function examples**\n",
        "\n",
        "It is then nice to put what we learned so far together into a function. The example below, provides a function that uses control structures to return a result. In particular, given a number, the function returns `True` if the number is even or `False` if the number is odd.\n",
        "\n",
        "The function makes use of the `modulo` operator `%`. The operator returns a remainder of a division. For example"
      ]
    },
    {
      "cell_type": "code",
      "execution_count": null,
      "metadata": {
        "id": "O4FDQ_uD5VJn"
      },
      "outputs": [],
      "source": [
        "3 % 2"
      ]
    },
    {
      "cell_type": "markdown",
      "metadata": {
        "id": "YD6AApEd5VJn"
      },
      "source": [
        "or"
      ]
    },
    {
      "cell_type": "code",
      "execution_count": null,
      "metadata": {
        "id": "-nZkKyVe5VJn"
      },
      "outputs": [],
      "source": [
        "4 % 2"
      ]
    },
    {
      "cell_type": "markdown",
      "metadata": {
        "id": "9c3OgpaX5VJn"
      },
      "source": [
        "The function defition is then"
      ]
    },
    {
      "cell_type": "code",
      "execution_count": null,
      "metadata": {
        "id": "2tPkmybf5VJn"
      },
      "outputs": [],
      "source": [
        "def check_if_even_or_odd(num):\n",
        "    if num % 2 == 0:\n",
        "        print(\"The number is even\")\n",
        "        return True\n",
        "    else:\n",
        "        print(\"The number is odd\")\n",
        "        return False"
      ]
    },
    {
      "cell_type": "code",
      "execution_count": null,
      "metadata": {
        "id": "cck0fmQo5VJn"
      },
      "outputs": [],
      "source": [
        "check_if_even_or_odd(2)"
      ]
    },
    {
      "cell_type": "code",
      "execution_count": null,
      "metadata": {
        "id": "IpFPGpuB5VJo"
      },
      "outputs": [],
      "source": [
        "check_if_even_or_odd(3)"
      ]
    },
    {
      "cell_type": "markdown",
      "metadata": {},
      "source": [
        "### Classes\n",
        "---"
      ]
    },
    {
      "cell_type": "markdown",
      "metadata": {},
      "source": [
        "A class is a fundamental concept in object-oriented programming. It enables you to group related data (attributes) and functions (methods) into a single, organized unit. This promotes modularity, code reuse, and abstraction, making complex programs easier to manage and extend.\n",
        "\n",
        "In the example below, we define a class called PowerPlant. Each plant object has attributes such as its name, capacity, fuel type, and thermal efficiency. The class also includes methods:\n",
        "* One to neatly display all the plant’s attributes, and\n",
        "* Another to calculate the rated fuel flow rate based on a given fuel quality. \n",
        "\n",
        "\n",
        "#### 🔍 Rated Fuel Flow Calculation (kg/s)\n",
        "\n",
        "To compute the rated fuel flow rate $\\dot{m}$ required to produce the plant’s rated capacity:\n",
        "\n",
        "#### Formula\n",
        "\n",
        "\n",
        "$$\\dot{m} = \\frac{P_{el}}{\\eta \\cdot H_{fuel}}$$\n",
        "\n",
        "\n",
        "Where:\n",
        "- $\\dot{m}$ = fuel mass flow rate (kg/s)\n",
        "- $P_{el}$ = electrical output (MW)\n",
        "- $\\eta$ = thermal efficiency (fraction)\n",
        "- $H_{fuel}$ = fuel energy content (MJ/kg)\n"
      ]
    },
    {
      "cell_type": "code",
      "execution_count": 32,
      "metadata": {},
      "outputs": [],
      "source": [
        "# Define a class for a Power Plant\n",
        "class PowerPlant:\n",
        "    # Constructor method\n",
        "    def __init__(self, name, capacity_mw, fuel_type=\"coal\", efficiency=0.35):\n",
        "        self.name = name                # Attribute: name of the plant\n",
        "        self.capacity_mw = capacity_mw  # Attribute: plant capacity in MW\n",
        "        self.fuel_type = fuel_type      # Attribute: type of fuel\n",
        "        self.efficiency = efficiency    # Attribute: thermal efficiency (0–1)\n",
        "\n",
        "    # Method: Describe the plant\n",
        "    def describe(self):\n",
        "        print(f\"Power Plant: {self.name}\")\n",
        "        print(f\"Capacity: {self.capacity_mw} MW\")\n",
        "        print(f\"Fuel: {self.fuel_type}\")\n",
        "        print(f\"Efficiency: {self.efficiency * 100:.1f}%\")\n",
        "\n",
        "    # Method: Calculate rated fuel flow (kg/s) to reach capacity\n",
        "    def rated_fuel_flow(self, fuel_energy_content_mj_kg=16.0):\n",
        "        # Rearranged: capacity_mw = fuel_flow_kg_s × MJ/kg × efficiency / 1000\n",
        "        # Solve for fuel_flow_kg_s:\n",
        "        fuel_flow_kg_s = self.capacity_mw / (self.efficiency * fuel_energy_content_mj_kg)\n",
        "        print(f\"Rated fuel flow for {self.name}: {fuel_flow_kg_s:.2f} kg/s\")\n",
        "        return fuel_flow_kg_s\n"
      ]
    },
    {
      "cell_type": "code",
      "execution_count": 33,
      "metadata": {},
      "outputs": [
        {
          "name": "stdout",
          "output_type": "stream",
          "text": [
            "Power Plant: Lethabo\n",
            "Capacity: 618 MW\n",
            "Fuel: coal\n",
            "Efficiency: 35.0%\n",
            "Rated fuel flow for Lethabo: 110.36 kg/s\n"
          ]
        }
      ],
      "source": [
        "# Example usage\n",
        "plant1 = PowerPlant(\"Lethabo\", 618)  # Uses default fuel and efficiency\n",
        "plant1.describe()\n",
        "flow_rate = plant1.rated_fuel_flow()  # Assuming 450 kg/hr of coal input\n",
        "\n"
      ]
    },
    {
      "cell_type": "markdown",
      "metadata": {},
      "source": [
        "Classes aren’t just for custom objects — they’re used throughout Python. Many of the built-in types you use every day, like list, dict, and str, are actually classes under the hood.\n",
        "\n",
        "For example, the list class allows you to store and manipulate ordered collections of items. When you write:\n",
        "\n"
      ]
    },
    {
      "cell_type": "code",
      "execution_count": 7,
      "metadata": {},
      "outputs": [],
      "source": [
        "my_list = [1, 2, 3]"
      ]
    },
    {
      "cell_type": "markdown",
      "metadata": {},
      "source": [
        "You're actually creating an object of the list class. You can then call methods on it, such as:"
      ]
    },
    {
      "cell_type": "code",
      "execution_count": 9,
      "metadata": {},
      "outputs": [
        {
          "data": {
            "text/plain": [
              "[1, 2, 3, 4]"
            ]
          },
          "execution_count": 9,
          "metadata": {},
          "output_type": "execute_result"
        }
      ],
      "source": [
        "my_list.append(4)     # Adds an item\n",
        "my_list\n"
      ]
    },
    {
      "cell_type": "code",
      "execution_count": 10,
      "metadata": {},
      "outputs": [
        {
          "data": {
            "text/plain": [
              "[1, 2, 3]"
            ]
          },
          "execution_count": 10,
          "metadata": {},
          "output_type": "execute_result"
        }
      ],
      "source": [
        "my_list.pop()         # Removes the last item\n",
        "my_list"
      ]
    },
    {
      "cell_type": "code",
      "execution_count": 11,
      "metadata": {},
      "outputs": [
        {
          "name": "stdout",
          "output_type": "stream",
          "text": [
            "3\n"
          ]
        }
      ],
      "source": [
        "print(len(my_list))   # Uses a method from the class to get length"
      ]
    },
    {
      "cell_type": "markdown",
      "metadata": {},
      "source": [
        "\n",
        "\n",
        "---\n",
        "\n",
        "**What is NumPy**\n",
        "\n",
        "NumPy is a Python package that brings the computational power of languages like C++\n",
        "and Fortran to Python. NumPy is the backbone of many other Python packages that span several applications, as shown below\n",
        "\n",
        "<img src=\"images/numpy_applications.png\" width=\"500\">"
      ]
    },
    {
      "cell_type": "markdown",
      "metadata": {},
      "source": [
        "How to import NumPy"
      ]
    },
    {
      "cell_type": "code",
      "execution_count": null,
      "metadata": {},
      "outputs": [],
      "source": [
        "import numpy as np"
      ]
    },
    {
      "cell_type": "markdown",
      "metadata": {},
      "source": [
        "**Why NumPy**\n",
        "\n",
        "NumPy (which is an acronym for **Nu**merical **Py**thon) is a multi-dimensional array library. Data can therefore be stored in one-, two- or n-dimensional arrays. The array object in NumPy is referred to as `ndarray`. NumPy arrays are several times faster than traditional Python lists. This is because (behind the scenes) NumPy is developed in C++. `ndarrays` are also more efficient with memory usage. This is because Python lists may host several types of data at the same time, whereas `ndarrays` can only host numerical data. Finally NumPy can run sub-tasks in parallel. There is in fact the possibility to vectorize operations without the need of using `for` loops to cycle through the array and performing the calculations on each single element.\n",
        "\n",
        "\n",
        "With respect to terminology:\n",
        "- a **scalar** can be viewed as a 0-dimension `ndarray`, therefore it has no shape\n",
        "- a **vector** can be viewed as a 1-dimension `ndarray`, therefore it has shape(n,)\n",
        "- a **matrix** can be viewed as a 2-dimensions `ndarray`, therefore it has shape(n, m)\n",
        "and so forth."
      ]
    },
    {
      "cell_type": "code",
      "execution_count": null,
      "metadata": {},
      "outputs": [],
      "source": [
        "scalar = np.array(4)\n",
        "vector = np.array([1,2,3])\n",
        "matrix = np.array([[1,2,3], [4,5,6]])\n",
        "\n",
        "for arr in [scalar, vector, matrix]:\n",
        "    print(\"dimensions:\", arr.ndim, \"| shape:\", arr.shape)"
      ]
    },
    {
      "cell_type": "markdown",
      "metadata": {},
      "source": [
        "This code snippet makes use of the attributes `ndim` and `shape`, that return respectively an integer corresponding  to the number of dimensions and a tuple of integers corresponding to the array dimensions. The full list of `ndarray` attributes and methods is available at this [link](https://numpy.org/doc/stable/reference/generated/numpy.ndarray.html)."
      ]
    },
    {
      "cell_type": "markdown",
      "metadata": {},
      "source": [
        "**NumPy overview**"
      ]
    },
    {
      "cell_type": "markdown",
      "metadata": {},
      "source": [
        "#### Slicing\n",
        "`ndarray` slicing works as the slicing of lists."
      ]
    },
    {
      "cell_type": "code",
      "execution_count": null,
      "metadata": {},
      "outputs": [],
      "source": [
        "vector = np.array([1,2,3,4,5,6,7])\n",
        "print(vector)"
      ]
    },
    {
      "cell_type": "code",
      "execution_count": null,
      "metadata": {},
      "outputs": [],
      "source": [
        "# the first and the last elements are given by\n",
        "print(vector[0], vector[-1])"
      ]
    },
    {
      "cell_type": "code",
      "execution_count": null,
      "metadata": {},
      "outputs": [],
      "source": [
        "# a slice from the second to the fourth element (included) is given by\n",
        "vector[1:4]"
      ]
    },
    {
      "cell_type": "code",
      "execution_count": null,
      "metadata": {},
      "outputs": [],
      "source": [
        "# a slice from the first to the last element in steps of three is given by\n",
        "vector[::3]"
      ]
    },
    {
      "cell_type": "markdown",
      "metadata": {},
      "source": [
        "The slicing works in the same way even for higher dimensions `ndarray`. Let us consider the matrix"
      ]
    },
    {
      "cell_type": "code",
      "execution_count": null,
      "metadata": {},
      "outputs": [],
      "source": [
        "matrix = np.array([[1,2,3,4,5,6,7], [8,9,10,11,12,13,14]])\n",
        "print(matrix)"
      ]
    },
    {
      "cell_type": "code",
      "execution_count": null,
      "metadata": {},
      "outputs": [],
      "source": [
        "# a slice that returns the first row is given by\n",
        "matrix[0, :]"
      ]
    },
    {
      "cell_type": "code",
      "execution_count": null,
      "metadata": {},
      "outputs": [],
      "source": [
        "# a slice that returns the second row is given by\n",
        "matrix[1, :]"
      ]
    },
    {
      "cell_type": "code",
      "execution_count": null,
      "metadata": {},
      "outputs": [],
      "source": [
        "# a slice that returns the second through the fourth columns is instead given by\n",
        "matrix[:, 2:5]"
      ]
    },
    {
      "cell_type": "markdown",
      "metadata": {},
      "source": [
        "Slicing is instrumental also when replacing elements of an `ndarray`. For example, the code to replace the second through the fourth columns with **ones** is"
      ]
    },
    {
      "cell_type": "code",
      "execution_count": null,
      "metadata": {},
      "outputs": [],
      "source": [
        "matrix[:, 2:5] = [[1, 1, 1], [1, 1, 1]]\n",
        "matrix"
      ]
    },
    {
      "cell_type": "markdown",
      "metadata": {},
      "source": [
        "#### Array manipulation\n",
        "\n",
        "NumPy provides methods to re-organize and re-shape arrays.\n",
        "\n",
        "The methods *vstack* and *hstack* enable to vertically and horizontally stack existing `ndarrays`."
      ]
    },
    {
      "cell_type": "code",
      "execution_count": null,
      "metadata": {},
      "outputs": [],
      "source": [
        "vector_one = np.array([1,2,3,4,5,6,7])\n",
        "vector_two = np.array([8,9,10,11,12,13,14])"
      ]
    },
    {
      "cell_type": "code",
      "execution_count": null,
      "metadata": {},
      "outputs": [],
      "source": [
        "# vertical stacking\n",
        "print(np.vstack([vector_one,vector_two]))"
      ]
    },
    {
      "cell_type": "code",
      "execution_count": null,
      "metadata": {},
      "outputs": [],
      "source": [
        "# horizontal stacking\n",
        "print(np.hstack([vector_one,vector_two]))"
      ]
    },
    {
      "cell_type": "markdown",
      "metadata": {},
      "source": [
        "The method *reshape* instead allows to modify the **shape** of an `ndarray`"
      ]
    },
    {
      "cell_type": "code",
      "execution_count": null,
      "metadata": {},
      "outputs": [],
      "source": [
        "original_matrix = np.vstack([vector_one,vector_two])\n",
        "original_matrix.shape"
      ]
    },
    {
      "cell_type": "code",
      "execution_count": null,
      "metadata": {},
      "outputs": [],
      "source": [
        "original_matrix.reshape((7,2))"
      ]
    },
    {
      "cell_type": "markdown",
      "metadata": {},
      "source": [
        "#### Zeros and ones\n",
        "\n",
        "The following code snippets can be used to create `ndarrays` containing only **zeros** or **ones**. Namely:"
      ]
    },
    {
      "cell_type": "code",
      "execution_count": null,
      "metadata": {},
      "outputs": [],
      "source": [
        "# zeros vector\n",
        "vector_zeros = np.zeros(5)\n",
        "print(vector_zeros)"
      ]
    },
    {
      "cell_type": "code",
      "execution_count": null,
      "metadata": {},
      "outputs": [],
      "source": [
        "# zeros matrix\n",
        "matrix_zeros = np.zeros((5,7))\n",
        "print(matrix_zeros)"
      ]
    },
    {
      "cell_type": "code",
      "execution_count": null,
      "metadata": {},
      "outputs": [],
      "source": [
        "# ones vector\n",
        "vector_ones = np.ones(5)\n",
        "print(vector_ones)"
      ]
    },
    {
      "cell_type": "code",
      "execution_count": null,
      "metadata": {},
      "outputs": [],
      "source": [
        "# ones matrix\n",
        "matrix_ones = np.ones((5,7))\n",
        "print(matrix_ones)"
      ]
    },
    {
      "cell_type": "markdown",
      "metadata": {},
      "source": [
        "#### Linear algebra\n",
        "\n",
        "A NumPy `ndarray` supports *vectorized* operations. For example, it is possible to add, subtract, multiply or divide each element of an `ndarray` using the following compact form (**Note**: this is **not** possible with lists)"
      ]
    },
    {
      "cell_type": "code",
      "execution_count": null,
      "metadata": {},
      "outputs": [],
      "source": [
        "matrix_ones = np.ones((5,7))\n",
        "print(matrix_ones + 2)"
      ]
    },
    {
      "cell_type": "code",
      "execution_count": null,
      "metadata": {},
      "outputs": [],
      "source": [
        "print(matrix_ones * 4)"
      ]
    },
    {
      "cell_type": "code",
      "execution_count": null,
      "metadata": {},
      "outputs": [],
      "source": [
        "print(matrix_ones - 2)"
      ]
    },
    {
      "cell_type": "code",
      "execution_count": null,
      "metadata": {},
      "outputs": [],
      "source": [
        "print(matrix_ones / 4)"
      ]
    },
    {
      "cell_type": "markdown",
      "metadata": {},
      "source": [
        "The *extended* versions of the code snippets above involve the use of a `for` loop to cycle through each element of the `ndarray`.\n",
        "\n",
        "NumPy provides also a function to perform a [matrix multiplication](https://en.wikipedia.org/wiki/Matrix_multiplication)."
      ]
    },
    {
      "cell_type": "code",
      "execution_count": null,
      "metadata": {},
      "outputs": [],
      "source": [
        "matrix_ones = np.ones((5,7))\n",
        "matrix_threes = (matrix_ones + 3).transpose()\n",
        "\n",
        "np.matmul(matrix_ones, matrix_threes)"
      ]
    },
    {
      "cell_type": "markdown",
      "metadata": {},
      "source": [
        "The `@` operator can be used as a shorthand for `np.matmul` on `ndarrays`."
      ]
    },
    {
      "cell_type": "markdown",
      "metadata": {},
      "source": [
        "#### Other useful operations"
      ]
    },
    {
      "cell_type": "markdown",
      "metadata": {},
      "source": [
        "The important *statistics* of an `ndarray` can be determined with the following methods"
      ]
    },
    {
      "cell_type": "code",
      "execution_count": null,
      "metadata": {},
      "outputs": [],
      "source": [
        "# minimum of an ndarray\n",
        "vector.min()"
      ]
    },
    {
      "cell_type": "code",
      "execution_count": null,
      "metadata": {},
      "outputs": [],
      "source": [
        "# maximum of an ndarray\n",
        "vector.max()"
      ]
    },
    {
      "cell_type": "code",
      "execution_count": null,
      "metadata": {},
      "outputs": [],
      "source": [
        "# mean of an ndarray\n",
        "vector.mean()"
      ]
    },
    {
      "cell_type": "markdown",
      "metadata": {},
      "source": [
        "It is also possible to apply these methods to n-dimensional `ndarray`. For example"
      ]
    },
    {
      "cell_type": "code",
      "execution_count": null,
      "metadata": {},
      "outputs": [],
      "source": [
        "# maximum element of the matrix for each column\n",
        "matrix.max(axis=0)"
      ]
    },
    {
      "cell_type": "code",
      "execution_count": null,
      "metadata": {},
      "outputs": [],
      "source": [
        "# maximum element of the matrix for each row\n",
        "matrix.max(axis=1)"
      ]
    },
    {
      "cell_type": "markdown",
      "metadata": {},
      "source": [
        "Finally, the **all** and **any** return `True` or `False` if (respectively) all or any of the elements of the `ndarray` fulfill a given condition. For example"
      ]
    },
    {
      "cell_type": "code",
      "execution_count": null,
      "metadata": {},
      "outputs": [],
      "source": [
        "np.any(vector==9)"
      ]
    },
    {
      "cell_type": "code",
      "execution_count": null,
      "metadata": {},
      "outputs": [],
      "source": [
        "np.any(vector==1)"
      ]
    },
    {
      "cell_type": "code",
      "execution_count": null,
      "metadata": {},
      "outputs": [],
      "source": [
        "np.all(vector==9)"
      ]
    },
    {
      "cell_type": "code",
      "execution_count": null,
      "metadata": {},
      "outputs": [],
      "source": [
        "np.all(vector==1)"
      ]
    },
    {
      "cell_type": "code",
      "execution_count": null,
      "metadata": {},
      "outputs": [],
      "source": [
        "np.all(vector_ones==1)"
      ]
    },
    {
      "cell_type": "markdown",
      "metadata": {},
      "source": [
        "It is also possible to apply these methods to n-dimensional `ndarray` as well. For example"
      ]
    },
    {
      "cell_type": "code",
      "execution_count": null,
      "metadata": {},
      "outputs": [],
      "source": [
        "print(\"Are all the elements by column of the matrix greater than 0?\", np.all(matrix > 0, axis=0))\n",
        "print(\"Are all the elements by row of the matrix greater than 0?\", np.all(matrix > 0, axis=1))\n",
        "print(\"Is any of the elements along the columns of the matrix greater than 6?\", np.all(matrix > 6, axis=0))\n",
        "print(\"Is any of the elements along the rows of the matrix greater than 6?\", np.all(matrix > 6, axis=1))"
      ]
    }
  ],
  "metadata": {
    "colab": {
      "provenance": []
    },
    "kernelspec": {
      "display_name": "mec4131z-env",
      "language": "python",
      "name": "python3"
    },
    "language_info": {
      "codemirror_mode": {
        "name": "ipython",
        "version": 3
      },
      "file_extension": ".py",
      "mimetype": "text/x-python",
      "name": "python",
      "nbconvert_exporter": "python",
      "pygments_lexer": "ipython3",
      "version": "3.12.10"
    }
  },
  "nbformat": 4,
  "nbformat_minor": 0
}
